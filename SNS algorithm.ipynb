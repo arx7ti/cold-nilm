{
 "cells": [
  {
   "cell_type": "markdown",
   "metadata": {},
   "source": [
    "# SNS algorithm\n",
    "Synthesizer of Normalized Signatures "
   ]
  },
  {
   "cell_type": "markdown",
   "metadata": {},
   "source": [
    "## Libraries "
   ]
  },
  {
   "cell_type": "code",
   "execution_count": 5,
   "metadata": {
    "ExecuteTime": {
     "end_time": "2021-06-04T03:09:33.946143Z",
     "start_time": "2021-06-04T03:09:33.944298Z"
    }
   },
   "outputs": [],
   "source": [
    "import os\n",
    "import warnings\n",
    "import numpy as np\n",
    "from math import comb\n",
    "import synthesizer as sns"
   ]
  },
  {
   "cell_type": "markdown",
   "metadata": {},
   "source": [
    "## Parameters "
   ]
  },
  {
   "cell_type": "code",
   "execution_count": 2,
   "metadata": {
    "ExecuteTime": {
     "end_time": "2021-06-04T02:58:40.366299Z",
     "start_time": "2021-06-04T02:58:40.363923Z"
    },
    "init_cell": true
   },
   "outputs": [],
   "source": [
    "# Map each alias-category from other datasets to WHITED\n",
    "MATCHING_MAP = {\"compactfluorescentlamp\": \"cfl\", \"vacuum\": \"vacuumcleaner\",\n",
    "                \"waterkettle\": \"kettle\", \"hairiron\": \"flatiron\",\n",
    "                \"coffeemaker\": \"coffeemachine\",\n",
    "                \"incandescentlightbulb\": \"lightbulb\", \"airconditioner\": \"ac\"}\n",
    "# Datasets mixup and synthesization parameters\n",
    "# Duration of each training/testing example (raw signal)\n",
    "# in seconds:\n",
    "SIGNAL_DURATION = 5\n",
    "# Number of seconds from left and right sides of example's timeline, where\n",
    "# appliance can't be switched off\n",
    "FORBIDDEN_INTERVAL = 2.0\n",
    "# Normalize all voltage magnitudes to the reference value\n",
    "VOLTAGE_STANDARD = 311.0\n",
    "# Normalize all frequencies to the same value (to avoid beats)\n",
    "FREQUENCY_STANDARD = 50\n",
    "# Thresholds\n",
    "THD_THRESH = 0.1\n",
    "ACTIVATION_THRESH = 0.1\n",
    "# Rate after downsampling \n",
    "SAMPLING_RATE = 4000\n",
    "# Random state for reproducability\n",
    "RANDOM_STATE = 0"
   ]
  },
  {
   "cell_type": "markdown",
   "metadata": {},
   "source": [
    "## Normalization and merging "
   ]
  },
  {
   "cell_type": "code",
   "execution_count": 3,
   "metadata": {
    "ExecuteTime": {
     "end_time": "2021-06-04T03:04:55.548690Z",
     "start_time": "2021-06-04T02:58:40.367328Z"
    },
    "scrolled": false
   },
   "outputs": [
    {
     "name": "stderr",
     "output_type": "stream",
     "text": [
      "  0%|                                                                  | 2/1876 [00:00<01:43, 18.04it/s]"
     ]
    },
    {
     "name": "stdout",
     "output_type": "stream",
     "text": [
      "Dataset contains 1339 patterns from 55 categories\n",
      " ['fan', 'massage', 'lightbulb', 'mixer', 'flatiron', 'microwave', 'ledlight', 'iron', 'kettle', 'cablereceiver', 'benchgrinder', 'drillingmachine', 'laserprinter', 'washingmachine', 'halogen', 'gameconsole', 'ricecooker', 'hairdryer', 'mosquitorepellent', 'charger', 'airpump', 'shredder', 'toaster', 'coffeemachine', 'treadmill', 'powersupply', 'waterheater', 'tv', 'laptop', 'stove', 'networkswitch', 'vacuumcleaner', 'fridge', 'desktoppc', 'fanheater', 'monitor', 'multitool', 'hifi', 'solderingiron', 'halogenfluter', 'ac', 'deepfryer', 'shoewarmer', 'juicemaker', 'cfl', 'projector', 'sewingmachine', 'sandwichmaker', 'waterpump', 'desoldering', 'kitchenhood', 'heater', 'guitaramp', 'cablemodem', 'jigsaw']\n"
     ]
    },
    {
     "name": "stderr",
     "output_type": "stream",
     "text": [
      "100%|███████████████████████████████████████████████████████████████| 1876/1876 [03:42<00:00,  8.44it/s]\n",
      "/home/arx7ti/tmp/cold-nilm/synthesizer.py:360: UserWarning: 208 patterns were skipped\n",
      "  warnings.warn(\"%d patterns were skipped\" % skips)\n"
     ]
    },
    {
     "name": "stdout",
     "output_type": "stream",
     "text": [
      "Dataset contains 1668 patterns from 16 categories\n",
      " ['cfl', 'fridge', 'hairdryer', 'ac', 'laptop', 'microwave', 'vacuumcleaner', 'lightbulb', 'fan', 'washingmachine', 'heater', 'coffeemachine', 'kettle', 'flatiron', 'solderingiron', 'blender']\n",
      "15 categories intersects\n",
      " ['solderingiron', 'fridge', 'laptop', 'washingmachine', 'hairdryer', 'lightbulb', 'heater', 'fan', 'cfl', 'coffeemachine', 'kettle', 'flatiron', 'ac', 'microwave', 'vacuumcleaner']\n",
      "56 categories in merged dataset\n",
      " ['fan', 'massage', 'lightbulb', 'mixer', 'flatiron', 'microwave', 'ledlight', 'iron', 'kettle', 'cablereceiver', 'benchgrinder', 'drillingmachine', 'laserprinter', 'washingmachine', 'halogen', 'gameconsole', 'ricecooker', 'hairdryer', 'mosquitorepellent', 'charger', 'airpump', 'shredder', 'toaster', 'coffeemachine', 'treadmill', 'powersupply', 'waterheater', 'tv', 'laptop', 'stove', 'networkswitch', 'vacuumcleaner', 'fridge', 'desktoppc', 'fanheater', 'monitor', 'multitool', 'hifi', 'solderingiron', 'halogenfluter', 'ac', 'deepfryer', 'shoewarmer', 'juicemaker', 'cfl', 'projector', 'sewingmachine', 'sandwichmaker', 'waterpump', 'desoldering', 'kitchenhood', 'heater', 'guitaramp', 'cablemodem', 'jigsaw', 'blender']\n",
      "1 categories will be dropped.\n",
      "['blender']\n"
     ]
    }
   ],
   "source": [
    "whited_dataset = sns.read_whited(\"/home/arx7ti/datasets/whited\",\n",
    "                                 downsampling=SAMPLING_RATE,\n",
    "                                 voltage_standard=VOLTAGE_STANDARD,\n",
    "                                 frequency_standard=FREQUENCY_STANDARD,\n",
    "                                 thd_thresh=THD_THRESH,\n",
    "                                 max_duration=SIGNAL_DURATION)\n",
    "plaid_dataset = sns.read_plaid(\"/home/arx7ti/datasets/plaid\",\n",
    "                               downsampling=SAMPLING_RATE,\n",
    "                               voltage_standard=VOLTAGE_STANDARD,\n",
    "                               frequency_standard=FREQUENCY_STANDARD,\n",
    "                               activation_thresh=ACTIVATION_THRESH,\n",
    "                               thd_thresh=THD_THRESH,\n",
    "                               max_duration=SIGNAL_DURATION,\n",
    "                               matching_map=MATCHING_MAP)\n",
    "patterns = sns.merge_datasets(whited_dataset, plaid_dataset)\n",
    "sns.drop_empty_categories(patterns, inplace=True)"
   ]
  },
  {
   "cell_type": "markdown",
   "metadata": {},
   "source": [
    "## Save/load patterns "
   ]
  },
  {
   "cell_type": "code",
   "execution_count": 13,
   "metadata": {
    "ExecuteTime": {
     "end_time": "2021-06-04T03:12:13.734971Z",
     "start_time": "2021-06-04T03:12:13.489694Z"
    }
   },
   "outputs": [],
   "source": [
    "try:\n",
    "    patterns = np.load(\"./synthetic/patterns.npy\", allow_pickle=True).item()\n",
    "except:\n",
    "    os.makedirs(\"synthetic\", exist_ok=True)\n",
    "    np.save(\"./synthetic/patterns.npy\", patterns)"
   ]
  },
  {
   "cell_type": "markdown",
   "metadata": {},
   "source": [
    "## Train/validation/test splits for each experiment "
   ]
  },
  {
   "cell_type": "markdown",
   "metadata": {},
   "source": [
    "### Subsets for Experiment 1"
   ]
  },
  {
   "cell_type": "code",
   "execution_count": 14,
   "metadata": {
    "ExecuteTime": {
     "end_time": "2021-06-04T03:12:18.426968Z",
     "start_time": "2021-06-04T03:12:18.312052Z"
    }
   },
   "outputs": [
    {
     "name": "stdout",
     "output_type": "stream",
     "text": [
      "44 categories will be dropped.\n"
     ]
    }
   ],
   "source": [
    "patterns_1 = sns.filter_categories(patterns, [\"cfl\", \"fridge\",  \"ac\", \"laptop\",\n",
    "                                              \"vacuumcleaner\", \"lightbulb\",\n",
    "                                              \"fan\", \"coffeemachine\", \"kettle\",\n",
    "                                              \"flatiron\", \"solderingiron\"])\n",
    "train_patterns_1, validation_patterns_1, test_patterns_1 = sns.split(\n",
    "    patterns_1, ratios=[0.6, 0.1], random_state=RANDOM_STATE, verbose=False)"
   ]
  },
  {
   "cell_type": "markdown",
   "metadata": {},
   "source": [
    "### Subsets for Experiment 2"
   ]
  },
  {
   "cell_type": "code",
   "execution_count": 15,
   "metadata": {
    "ExecuteTime": {
     "end_time": "2021-06-04T03:12:18.758058Z",
     "start_time": "2021-06-04T03:12:18.660372Z"
    }
   },
   "outputs": [
    {
     "name": "stdout",
     "output_type": "stream",
     "text": [
      "50 categories will be dropped.\n"
     ]
    }
   ],
   "source": [
    "patterns_2 = sns.filter_categories(patterns, [\"kettle\", \"microwave\", \n",
    "                                          \"washingmachine\", \"fridge\",\n",
    "                                          \"vacuumcleaner\"])\n",
    "train_patterns_2, validation_patterns_2, test_patterns_2 = sns.split(\n",
    "    patterns_2, ratios=[0.6, 0.1], random_state=RANDOM_STATE,verbose=False)"
   ]
  },
  {
   "cell_type": "markdown",
   "metadata": {},
   "source": [
    "### Subsets for Experiment 3"
   ]
  },
  {
   "cell_type": "code",
   "execution_count": 16,
   "metadata": {
    "ExecuteTime": {
     "end_time": "2021-06-04T03:12:19.108397Z",
     "start_time": "2021-06-04T03:12:19.027884Z"
    }
   },
   "outputs": [],
   "source": [
    "train_patterns_3, validation_patterns_3, test_patterns_3 = sns.split(\n",
    "    patterns, ratios=[0.6, 0.1], random_state=RANDOM_STATE,verbose=False)"
   ]
  },
  {
   "cell_type": "markdown",
   "metadata": {},
   "source": [
    "## Synthesization "
   ]
  },
  {
   "cell_type": "code",
   "execution_count": 17,
   "metadata": {
    "ExecuteTime": {
     "end_time": "2021-06-04T03:12:19.355484Z",
     "start_time": "2021-06-04T03:12:19.353772Z"
    }
   },
   "outputs": [],
   "source": [
    "warnings.filterwarnings('ignore')"
   ]
  },
  {
   "cell_type": "markdown",
   "metadata": {},
   "source": [
    "### Synthetic data for experiment 1"
   ]
  },
  {
   "cell_type": "code",
   "execution_count": 18,
   "metadata": {
    "ExecuteTime": {
     "end_time": "2021-06-04T03:12:19.682566Z",
     "start_time": "2021-06-04T03:12:19.680909Z"
    }
   },
   "outputs": [],
   "source": [
    "TRAIN_DATASET_PATH_1 = \"./synthetic/train_1\"\n",
    "VALIDATION_DATASET_PATH_1 = \"./synthetic/validation_1\"\n",
    "TEST_DATASET_PATH_1 = \"./synthetic/test_1\""
   ]
  },
  {
   "cell_type": "code",
   "execution_count": 19,
   "metadata": {
    "ExecuteTime": {
     "end_time": "2021-06-04T03:12:19.842306Z",
     "start_time": "2021-06-04T03:12:19.839964Z"
    },
    "scrolled": false
   },
   "outputs": [
    {
     "name": "stdout",
     "output_type": "stream",
     "text": [
      "Combination bound for 1 labels = 11\n",
      "Combination bound for 2 labels = 55\n",
      "Combination bound for 3 labels = 165\n"
     ]
    }
   ],
   "source": [
    "for i in range(1, 4):\n",
    "    print(\"Combination bound for %d labels = %d\" %\n",
    "          (i, comb(len(train_patterns_1), i)))"
   ]
  },
  {
   "cell_type": "code",
   "execution_count": 20,
   "metadata": {
    "ExecuteTime": {
     "end_time": "2021-06-04T03:12:20.001114Z",
     "start_time": "2021-06-04T03:12:19.997297Z"
    }
   },
   "outputs": [
    {
     "data": {
      "text/plain": [
       "{'medians': (67, 11, 35), 'sizes': (864, 141, 440)}"
      ]
     },
     "execution_count": 20,
     "metadata": {},
     "output_type": "execute_result"
    }
   ],
   "source": [
    "stats_1 = sns.get_stats(train_patterns_1, validation_patterns_1, test_patterns_1)\n",
    "train_median_1, val_median_1, test_median_1 = stats_1[\"medians\"]\n",
    "train_size_1, val_size_1, test_size_1 = stats_1[\"sizes\"]\n",
    "stats_1"
   ]
  },
  {
   "cell_type": "code",
   "execution_count": 21,
   "metadata": {
    "ExecuteTime": {
     "end_time": "2021-06-04T03:12:20.157245Z",
     "start_time": "2021-06-04T03:12:20.154663Z"
    },
    "scrolled": false
   },
   "outputs": [],
   "source": [
    "# Limits for distribution and multiplicity of labels.\n",
    "# Key is number of simultaneously working devices\n",
    "# Value is tuple from combination limit and representation limit respectively\n",
    "TRAIN_LIMITS_1 = {1: (train_size_1, train_size_1), 2: (\n",
    "    55, 55*train_median_1), 3: (165, 165*train_median_1)}\n",
    "VALIDATION_LIMITS_1 = {1: (val_size_1, val_size_1), 2: (\n",
    "    55, 55*val_median_1), 3: (165, 165*val_median_1)}\n",
    "TEST_LIMITS_1 = {1: (test_size_1, test_size_1), 2: (\n",
    "    55, 55*test_median_1),  3: (165, 165*test_median_1)}"
   ]
  },
  {
   "cell_type": "code",
   "execution_count": 22,
   "metadata": {
    "ExecuteTime": {
     "end_time": "2021-06-04T03:12:20.331549Z",
     "start_time": "2021-06-04T03:12:20.326052Z"
    },
    "scrolled": false
   },
   "outputs": [
    {
     "name": "stdout",
     "output_type": "stream",
     "text": [
      "Train subset\n",
      "total reprs 15604\n",
      "total combs 1084\n",
      "reprs/comb [1.0, 67.0, 67.0]\n",
      "\n",
      "Validation subset\n",
      "total reprs 2561\n",
      "total combs 361\n",
      "reprs/comb [1.0, 11.0, 11.0]\n",
      "\n",
      "Test subset\n",
      "total reprs 8140\n",
      "total combs 660\n",
      "reprs/comb [1.0, 35.0, 35.0]\n"
     ]
    }
   ],
   "source": [
    "print(\"Train subset\")\n",
    "print(\"total reprs\", sum([v[1] for v in TRAIN_LIMITS_1.values()]))\n",
    "print(\"total combs\", sum([v[0] for v in TRAIN_LIMITS_1.values()]))\n",
    "print(\"reprs/comb\", [v[1]/v[0] for v in TRAIN_LIMITS_1.values()])\n",
    "print(\"\\nValidation subset\")\n",
    "print(\"total reprs\", sum([v[1] for v in VALIDATION_LIMITS_1.values()]))\n",
    "print(\"total combs\", sum([v[0] for v in VALIDATION_LIMITS_1.values()]))\n",
    "print(\"reprs/comb\", [v[1]/v[0] for v in VALIDATION_LIMITS_1.values()])\n",
    "print(\"\\nTest subset\")\n",
    "print(\"total reprs\", sum([v[1] for v in TEST_LIMITS_1.values()]))\n",
    "print(\"total combs\", sum([v[0] for v in TEST_LIMITS_1.values()]))\n",
    "print(\"reprs/comb\", [v[1]/v[0] for v in TEST_LIMITS_1.values()])"
   ]
  },
  {
   "cell_type": "code",
   "execution_count": 23,
   "metadata": {
    "ExecuteTime": {
     "end_time": "2021-06-04T03:13:53.481676Z",
     "start_time": "2021-06-04T03:12:20.479832Z"
    }
   },
   "outputs": [
    {
     "name": "stdout",
     "output_type": "stream",
     "text": [
      "Collection 1 is in progress...\n",
      "[DISTRIBUTION] 11 combinations from 1 labels; 864 examples.\n",
      "Collection 1 is ready.\n",
      "Collection 2 is in progress...\n",
      "[DISTRIBUTION] 55 combinations from 2 labels; 3685 examples.\n",
      "[SKIP] # Collisions = 3 @ ('coffeemachine', 'fridge')\n",
      "[SKIP] # Collisions = 11 @ ('flatiron', 'solderingiron')\n",
      "[SKIP] # Collisions = 9 @ ('coffeemachine', 'solderingiron')\n",
      "[SKIP] # Collisions = 10 @ ('coffeemachine', 'flatiron')\n",
      "[SKIP] # Collisions = 1 @ ('coffeemachine', 'kettle')\n",
      "[SKIP] # Collisions = 1 @ ('kettle', 'solderingiron')\n",
      "[SKIP] # Collisions = 1 @ ('flatiron', 'fridge')\n",
      "Collection 2 is ready.\n",
      "Collection 3 is in progress...\n",
      "[DISTRIBUTION] 165 combinations from 3 labels; 11055 examples.\n",
      "[SKIP] # Collisions = 1 @ ('flatiron', 'fridge', 'solderingiron')\n",
      "[SKIP] # Collisions = 1 @ ('coffeemachine', 'flatiron', 'solderingiron')\n",
      "Collection 3 is ready.\n"
     ]
    }
   ],
   "source": [
    "sns.build_dataset(\"train\", train_patterns_1, TRAIN_LIMITS_1,\n",
    "              collection_path=TRAIN_DATASET_PATH_1,\n",
    "              signal_duration=SIGNAL_DURATION,\n",
    "              forbidden_interval=FORBIDDEN_INTERVAL,\n",
    "              voltage_magnitude=VOLTAGE_STANDARD,\n",
    "              fundamental=FREQUENCY_STANDARD, sampling_rate=SAMPLING_RATE,\n",
    "              p_fft=5, p_hop=1, verbose=True, to_specgrams=True,\n",
    "              to_features=False, n_jobs=24, random_state=RANDOM_STATE)"
   ]
  },
  {
   "cell_type": "code",
   "execution_count": 24,
   "metadata": {
    "ExecuteTime": {
     "end_time": "2021-06-04T03:14:10.881946Z",
     "start_time": "2021-06-04T03:13:53.482800Z"
    },
    "scrolled": false
   },
   "outputs": [
    {
     "name": "stdout",
     "output_type": "stream",
     "text": [
      "Collection 1 is in progress...\n",
      "[DISTRIBUTION] 11 combinations from 1 labels; 141 examples.\n",
      "Collection 1 is ready.\n",
      "Collection 2 is in progress...\n",
      "[DISTRIBUTION] 55 combinations from 2 labels; 584 examples.\n",
      "[SKIP] # Collisions = 1 @ ('kettle', 'solderingiron')\n",
      "[SKIP] # Collisions = 1 @ ('fridge', 'solderingiron')\n",
      "[SKIP] # Collisions = 1 @ ('flatiron', 'solderingiron')\n",
      "[SKIP] # Collisions = 1 @ ('flatiron', 'kettle')\n",
      "[SKIP] # Collisions = 1 @ ('coffeemachine', 'flatiron')\n",
      "[SKIP] # Collisions = 1 @ ('coffeemachine', 'fridge')\n",
      "Collection 2 is ready.\n",
      "Collection 3 is in progress...\n",
      "[DISTRIBUTION] 165 combinations from 3 labels; 1812 examples.\n",
      "[SKIP] # Collisions = 1 @ ('coffeemachine', 'flatiron', 'kettle')\n",
      "[SKIP] # Collisions = 1 @ ('coffeemachine', 'flatiron', 'fridge')\n",
      "[SKIP] # Collisions = 3 @ ('coffeemachine', 'flatiron', 'solderingiron')\n",
      "[SKIP] # Collisions = 1 @ ('coffeemachine', 'kettle', 'solderingiron')\n",
      "[SKIP] # Collisions = 1 @ ('coffeemachine', 'fridge', 'kettle')\n",
      "[SKIP] # Collisions = 1 @ ('flatiron', 'fridge', 'solderingiron')\n",
      "[SKIP] # Collisions = 1 @ ('flatiron', 'kettle', 'solderingiron')\n",
      "Collection 3 is ready.\n"
     ]
    }
   ],
   "source": [
    "sns.build_dataset(\"val\", validation_patterns_1, VALIDATION_LIMITS_1,\n",
    "              collection_path=VALIDATION_DATASET_PATH_1,\n",
    "              signal_duration=SIGNAL_DURATION,\n",
    "              forbidden_interval=FORBIDDEN_INTERVAL,\n",
    "              voltage_magnitude=VOLTAGE_STANDARD,\n",
    "              fundamental=FREQUENCY_STANDARD, sampling_rate=SAMPLING_RATE,\n",
    "              p_fft=5, p_hop=1, verbose=True, to_specgrams=True,\n",
    "              to_features=False, n_jobs=24, random_state=RANDOM_STATE)"
   ]
  },
  {
   "cell_type": "code",
   "execution_count": 25,
   "metadata": {
    "ExecuteTime": {
     "end_time": "2021-06-04T03:14:59.827235Z",
     "start_time": "2021-06-04T03:14:10.883386Z"
    },
    "scrolled": false
   },
   "outputs": [
    {
     "name": "stdout",
     "output_type": "stream",
     "text": [
      "Collection 1 is in progress...\n",
      "[DISTRIBUTION] 11 combinations from 1 labels; 440 examples.\n",
      "Collection 1 is ready.\n",
      "Collection 2 is in progress...\n",
      "[DISTRIBUTION] 55 combinations from 2 labels; 1925 examples.\n",
      "[SKIP] # Collisions = 1 @ ('coffeemachine', 'kettle')\n",
      "[SKIP] # Collisions = 11 @ ('coffeemachine', 'solderingiron')\n",
      "[SKIP] # Collisions = 13 @ ('coffeemachine', 'flatiron')\n",
      "[SKIP] # Collisions = 1 @ ('fridge', 'solderingiron')\n",
      "[SKIP] # Collisions = 1 @ ('fridge', 'kettle')\n",
      "[SKIP] # Collisions = 1 @ ('coffeemachine', 'fridge')\n",
      "[SKIP] # Collisions = 9 @ ('flatiron', 'solderingiron')\n",
      "[SKIP] # Collisions = 2 @ ('flatiron', 'fridge')\n",
      "[SKIP] # Collisions = 1 @ ('flatiron', 'kettle')\n",
      "[SKIP] # Collisions = 1 @ ('kettle', 'solderingiron')\n",
      "Collection 2 is ready.\n",
      "Collection 3 is in progress...\n",
      "[DISTRIBUTION] 165 combinations from 3 labels; 5775 examples.\n",
      "[SKIP] # Collisions = 1 @ ('coffeemachine', 'kettle', 'solderingiron')\n",
      "Collection 3 is ready.\n"
     ]
    }
   ],
   "source": [
    "sns.build_dataset(\"test\", test_patterns_1, TEST_LIMITS_1,\n",
    "              collection_path=TEST_DATASET_PATH_1,\n",
    "              signal_duration=SIGNAL_DURATION,\n",
    "              forbidden_interval=FORBIDDEN_INTERVAL,\n",
    "              voltage_magnitude=VOLTAGE_STANDARD,\n",
    "              fundamental=FREQUENCY_STANDARD, sampling_rate=SAMPLING_RATE,\n",
    "              p_fft=5, p_hop=1, verbose=True, to_specgrams=True,\n",
    "              to_features=False, n_jobs=24, random_state=RANDOM_STATE)"
   ]
  },
  {
   "cell_type": "markdown",
   "metadata": {},
   "source": [
    "### Synthetic data for experiment 2"
   ]
  },
  {
   "cell_type": "code",
   "execution_count": 26,
   "metadata": {
    "ExecuteTime": {
     "end_time": "2021-06-04T03:14:59.830706Z",
     "start_time": "2021-06-04T03:14:59.828824Z"
    }
   },
   "outputs": [],
   "source": [
    "TRAIN_DATASET_PATH_2 = \"./synthetic/train_2\"\n",
    "VALIDATION_DATASET_PATH_2 = \"./synthetic/validation_2\"\n",
    "TEST_DATASET_PATH_2 = \"./synthetic/test_2\""
   ]
  },
  {
   "cell_type": "code",
   "execution_count": 27,
   "metadata": {
    "ExecuteTime": {
     "end_time": "2021-06-04T03:14:59.835416Z",
     "start_time": "2021-06-04T03:14:59.831596Z"
    },
    "scrolled": false
   },
   "outputs": [
    {
     "name": "stdout",
     "output_type": "stream",
     "text": [
      "Combination bound for 1 labels = 5\n",
      "Combination bound for 2 labels = 10\n",
      "Combination bound for 3 labels = 10\n",
      "Combination bound for 4 labels = 5\n"
     ]
    }
   ],
   "source": [
    "for i in range(1, 5):\n",
    "    print(\"Combination bound for %d labels = %d\" %\n",
    "          (i, comb(len(train_patterns_2), i)))"
   ]
  },
  {
   "cell_type": "code",
   "execution_count": 28,
   "metadata": {
    "ExecuteTime": {
     "end_time": "2021-06-04T03:14:59.840669Z",
     "start_time": "2021-06-04T03:14:59.836098Z"
    }
   },
   "outputs": [
    {
     "data": {
      "text/plain": [
       "{'medians': (57, 9, 29), 'sizes': (364, 58, 188)}"
      ]
     },
     "execution_count": 28,
     "metadata": {},
     "output_type": "execute_result"
    }
   ],
   "source": [
    "stats_2 = sns.get_stats(train_patterns_2, validation_patterns_2, test_patterns_2)\n",
    "train_median_2, val_median_2, test_median_2 = stats_2[\"medians\"]\n",
    "train_size_2, val_size_2, test_size_2 = stats_2[\"sizes\"]\n",
    "stats_2"
   ]
  },
  {
   "cell_type": "code",
   "execution_count": 29,
   "metadata": {
    "ExecuteTime": {
     "end_time": "2021-06-04T03:14:59.847218Z",
     "start_time": "2021-06-04T03:14:59.841345Z"
    },
    "scrolled": false
   },
   "outputs": [],
   "source": [
    "# Limits for distribution and multiplicity of labels.\n",
    "# Key is number of simultaneously working devices\n",
    "# Value is tuple from combination limit and representation limit respectively\n",
    "TRAIN_LIMITS_2 = {1: (5, 5*train_median_2), 2: (10, 10*train_median_2),\n",
    "                  3: (10, 10*train_median_2), 4: (5, 5*train_median_2)}\n",
    "VALIDATION_LIMITS_2 = {1: (val_size_2, val_size_2), 2: (\n",
    "    10, 10*val_median_2), 3: (10, 10*val_median_2), 4: (5, 5*val_median_2)}\n",
    "TEST_LIMITS_2 = {1: (test_size_2, test_size_2), 2: (10, 10*test_median_2),\n",
    "                 3: (10, 10*test_median_2), 4: (5, 5*test_median_2)}"
   ]
  },
  {
   "cell_type": "code",
   "execution_count": 30,
   "metadata": {
    "ExecuteTime": {
     "end_time": "2021-06-04T03:14:59.855930Z",
     "start_time": "2021-06-04T03:14:59.848449Z"
    },
    "scrolled": false
   },
   "outputs": [
    {
     "name": "stdout",
     "output_type": "stream",
     "text": [
      "Train subset\n",
      "total reprs 1710\n",
      "total combs 30\n",
      "reprs/comb [57.0, 57.0, 57.0, 57.0]\n",
      "\n",
      "Validation subset\n",
      "total reprs 283\n",
      "total combs 83\n",
      "reprs/comb [1.0, 9.0, 9.0, 9.0]\n",
      "\n",
      "Test subset\n",
      "total reprs 913\n",
      "total combs 213\n",
      "reprs/comb [1.0, 29.0, 29.0, 29.0]\n"
     ]
    }
   ],
   "source": [
    "print(\"Train subset\")\n",
    "print(\"total reprs\", sum([v[1] for v in TRAIN_LIMITS_2.values()]))\n",
    "print(\"total combs\", sum([v[0] for v in TRAIN_LIMITS_2.values()]))\n",
    "print(\"reprs/comb\", [v[1]/v[0] for v in TRAIN_LIMITS_2.values()])\n",
    "print(\"\\nValidation subset\")\n",
    "print(\"total reprs\", sum([v[1] for v in VALIDATION_LIMITS_2.values()]))\n",
    "print(\"total combs\", sum([v[0] for v in VALIDATION_LIMITS_2.values()]))\n",
    "print(\"reprs/comb\", [v[1]/v[0] for v in VALIDATION_LIMITS_2.values()])\n",
    "print(\"\\nTest subset\")\n",
    "print(\"total reprs\", sum([v[1] for v in TEST_LIMITS_2.values()]))\n",
    "print(\"total combs\", sum([v[0] for v in TEST_LIMITS_2.values()]))\n",
    "print(\"reprs/comb\", [v[1]/v[0] for v in TEST_LIMITS_2.values()])"
   ]
  },
  {
   "cell_type": "code",
   "execution_count": 31,
   "metadata": {
    "ExecuteTime": {
     "end_time": "2021-06-04T03:15:21.653808Z",
     "start_time": "2021-06-04T03:14:59.856721Z"
    }
   },
   "outputs": [
    {
     "name": "stdout",
     "output_type": "stream",
     "text": [
      "Collection 1 is in progress...\n",
      "[DISTRIBUTION] 5 combinations from 1 labels; 284 examples.\n",
      "Collection 1 is ready.\n",
      "Collection 2 is in progress...\n",
      "[DISTRIBUTION] 10 combinations from 2 labels; 570 examples.\n",
      "Collection 2 is ready.\n",
      "Collection 3 is in progress...\n",
      "[DISTRIBUTION] 10 combinations from 3 labels; 570 examples.\n",
      "Collection 3 is ready.\n",
      "Collection 4 is in progress...\n",
      "[DISTRIBUTION] 5 combinations from 4 labels; 285 examples.\n",
      "Collection 4 is ready.\n"
     ]
    }
   ],
   "source": [
    "sns.build_dataset(\"train\", train_patterns_2, TRAIN_LIMITS_2,\n",
    "              collection_path=TRAIN_DATASET_PATH_2,\n",
    "              signal_duration=SIGNAL_DURATION,\n",
    "              forbidden_interval=FORBIDDEN_INTERVAL,\n",
    "              voltage_magnitude=VOLTAGE_STANDARD,\n",
    "              fundamental=FREQUENCY_STANDARD, sampling_rate=SAMPLING_RATE,\n",
    "              p_fft=5, p_hop=1, verbose=True, to_specgrams=True,\n",
    "              to_features=False, n_jobs=24, random_state=RANDOM_STATE)"
   ]
  },
  {
   "cell_type": "code",
   "execution_count": 32,
   "metadata": {
    "ExecuteTime": {
     "end_time": "2021-06-04T03:15:27.095143Z",
     "start_time": "2021-06-04T03:15:21.654722Z"
    },
    "scrolled": false
   },
   "outputs": [
    {
     "name": "stdout",
     "output_type": "stream",
     "text": [
      "Collection 1 is in progress...\n",
      "[DISTRIBUTION] 5 combinations from 1 labels; 58 examples.\n",
      "Collection 1 is ready.\n",
      "Collection 2 is in progress...\n",
      "[DISTRIBUTION] 10 combinations from 2 labels; 90 examples.\n",
      "Collection 2 is ready.\n",
      "Collection 3 is in progress...\n",
      "[DISTRIBUTION] 10 combinations from 3 labels; 90 examples.\n",
      "Collection 3 is ready.\n",
      "Collection 4 is in progress...\n",
      "[DISTRIBUTION] 5 combinations from 4 labels; 45 examples.\n",
      "Collection 4 is ready.\n"
     ]
    }
   ],
   "source": [
    "sns.build_dataset(\"val\", validation_patterns_2, VALIDATION_LIMITS_2,\n",
    "              collection_path=VALIDATION_DATASET_PATH_2,\n",
    "              signal_duration=SIGNAL_DURATION,\n",
    "              forbidden_interval=FORBIDDEN_INTERVAL,\n",
    "              voltage_magnitude=VOLTAGE_STANDARD,\n",
    "              fundamental=FREQUENCY_STANDARD, sampling_rate=SAMPLING_RATE,\n",
    "              p_fft=5, p_hop=1, verbose=True, to_specgrams=True,\n",
    "              to_features=False, n_jobs=24, random_state=RANDOM_STATE)"
   ]
  },
  {
   "cell_type": "code",
   "execution_count": 33,
   "metadata": {
    "ExecuteTime": {
     "end_time": "2021-06-04T03:15:39.079468Z",
     "start_time": "2021-06-04T03:15:27.095982Z"
    },
    "scrolled": false
   },
   "outputs": [
    {
     "name": "stdout",
     "output_type": "stream",
     "text": [
      "Collection 1 is in progress...\n",
      "[DISTRIBUTION] 5 combinations from 1 labels; 188 examples.\n",
      "Collection 1 is ready.\n",
      "Collection 2 is in progress...\n",
      "[DISTRIBUTION] 10 combinations from 2 labels; 290 examples.\n",
      "Collection 2 is ready.\n",
      "Collection 3 is in progress...\n",
      "[DISTRIBUTION] 10 combinations from 3 labels; 290 examples.\n",
      "Collection 3 is ready.\n",
      "Collection 4 is in progress...\n",
      "[DISTRIBUTION] 5 combinations from 4 labels; 145 examples.\n",
      "Collection 4 is ready.\n"
     ]
    }
   ],
   "source": [
    "sns.build_dataset(\"test\", test_patterns_2, TEST_LIMITS_2,\n",
    "              collection_path=TEST_DATASET_PATH_2,\n",
    "              signal_duration=SIGNAL_DURATION,\n",
    "              forbidden_interval=FORBIDDEN_INTERVAL,\n",
    "              voltage_magnitude=VOLTAGE_STANDARD,\n",
    "              fundamental=FREQUENCY_STANDARD, sampling_rate=SAMPLING_RATE,\n",
    "              p_fft=5, p_hop=1, verbose=True, to_specgrams=True,\n",
    "              to_features=False, n_jobs=24, random_state=RANDOM_STATE)"
   ]
  },
  {
   "cell_type": "markdown",
   "metadata": {},
   "source": [
    "### Synthetic data for experiment 3"
   ]
  },
  {
   "cell_type": "code",
   "execution_count": 34,
   "metadata": {
    "ExecuteTime": {
     "end_time": "2021-06-04T03:15:39.081957Z",
     "start_time": "2021-06-04T03:15:39.080313Z"
    }
   },
   "outputs": [],
   "source": [
    "TRAIN_DATASET_PATH_3 = \"./synthetic/train_3\"\n",
    "VALIDATION_DATASET_PATH_3 = \"./synthetic/validation_3\"\n",
    "TEST_DATASET_PATH_3 = \"./synthetic/test_3\""
   ]
  },
  {
   "cell_type": "code",
   "execution_count": 35,
   "metadata": {
    "ExecuteTime": {
     "end_time": "2021-06-04T03:15:39.095590Z",
     "start_time": "2021-06-04T03:15:39.082620Z"
    },
    "scrolled": false
   },
   "outputs": [
    {
     "name": "stdout",
     "output_type": "stream",
     "text": [
      "Combination bound for 1 labels = 55\n",
      "Combination bound for 2 labels = 1485\n",
      "Combination bound for 3 labels = 26235\n",
      "Combination bound for 4 labels = 341055\n",
      "Combination bound for 5 labels = 3478761\n",
      "Combination bound for 6 labels = 28989675\n",
      "Combination bound for 7 labels = 202927725\n",
      "Combination bound for 8 labels = 1217566350\n",
      "Combination bound for 9 labels = 6358402050\n",
      "Combination bound for 10 labels = 29248649430\n",
      "Combination bound for 11 labels = 119653565850\n",
      "Combination bound for 12 labels = 438729741450\n",
      "Combination bound for 13 labels = 1451182990950\n",
      "Combination bound for 14 labels = 4353548972850\n",
      "Combination bound for 15 labels = 11899700525790\n",
      "Combination bound for 16 labels = 29749251314475\n",
      "Combination bound for 17 labels = 68248282427325\n",
      "Combination bound for 18 labels = 144079707346575\n",
      "Combination bound for 19 labels = 280576272201225\n",
      "Combination bound for 20 labels = 505037289962205\n",
      "Combination bound for 21 labels = 841728816603675\n",
      "Combination bound for 22 labels = 1300853625660225\n",
      "Combination bound for 23 labels = 1866442158555975\n",
      "Combination bound for 24 labels = 2488589544741300\n",
      "Combination bound for 25 labels = 3085851035479212\n",
      "Combination bound for 26 labels = 3560597348629860\n",
      "Combination bound for 27 labels = 3824345300380220\n",
      "Combination bound for 28 labels = 3824345300380220\n",
      "Combination bound for 29 labels = 3560597348629860\n",
      "Combination bound for 30 labels = 3085851035479212\n",
      "Combination bound for 31 labels = 2488589544741300\n",
      "Combination bound for 32 labels = 1866442158555975\n",
      "Combination bound for 33 labels = 1300853625660225\n",
      "Combination bound for 34 labels = 841728816603675\n",
      "Combination bound for 35 labels = 505037289962205\n",
      "Combination bound for 36 labels = 280576272201225\n",
      "Combination bound for 37 labels = 144079707346575\n",
      "Combination bound for 38 labels = 68248282427325\n",
      "Combination bound for 39 labels = 29749251314475\n",
      "Combination bound for 40 labels = 11899700525790\n",
      "Combination bound for 41 labels = 4353548972850\n",
      "Combination bound for 42 labels = 1451182990950\n",
      "Combination bound for 43 labels = 438729741450\n",
      "Combination bound for 44 labels = 119653565850\n",
      "Combination bound for 45 labels = 29248649430\n",
      "Combination bound for 46 labels = 6358402050\n",
      "Combination bound for 47 labels = 1217566350\n",
      "Combination bound for 48 labels = 202927725\n",
      "Combination bound for 49 labels = 28989675\n",
      "Combination bound for 50 labels = 3478761\n",
      "Combination bound for 51 labels = 341055\n",
      "Combination bound for 52 labels = 26235\n",
      "Combination bound for 53 labels = 1485\n",
      "Combination bound for 54 labels = 55\n",
      "Combination bound for 55 labels = 1\n"
     ]
    }
   ],
   "source": [
    "for i in range(1, len(train_patterns_3)+1):\n",
    "    print(\"Combination bound for %d labels = %d\" %\n",
    "          (i, comb(len(train_patterns_3), i)))"
   ]
  },
  {
   "cell_type": "code",
   "execution_count": 36,
   "metadata": {
    "ExecuteTime": {
     "end_time": "2021-06-04T03:15:39.099755Z",
     "start_time": "2021-06-04T03:15:39.096257Z"
    }
   },
   "outputs": [
    {
     "data": {
      "text/plain": [
       "{'medians': (12, 2, 6), 'sizes': (1800, 295, 912)}"
      ]
     },
     "execution_count": 36,
     "metadata": {},
     "output_type": "execute_result"
    }
   ],
   "source": [
    "stats_3 = sns.get_stats(train_patterns_3, validation_patterns_3, test_patterns_3)\n",
    "train_median_3, val_median_3, test_median_3 = stats_3[\"medians\"]\n",
    "train_size_3, val_size_3, test_size_3 = stats_3[\"sizes\"]\n",
    "stats_3"
   ]
  },
  {
   "cell_type": "code",
   "execution_count": 37,
   "metadata": {
    "ExecuteTime": {
     "end_time": "2021-06-04T03:15:39.104824Z",
     "start_time": "2021-06-04T03:15:39.100402Z"
    },
    "scrolled": false
   },
   "outputs": [],
   "source": [
    "# Limits for distribution and multiplicity of labels.\n",
    "# Key is number of simultaneously working devices\n",
    "# Value is tuple from combination limit and representation limit respectively\n",
    "TRAIN_LIMITS_3 = {3: (2000, 2000*train_median_3),\n",
    "                  4: (2000, 2000*train_median_3),\n",
    "                  6: (4000, 4000*(train_median_3//2)),\n",
    "                  8: (8000, 8000*(train_median_3//4)),\n",
    "                  10: (8000, 8000*(train_median_3//4))}\n",
    "VALIDATION_LIMITS_3 = {1: (val_size_3, val_size_3),\n",
    "                       2: (2000, 2000*val_median_3),\n",
    "                       3: (2000, 2000*val_median_3),\n",
    "                       4: (2000, 2000*val_median_3),\n",
    "                       5: (4000, 4000*(val_median_3//2)),\n",
    "                       6: (4000, 4000*(val_median_3//2)),\n",
    "                       7: (4000, 4000*(val_median_3//2)),\n",
    "                       8: (4000, 4000*(val_median_3//2)),\n",
    "                       9: (4000, 4000*(val_median_3//2)),\n",
    "                       10: (4000, 4000*(val_median_3//2))}\n",
    "TEST_LIMITS_3 = {1: (test_size_3, test_size_3),\n",
    "                 2: (2000, 2000*test_median_3),\n",
    "                 3: (2000, 2000*test_median_3),\n",
    "                 4: (2000, 2000*test_median_3),\n",
    "                 5: (4000, 4000*(test_median_3//2)),\n",
    "                 6: (4000, 4000*(test_median_3//2)),\n",
    "                 7: (4000, 4000*(test_median_3//2)),\n",
    "                 8: (12000, 12000*(test_median_3//4)),\n",
    "                 9: (12000, 12000*(test_median_3//4)),\n",
    "                 10: (12000, 12000*(test_median_3//4))}"
   ]
  },
  {
   "cell_type": "code",
   "execution_count": 38,
   "metadata": {
    "ExecuteTime": {
     "end_time": "2021-06-04T03:15:39.112853Z",
     "start_time": "2021-06-04T03:15:39.105513Z"
    },
    "scrolled": true
   },
   "outputs": [
    {
     "name": "stdout",
     "output_type": "stream",
     "text": [
      "Train subset\n",
      "total reprs 120000\n",
      "total combs 24000\n",
      "reprs/comb [12.0, 12.0, 6.0, 3.0, 3.0]\n",
      "\n",
      "Validation subset\n",
      "total reprs 36295\n",
      "total combs 30295\n",
      "reprs/comb [1.0, 2.0, 2.0, 2.0, 1.0, 1.0, 1.0, 1.0, 1.0, 1.0]\n",
      "\n",
      "Test subset\n",
      "total reprs 108912\n",
      "total combs 54912\n",
      "reprs/comb [1.0, 6.0, 6.0, 6.0, 3.0, 3.0, 3.0, 1.0, 1.0, 1.0]\n"
     ]
    }
   ],
   "source": [
    "print(\"Train subset\")\n",
    "print(\"total reprs\", sum([v[1] for v in TRAIN_LIMITS_3.values()]))\n",
    "print(\"total combs\", sum([v[0] for v in TRAIN_LIMITS_3.values()]))\n",
    "print(\"reprs/comb\", [v[1]/v[0] for v in TRAIN_LIMITS_3.values()])\n",
    "print(\"\\nValidation subset\")\n",
    "print(\"total reprs\", sum([v[1] for v in VALIDATION_LIMITS_3.values()]))\n",
    "print(\"total combs\", sum([v[0] for v in VALIDATION_LIMITS_3.values()]))\n",
    "print(\"reprs/comb\", [v[1]/v[0] for v in VALIDATION_LIMITS_3.values()])\n",
    "print(\"\\nTest subset\")\n",
    "print(\"total reprs\", sum([v[1] for v in TEST_LIMITS_3.values()]))\n",
    "print(\"total combs\", sum([v[0] for v in TEST_LIMITS_3.values()]))\n",
    "print(\"reprs/comb\", [v[1]/v[0] for v in TEST_LIMITS_3.values()])"
   ]
  },
  {
   "cell_type": "code",
   "execution_count": 49,
   "metadata": {
    "ExecuteTime": {
     "end_time": "2021-06-04T05:17:19.893954Z",
     "start_time": "2021-06-04T04:50:15.582404Z"
    }
   },
   "outputs": [
    {
     "name": "stdout",
     "output_type": "stream",
     "text": [
      "Collection 1 is in progress...\n",
      "[DISTRIBUTION] 2000 combinations from 3 labels; 24000 examples.\n",
      "[SKIP] # Collisions = 1 @ ('juicemaker', 'networkswitch', 'projector')\n",
      "[SKIP] # Collisions = 1 @ ('desktoppc', 'kitchenhood', 'projector')\n",
      "[SKIP] # Collisions = 1 @ ('airpump', 'desoldering', 'projector')\n",
      "[SKIP] # Collisions = 1 @ ('laserprinter', 'networkswitch', 'waterpump')\n",
      "[SKIP] # Collisions = 1 @ ('deepfryer', 'fanheater', 'kitchenhood')\n",
      "[SKIP] # Collisions = 2 @ ('desktoppc', 'juicemaker', 'projector')\n",
      "[SKIP] # Collisions = 1 @ ('cablereceiver', 'desoldering', 'networkswitch')\n",
      "[SKIP] # Collisions = 1 @ ('guitaramp', 'laserprinter', 'treadmill')\n",
      "[SKIP] # Collisions = 2 @ ('fanheater', 'halogen', 'stove')\n",
      "[SKIP] # Collisions = 1 @ ('cablemodem', 'desktoppc', 'hifi')\n",
      "[SKIP] # Collisions = 1 @ ('cablereceiver', 'desoldering', 'laserprinter')\n",
      "[SKIP] # Collisions = 1 @ ('desoldering', 'stove', 'treadmill')\n",
      "[SKIP] # Collisions = 1 @ ('hifi', 'mosquitorepellent', 'networkswitch')\n",
      "[SKIP] # Collisions = 1 @ ('laserprinter', 'mosquitorepellent', 'waterpump')\n",
      "[SKIP] # Collisions = 1 @ ('cablereceiver', 'juicemaker', 'multitool')\n",
      "[SKIP] # Collisions = 1 @ ('desktoppc', 'multitool', 'sewingmachine')\n",
      "[SKIP] # Collisions = 1 @ ('fanheater', 'jigsaw', 'waterpump')\n",
      "[SKIP] # Collisions = 1 @ ('desktoppc', 'sandwichmaker', 'treadmill')\n",
      "[SKIP] # Collisions = 1 @ ('halogen', 'laserprinter', 'stove')\n",
      "[SKIP] # Collisions = 1 @ ('guitaramp', 'hifi', 'networkswitch')\n",
      "[SKIP] # Collisions = 2 @ ('fanheater', 'kitchenhood', 'mosquitorepellent')\n",
      "[SKIP] # Collisions = 1 @ ('desktoppc', 'halogenfluter', 'stove')\n",
      "[SKIP] # Collisions = 1 @ ('cablereceiver', 'desktoppc', 'fanheater')\n",
      "[SKIP] # Collisions = 1 @ ('halogen', 'kitchenhood', 'networkswitch')\n",
      "[SKIP] # Collisions = 1 @ ('cablemodem', 'fanheater', 'projector')\n",
      "[SKIP] # Collisions = 1 @ ('airpump', 'fanheater', 'hifi')\n",
      "[SKIP] # Collisions = 1 @ ('benchgrinder', 'fanheater', 'jigsaw')\n",
      "[SKIP] # Collisions = 1 @ ('cablereceiver', 'halogenfluter', 'laserprinter')\n",
      "[SKIP] # Collisions = 1 @ ('halogen', 'juicemaker', 'sandwichmaker')\n",
      "[SKIP] # Collisions = 1 @ ('cablereceiver', 'kitchenhood', 'sewingmachine')\n",
      "Collection 1 is ready.\n",
      "Collection 2 is in progress...\n",
      "[DISTRIBUTION] 2000 combinations from 4 labels; 24000 examples.\n",
      "[SKIP] # Collisions = 1 @ ('cablemodem', 'desktoppc', 'multitool', 'projector')\n",
      "[SKIP] # Collisions = 1 @ ('cablereceiver', 'deepfryer', 'stove', 'waterpump')\n",
      "[SKIP] # Collisions = 1 @ ('benchgrinder', 'fanheater', 'juicemaker', 'treadmill')\n",
      "Collection 2 is ready.\n",
      "Collection 3 is in progress...\n",
      "[DISTRIBUTION] 4000 combinations from 6 labels; 24000 examples.\n",
      "Collection 3 is ready.\n",
      "Collection 4 is in progress...\n",
      "[DISTRIBUTION] 8000 combinations from 8 labels; 24000 examples.\n",
      "Collection 4 is ready.\n",
      "Collection 5 is in progress...\n",
      "[DISTRIBUTION] 8000 combinations from 10 labels; 24000 examples.\n",
      "Collection 5 is ready.\n"
     ]
    }
   ],
   "source": [
    "sns.build_dataset(\"train\", train_patterns_3, TRAIN_LIMITS_3,\n",
    "                  collection_path=TRAIN_DATASET_PATH_3,\n",
    "                  signal_duration=SIGNAL_DURATION,\n",
    "                  forbidden_interval=FORBIDDEN_INTERVAL,\n",
    "                  voltage_magnitude=VOLTAGE_STANDARD,\n",
    "                  fundamental=FREQUENCY_STANDARD, sampling_rate=SAMPLING_RATE,\n",
    "                  p_fft=5, p_hop=1, verbose=True, to_specgrams=True,\n",
    "                  to_features=False, n_jobs=24, random_state=RANDOM_STATE)"
   ]
  },
  {
   "cell_type": "code",
   "execution_count": 40,
   "metadata": {
    "ExecuteTime": {
     "end_time": "2021-06-04T03:50:25.513782Z",
     "start_time": "2021-06-04T03:42:22.267814Z"
    },
    "scrolled": false
   },
   "outputs": [
    {
     "name": "stdout",
     "output_type": "stream",
     "text": [
      "Collection 1 is in progress...\n",
      "[DISTRIBUTION] 55 combinations from 1 labels; 295 examples.\n",
      "Collection 1 is ready.\n",
      "Collection 2 is in progress...\n",
      "[DISTRIBUTION] 1485 combinations from 2 labels; 3655 examples.\n",
      "[SKIP] # Collisions = 1 @ ('drillingmachine', 'ricecooker')\n",
      "[SKIP] # Collisions = 1 @ ('drillingmachine', 'solderingiron')\n",
      "[SKIP] # Collisions = 1 @ ('flatiron', 'shredder')\n",
      "[SKIP] # Collisions = 1 @ ('drillingmachine', 'shredder')\n",
      "[SKIP] # Collisions = 1 @ ('monitor', 'shredder')\n",
      "[SKIP] # Collisions = 1 @ ('shoewarmer', 'shredder')\n",
      "[SKIP] # Collisions = 1 @ ('flatiron', 'monitor')\n",
      "[SKIP] # Collisions = 1 @ ('monitor', 'solderingiron')\n",
      "[SKIP] # Collisions = 1 @ ('ricecooker', 'shoewarmer')\n",
      "[SKIP] # Collisions = 1 @ ('coffeemachine', 'shoewarmer')\n",
      "Collection 2 is ready.\n",
      "Collection 3 is in progress...\n",
      "[DISTRIBUTION] 2000 combinations from 3 labels; 3835 examples.\n",
      "Collection 3 is ready.\n",
      "Collection 4 is in progress...\n",
      "[DISTRIBUTION] 2000 combinations from 4 labels; 3931 examples.\n",
      "Collection 4 is ready.\n",
      "Collection 5 is in progress...\n",
      "[DISTRIBUTION] 4000 combinations from 5 labels; 4000 examples.\n",
      "Collection 5 is ready.\n",
      "Collection 6 is in progress...\n",
      "[DISTRIBUTION] 4000 combinations from 6 labels; 4000 examples.\n",
      "Collection 6 is ready.\n",
      "Collection 7 is in progress...\n",
      "[DISTRIBUTION] 4000 combinations from 7 labels; 4000 examples.\n",
      "Collection 7 is ready.\n",
      "Collection 8 is in progress...\n",
      "[DISTRIBUTION] 4000 combinations from 8 labels; 4000 examples.\n",
      "Collection 8 is ready.\n",
      "Collection 9 is in progress...\n",
      "[DISTRIBUTION] 4000 combinations from 9 labels; 4000 examples.\n",
      "Collection 9 is ready.\n",
      "Collection 10 is in progress...\n",
      "[DISTRIBUTION] 4000 combinations from 10 labels; 4000 examples.\n",
      "Collection 10 is ready.\n"
     ]
    }
   ],
   "source": [
    "sns.build_dataset(\"val\", validation_patterns_3, VALIDATION_LIMITS_3,\n",
    "              collection_path=VALIDATION_DATASET_PATH_3,\n",
    "              signal_duration=SIGNAL_DURATION,\n",
    "              forbidden_interval=FORBIDDEN_INTERVAL,\n",
    "              voltage_magnitude=VOLTAGE_STANDARD,\n",
    "              fundamental=FREQUENCY_STANDARD, sampling_rate=SAMPLING_RATE,\n",
    "              p_fft=5, p_hop=1, verbose=True, to_specgrams=True,\n",
    "              to_features=False, n_jobs=24, random_state=RANDOM_STATE)"
   ]
  },
  {
   "cell_type": "code",
   "execution_count": 41,
   "metadata": {
    "ExecuteTime": {
     "end_time": "2021-06-04T04:14:31.431714Z",
     "start_time": "2021-06-04T03:50:25.514918Z"
    },
    "scrolled": false
   },
   "outputs": [
    {
     "name": "stdout",
     "output_type": "stream",
     "text": [
      "Collection 1 is in progress...\n",
      "[DISTRIBUTION] 55 combinations from 1 labels; 912 examples.\n",
      "Collection 1 is ready.\n",
      "Collection 2 is in progress...\n",
      "[DISTRIBUTION] 1485 combinations from 2 labels; 11880 examples.\n",
      "[SKIP] # Collisions = 3 @ ('laserprinter', 'treadmill')\n",
      "[SKIP] # Collisions = 1 @ ('desoldering', 'ricecooker')\n",
      "[SKIP] # Collisions = 2 @ ('benchgrinder', 'jigsaw')\n",
      "[SKIP] # Collisions = 3 @ ('desoldering', 'halogenfluter')\n",
      "[SKIP] # Collisions = 2 @ ('multitool', 'networkswitch')\n",
      "[SKIP] # Collisions = 2 @ ('mosquitorepellent', 'shredder')\n",
      "[SKIP] # Collisions = 3 @ ('fanheater', 'laserprinter')\n",
      "[SKIP] # Collisions = 1 @ ('halogen', 'networkswitch')\n",
      "[SKIP] # Collisions = 1 @ ('guitaramp', 'networkswitch')\n",
      "[SKIP] # Collisions = 3 @ ('sandwichmaker', 'waterpump')\n",
      "[SKIP] # Collisions = 2 @ ('airpump', 'laserprinter')\n",
      "[SKIP] # Collisions = 1 @ ('projector', 'solderingiron')\n",
      "[SKIP] # Collisions = 2 @ ('desoldering', 'shredder')\n",
      "[SKIP] # Collisions = 3 @ ('desoldering', 'networkswitch')\n",
      "[SKIP] # Collisions = 1 @ ('juicemaker', 'multitool')\n",
      "[SKIP] # Collisions = 2 @ ('desktoppc', 'networkswitch')\n",
      "[SKIP] # Collisions = 2 @ ('cablereceiver', 'hifi')\n",
      "[SKIP] # Collisions = 2 @ ('cablereceiver', 'sandwichmaker')\n",
      "[SKIP] # Collisions = 2 @ ('desoldering', 'jigsaw')\n",
      "[SKIP] # Collisions = 2 @ ('benchgrinder', 'deepfryer')\n",
      "[SKIP] # Collisions = 3 @ ('benchgrinder', 'halogen')\n",
      "[SKIP] # Collisions = 2 @ ('deepfryer', 'laserprinter')\n",
      "[SKIP] # Collisions = 1 @ ('cablereceiver', 'halogenfluter')\n",
      "[SKIP] # Collisions = 1 @ ('desoldering', 'projector')\n",
      "[SKIP] # Collisions = 1 @ ('mosquitorepellent', 'solderingiron')\n",
      "[SKIP] # Collisions = 3 @ ('guitaramp', 'projector')\n",
      "[SKIP] # Collisions = 2 @ ('multitool', 'stove')\n",
      "[SKIP] # Collisions = 2 @ ('sewingmachine', 'stove')\n",
      "[SKIP] # Collisions = 1 @ ('cablereceiver', 'monitor')\n",
      "[SKIP] # Collisions = 1 @ ('flatiron', 'waterpump')\n",
      "[SKIP] # Collisions = 2 @ ('kitchenhood', 'stove')\n",
      "[SKIP] # Collisions = 3 @ ('guitaramp', 'treadmill')\n",
      "[SKIP] # Collisions = 2 @ ('jigsaw', 'shredder')\n",
      "[SKIP] # Collisions = 2 @ ('deepfryer', 'waterpump')\n",
      "[SKIP] # Collisions = 2 @ ('mosquitorepellent', 'sewingmachine')\n",
      "[SKIP] # Collisions = 2 @ ('fanheater', 'halogenfluter')\n",
      "[SKIP] # Collisions = 1 @ ('desktoppc', 'desoldering')\n",
      "[SKIP] # Collisions = 2 @ ('laserprinter', 'monitor')\n",
      "[SKIP] # Collisions = 2 @ ('halogen', 'juicemaker')\n",
      "[SKIP] # Collisions = 2 @ ('kitchenhood', 'sandwichmaker')\n",
      "[SKIP] # Collisions = 3 @ ('mosquitorepellent', 'treadmill')\n",
      "[SKIP] # Collisions = 2 @ ('halogen', 'shoewarmer')\n",
      "[SKIP] # Collisions = 2 @ ('laserprinter', 'projector')\n",
      "[SKIP] # Collisions = 2 @ ('desoldering', 'kitchenhood')\n",
      "[SKIP] # Collisions = 4 @ ('deepfryer', 'sewingmachine')\n",
      "[SKIP] # Collisions = 1 @ ('drillingmachine', 'hifi')\n",
      "[SKIP] # Collisions = 3 @ ('desktoppc', 'guitaramp')\n",
      "[SKIP] # Collisions = 3 @ ('halogenfluter', 'networkswitch')\n",
      "[SKIP] # Collisions = 3 @ ('deepfryer', 'hifi')\n",
      "[SKIP] # Collisions = 1 @ ('deepfryer', 'treadmill')\n",
      "[SKIP] # Collisions = 2 @ ('juicemaker', 'mosquitorepellent')\n",
      "[SKIP] # Collisions = 1 @ ('hifi', 'projector')\n",
      "[SKIP] # Collisions = 2 @ ('sandwichmaker', 'stove')\n",
      "[SKIP] # Collisions = 2 @ ('hifi', 'jigsaw')\n",
      "[SKIP] # Collisions = 2 @ ('cablereceiver', 'guitaramp')\n",
      "[SKIP] # Collisions = 1 @ ('halogenfluter', 'ricecooker')\n",
      "[SKIP] # Collisions = 2 @ ('deepfryer', 'desktoppc')\n",
      "[SKIP] # Collisions = 3 @ ('airpump', 'juicemaker')\n",
      "[SKIP] # Collisions = 2 @ ('desktoppc', 'stove')\n",
      "[SKIP] # Collisions = 1 @ ('cablereceiver', 'coffeemachine')\n",
      "[SKIP] # Collisions = 1 @ ('airpump', 'halogen')\n",
      "[SKIP] # Collisions = 1 @ ('benchgrinder', 'kitchenhood')\n",
      "[SKIP] # Collisions = 4 @ ('cablereceiver', 'stove')\n",
      "[SKIP] # Collisions = 2 @ ('mosquitorepellent', 'multitool')\n",
      "[SKIP] # Collisions = 2 @ ('airpump', 'fanheater')\n",
      "[SKIP] # Collisions = 4 @ ('airpump', 'cablereceiver')\n",
      "[SKIP] # Collisions = 3 @ ('desktoppc', 'juicemaker')\n",
      "[SKIP] # Collisions = 2 @ ('airpump', 'sewingmachine')\n",
      "[SKIP] # Collisions = 1 @ ('drillingmachine', 'jigsaw')\n",
      "[SKIP] # Collisions = 1 @ ('solderingiron', 'treadmill')\n",
      "[SKIP] # Collisions = 2 @ ('benchgrinder', 'treadmill')\n",
      "[SKIP] # Collisions = 1 @ ('hifi', 'solderingiron')\n",
      "[SKIP] # Collisions = 2 @ ('airpump', 'guitaramp')\n",
      "[SKIP] # Collisions = 3 @ ('halogen', 'jigsaw')\n",
      "[SKIP] # Collisions = 1 @ ('stove', 'treadmill')\n",
      "[SKIP] # Collisions = 3 @ ('cablereceiver', 'halogen')\n",
      "[SKIP] # Collisions = 1 @ ('fanheater', 'treadmill')\n",
      "[SKIP] # Collisions = 3 @ ('sewingmachine', 'waterpump')\n",
      "[SKIP] # Collisions = 1 @ ('halogenfluter', 'juicemaker')\n",
      "[SKIP] # Collisions = 4 @ ('hifi', 'networkswitch')\n",
      "[SKIP] # Collisions = 1 @ ('monitor', 'multitool')\n",
      "[SKIP] # Collisions = 2 @ ('deepfryer', 'networkswitch')\n",
      "[SKIP] # Collisions = 2 @ ('halogenfluter', 'sandwichmaker')\n",
      "[SKIP] # Collisions = 2 @ ('guitaramp', 'juicemaker')\n",
      "[SKIP] # Collisions = 3 @ ('guitaramp', 'waterpump')\n",
      "[SKIP] # Collisions = 3 @ ('halogenfluter', 'laserprinter')\n",
      "[SKIP] # Collisions = 2 @ ('airpump', 'waterpump')\n",
      "[SKIP] # Collisions = 2 @ ('halogenfluter', 'sewingmachine')\n",
      "[SKIP] # Collisions = 3 @ ('guitaramp', 'kitchenhood')\n",
      "[SKIP] # Collisions = 1 @ ('drillingmachine', 'kitchenhood')\n",
      "[SKIP] # Collisions = 1 @ ('airpump', 'multitool')\n",
      "[SKIP] # Collisions = 1 @ ('drillingmachine', 'guitaramp')\n",
      "[SKIP] # Collisions = 1 @ ('benchgrinder', 'fanheater')\n",
      "[SKIP] # Collisions = 1 @ ('fanheater', 'mosquitorepellent')\n",
      "[SKIP] # Collisions = 2 @ ('hifi', 'waterpump')\n",
      "[SKIP] # Collisions = 3 @ ('halogenfluter', 'treadmill')\n",
      "[SKIP] # Collisions = 1 @ ('guitaramp', 'monitor')\n",
      "[SKIP] # Collisions = 1 @ ('projector', 'ricecooker')\n",
      "[SKIP] # Collisions = 2 @ ('guitaramp', 'stove')\n",
      "[SKIP] # Collisions = 2 @ ('desoldering', 'stove')\n",
      "[SKIP] # Collisions = 2 @ ('desktoppc', 'fanheater')\n",
      "[SKIP] # Collisions = 2 @ ('halogenfluter', 'kitchenhood')\n",
      "[SKIP] # Collisions = 3 @ ('halogen', 'projector')\n",
      "[SKIP] # Collisions = 3 @ ('halogen', 'hifi')\n",
      "[SKIP] # Collisions = 1 @ ('ricecooker', 'stove')\n",
      "[SKIP] # Collisions = 1 @ ('fanheater', 'ricecooker')\n",
      "[SKIP] # Collisions = 3 @ ('juicemaker', 'stove')\n",
      "[SKIP] # Collisions = 3 @ ('cablemodem', 'projector')\n",
      "[SKIP] # Collisions = 3 @ ('airpump', 'benchgrinder')\n",
      "[SKIP] # Collisions = 1 @ ('guitaramp', 'shredder')\n",
      "[SKIP] # Collisions = 2 @ ('benchgrinder', 'stove')\n",
      "[SKIP] # Collisions = 1 @ ('airpump', 'coffeemachine')\n",
      "[SKIP] # Collisions = 1 @ ('desktoppc', 'treadmill')\n",
      "[SKIP] # Collisions = 1 @ ('juicemaker', 'solderingiron')\n",
      "[SKIP] # Collisions = 2 @ ('networkswitch', 'waterpump')\n",
      "[SKIP] # Collisions = 3 @ ('cablemodem', 'cablereceiver')\n",
      "[SKIP] # Collisions = 1 @ ('flatiron', 'guitaramp')\n",
      "[SKIP] # Collisions = 2 @ ('flatiron', 'networkswitch')\n",
      "[SKIP] # Collisions = 1 @ ('hifi', 'juicemaker')\n",
      "[SKIP] # Collisions = 3 @ ('juicemaker', 'waterpump')\n",
      "[SKIP] # Collisions = 1 @ ('monitor', 'ricecooker')\n",
      "[SKIP] # Collisions = 1 @ ('drillingmachine', 'halogenfluter')\n",
      "[SKIP] # Collisions = 2 @ ('cablereceiver', 'projector')\n",
      "[SKIP] # Collisions = 1 @ ('halogen', 'shredder')\n",
      "[SKIP] # Collisions = 2 @ ('airpump', 'networkswitch')\n",
      "[SKIP] # Collisions = 2 @ ('projector', 'sandwichmaker')\n",
      "[SKIP] # Collisions = 1 @ ('flatiron', 'laserprinter')\n",
      "[SKIP] # Collisions = 1 @ ('desoldering', 'sandwichmaker')\n",
      "[SKIP] # Collisions = 3 @ ('airpump', 'sandwichmaker')\n",
      "[SKIP] # Collisions = 1 @ ('desktoppc', 'monitor')\n",
      "[SKIP] # Collisions = 1 @ ('desoldering', 'guitaramp')\n",
      "[SKIP] # Collisions = 3 @ ('benchgrinder', 'waterpump')\n",
      "[SKIP] # Collisions = 3 @ ('guitaramp', 'halogen')\n",
      "[SKIP] # Collisions = 1 @ ('kitchenhood', 'shredder')\n",
      "[SKIP] # Collisions = 2 @ ('guitaramp', 'laserprinter')\n",
      "[SKIP] # Collisions = 1 @ ('drillingmachine', 'sewingmachine')\n",
      "[SKIP] # Collisions = 1 @ ('coffeemachine', 'mosquitorepellent')\n",
      "[SKIP] # Collisions = 1 @ ('flatiron', 'stove')\n",
      "[SKIP] # Collisions = 2 @ ('shoewarmer', 'stove')\n",
      "[SKIP] # Collisions = 1 @ ('coffeemachine', 'sandwichmaker')\n",
      "[SKIP] # Collisions = 1 @ ('jigsaw', 'ricecooker')\n",
      "[SKIP] # Collisions = 3 @ ('networkswitch', 'sandwichmaker')\n",
      "[SKIP] # Collisions = 2 @ ('cablereceiver', 'treadmill')\n",
      "[SKIP] # Collisions = 2 @ ('kitchenhood', 'laserprinter')\n",
      "[SKIP] # Collisions = 2 @ ('cablemodem', 'stove')\n",
      "[SKIP] # Collisions = 2 @ ('mosquitorepellent', 'networkswitch')\n"
     ]
    },
    {
     "name": "stdout",
     "output_type": "stream",
     "text": [
      "[SKIP] # Collisions = 2 @ ('cablemodem', 'deepfryer')\n",
      "[SKIP] # Collisions = 2 @ ('deepfryer', 'halogenfluter')\n",
      "[SKIP] # Collisions = 1 @ ('networkswitch', 'shoewarmer')\n",
      "[SKIP] # Collisions = 2 @ ('benchgrinder', 'multitool')\n",
      "[SKIP] # Collisions = 2 @ ('treadmill', 'waterpump')\n",
      "[SKIP] # Collisions = 2 @ ('cablemodem', 'juicemaker')\n",
      "[SKIP] # Collisions = 2 @ ('mosquitorepellent', 'waterpump')\n",
      "[SKIP] # Collisions = 1 @ ('shoewarmer', 'shredder')\n",
      "[SKIP] # Collisions = 1 @ ('cablemodem', 'drillingmachine')\n",
      "[SKIP] # Collisions = 2 @ ('airpump', 'cablemodem')\n",
      "[SKIP] # Collisions = 3 @ ('desoldering', 'waterpump')\n",
      "[SKIP] # Collisions = 4 @ ('networkswitch', 'stove')\n",
      "[SKIP] # Collisions = 1 @ ('multitool', 'waterpump')\n",
      "[SKIP] # Collisions = 2 @ ('monitor', 'mosquitorepellent')\n",
      "[SKIP] # Collisions = 2 @ ('jigsaw', 'networkswitch')\n",
      "[SKIP] # Collisions = 2 @ ('cablereceiver', 'sewingmachine')\n",
      "[SKIP] # Collisions = 1 @ ('desktoppc', 'solderingiron')\n",
      "[SKIP] # Collisions = 2 @ ('halogen', 'sandwichmaker')\n",
      "[SKIP] # Collisions = 1 @ ('flatiron', 'juicemaker')\n",
      "[SKIP] # Collisions = 4 @ ('guitaramp', 'halogenfluter')\n",
      "[SKIP] # Collisions = 4 @ ('desktoppc', 'waterpump')\n",
      "[SKIP] # Collisions = 1 @ ('solderingiron', 'waterpump')\n",
      "[SKIP] # Collisions = 2 @ ('juicemaker', 'projector')\n",
      "[SKIP] # Collisions = 2 @ ('guitaramp', 'hifi')\n",
      "[SKIP] # Collisions = 3 @ ('airpump', 'desoldering')\n",
      "[SKIP] # Collisions = 1 @ ('laserprinter', 'ricecooker')\n",
      "[SKIP] # Collisions = 2 @ ('jigsaw', 'juicemaker')\n",
      "[SKIP] # Collisions = 2 @ ('juicemaker', 'shredder')\n",
      "[SKIP] # Collisions = 3 @ ('desoldering', 'treadmill')\n",
      "[SKIP] # Collisions = 2 @ ('desktoppc', 'hifi')\n",
      "[SKIP] # Collisions = 2 @ ('cablemodem', 'multitool')\n",
      "[SKIP] # Collisions = 2 @ ('halogen', 'laserprinter')\n",
      "[SKIP] # Collisions = 3 @ ('kitchenhood', 'mosquitorepellent')\n",
      "[SKIP] # Collisions = 2 @ ('monitor', 'projector')\n",
      "[SKIP] # Collisions = 3 @ ('halogenfluter', 'stove')\n",
      "[SKIP] # Collisions = 2 @ ('benchgrinder', 'monitor')\n",
      "[SKIP] # Collisions = 1 @ ('sandwichmaker', 'shredder')\n",
      "[SKIP] # Collisions = 2 @ ('halogen', 'halogenfluter')\n",
      "[SKIP] # Collisions = 1 @ ('flatiron', 'sandwichmaker')\n",
      "[SKIP] # Collisions = 1 @ ('halogen', 'multitool')\n",
      "[SKIP] # Collisions = 2 @ ('cablemodem', 'waterpump')\n",
      "[SKIP] # Collisions = 1 @ ('deepfryer', 'mosquitorepellent')\n",
      "[SKIP] # Collisions = 3 @ ('jigsaw', 'kitchenhood')\n",
      "[SKIP] # Collisions = 1 @ ('cablemodem', 'flatiron')\n",
      "[SKIP] # Collisions = 1 @ ('jigsaw', 'treadmill')\n",
      "[SKIP] # Collisions = 2 @ ('jigsaw', 'laserprinter')\n",
      "[SKIP] # Collisions = 3 @ ('networkswitch', 'projector')\n",
      "[SKIP] # Collisions = 2 @ ('airpump', 'kitchenhood')\n",
      "[SKIP] # Collisions = 1 @ ('ricecooker', 'waterpump')\n",
      "[SKIP] # Collisions = 2 @ ('hifi', 'multitool')\n",
      "[SKIP] # Collisions = 3 @ ('airpump', 'projector')\n",
      "[SKIP] # Collisions = 2 @ ('benchgrinder', 'cablemodem')\n",
      "[SKIP] # Collisions = 2 @ ('jigsaw', 'sewingmachine')\n",
      "[SKIP] # Collisions = 4 @ ('cablereceiver', 'networkswitch')\n",
      "[SKIP] # Collisions = 3 @ ('desoldering', 'hifi')\n",
      "[SKIP] # Collisions = 2 @ ('hifi', 'sandwichmaker')\n",
      "[SKIP] # Collisions = 2 @ ('cablemodem', 'mosquitorepellent')\n",
      "[SKIP] # Collisions = 1 @ ('fanheater', 'multitool')\n",
      "[SKIP] # Collisions = 1 @ ('deepfryer', 'stove')\n",
      "[SKIP] # Collisions = 2 @ ('halogen', 'treadmill')\n",
      "[SKIP] # Collisions = 2 @ ('cablereceiver', 'desktoppc')\n",
      "[SKIP] # Collisions = 2 @ ('multitool', 'treadmill')\n",
      "[SKIP] # Collisions = 3 @ ('cablemodem', 'laserprinter')\n",
      "[SKIP] # Collisions = 1 @ ('ricecooker', 'treadmill')\n",
      "[SKIP] # Collisions = 3 @ ('desktoppc', 'halogenfluter')\n",
      "[SKIP] # Collisions = 1 @ ('halogen', 'ricecooker')\n",
      "[SKIP] # Collisions = 1 @ ('cablemodem', 'coffeemachine')\n",
      "[SKIP] # Collisions = 4 @ ('fanheater', 'projector')\n",
      "[SKIP] # Collisions = 3 @ ('jigsaw', 'waterpump')\n",
      "[SKIP] # Collisions = 3 @ ('fanheater', 'sewingmachine')\n",
      "[SKIP] # Collisions = 1 @ ('guitaramp', 'sandwichmaker')\n",
      "[SKIP] # Collisions = 4 @ ('deepfryer', 'projector')\n",
      "[SKIP] # Collisions = 1 @ ('coffeemachine', 'laserprinter')\n",
      "[SKIP] # Collisions = 2 @ ('mosquitorepellent', 'sandwichmaker')\n",
      "[SKIP] # Collisions = 3 @ ('desktoppc', 'kitchenhood')\n",
      "[SKIP] # Collisions = 1 @ ('fanheater', 'solderingiron')\n",
      "[SKIP] # Collisions = 3 @ ('cablemodem', 'halogen')\n",
      "[SKIP] # Collisions = 2 @ ('hifi', 'stove')\n",
      "[SKIP] # Collisions = 3 @ ('deepfryer', 'halogen')\n",
      "[SKIP] # Collisions = 1 @ ('flatiron', 'halogen')\n",
      "[SKIP] # Collisions = 2 @ ('desktoppc', 'projector')\n",
      "[SKIP] # Collisions = 1 @ ('cablereceiver', 'shredder')\n",
      "[SKIP] # Collisions = 2 @ ('guitaramp', 'mosquitorepellent')\n",
      "[SKIP] # Collisions = 3 @ ('cablereceiver', 'juicemaker')\n",
      "[SKIP] # Collisions = 3 @ ('juicemaker', 'laserprinter')\n",
      "[SKIP] # Collisions = 3 @ ('deepfryer', 'multitool')\n",
      "[SKIP] # Collisions = 2 @ ('mosquitorepellent', 'stove')\n",
      "[SKIP] # Collisions = 1 @ ('cablereceiver', 'ricecooker')\n",
      "[SKIP] # Collisions = 3 @ ('benchgrinder', 'desoldering')\n",
      "[SKIP] # Collisions = 1 @ ('cablemodem', 'shredder')\n",
      "[SKIP] # Collisions = 2 @ ('mosquitorepellent', 'projector')\n",
      "[SKIP] # Collisions = 1 @ ('flatiron', 'jigsaw')\n",
      "[SKIP] # Collisions = 1 @ ('multitool', 'solderingiron')\n",
      "[SKIP] # Collisions = 1 @ ('benchgrinder', 'shoewarmer')\n",
      "[SKIP] # Collisions = 1 @ ('shredder', 'treadmill')\n",
      "[SKIP] # Collisions = 2 @ ('networkswitch', 'sewingmachine')\n",
      "[SKIP] # Collisions = 1 @ ('cablemodem', 'desktoppc')\n",
      "[SKIP] # Collisions = 2 @ ('cablereceiver', 'desoldering')\n",
      "[SKIP] # Collisions = 1 @ ('cablereceiver', 'laserprinter')\n",
      "[SKIP] # Collisions = 2 @ ('airpump', 'desktoppc')\n",
      "[SKIP] # Collisions = 1 @ ('cablereceiver', 'jigsaw')\n",
      "[SKIP] # Collisions = 2 @ ('juicemaker', 'networkswitch')\n",
      "[SKIP] # Collisions = 2 @ ('laserprinter', 'networkswitch')\n",
      "[SKIP] # Collisions = 1 @ ('cablemodem', 'treadmill')\n",
      "[SKIP] # Collisions = 1 @ ('airpump', 'flatiron')\n",
      "[SKIP] # Collisions = 2 @ ('laserprinter', 'sewingmachine')\n",
      "[SKIP] # Collisions = 2 @ ('sandwichmaker', 'sewingmachine')\n",
      "[SKIP] # Collisions = 1 @ ('halogen', 'mosquitorepellent')\n",
      "[SKIP] # Collisions = 1 @ ('networkswitch', 'ricecooker')\n",
      "[SKIP] # Collisions = 1 @ ('cablemodem', 'kitchenhood')\n",
      "[SKIP] # Collisions = 3 @ ('kitchenhood', 'treadmill')\n",
      "[SKIP] # Collisions = 4 @ ('kitchenhood', 'waterpump')\n",
      "[SKIP] # Collisions = 2 @ ('benchgrinder', 'cablereceiver')\n",
      "[SKIP] # Collisions = 3 @ ('desoldering', 'halogen')\n",
      "[SKIP] # Collisions = 5 @ ('fanheater', 'waterpump')\n",
      "[SKIP] # Collisions = 2 @ ('cablereceiver', 'mosquitorepellent')\n",
      "[SKIP] # Collisions = 2 @ ('deepfryer', 'juicemaker')\n",
      "[SKIP] # Collisions = 1 @ ('sewingmachine', 'solderingiron')\n",
      "[SKIP] # Collisions = 2 @ ('juicemaker', 'treadmill')\n",
      "[SKIP] # Collisions = 4 @ ('laserprinter', 'stove')\n",
      "[SKIP] # Collisions = 2 @ ('networkswitch', 'treadmill')\n",
      "[SKIP] # Collisions = 1 @ ('flatiron', 'halogenfluter')\n",
      "[SKIP] # Collisions = 1 @ ('desktoppc', 'sandwichmaker')\n",
      "[SKIP] # Collisions = 3 @ ('cablemodem', 'halogenfluter')\n",
      "[SKIP] # Collisions = 1 @ ('desoldering', 'monitor')\n",
      "[SKIP] # Collisions = 2 @ ('mosquitorepellent', 'ricecooker')\n",
      "[SKIP] # Collisions = 1 @ ('monitor', 'treadmill')\n",
      "[SKIP] # Collisions = 3 @ ('cablemodem', 'hifi')\n",
      "[SKIP] # Collisions = 1 @ ('multitool', 'projector')\n",
      "[SKIP] # Collisions = 1 @ ('desoldering', 'shoewarmer')\n",
      "[SKIP] # Collisions = 1 @ ('multitool', 'sandwichmaker')\n",
      "[SKIP] # Collisions = 2 @ ('benchgrinder', 'networkswitch')\n",
      "[SKIP] # Collisions = 2 @ ('airpump', 'halogenfluter')\n",
      "[SKIP] # Collisions = 2 @ ('deepfryer', 'guitaramp')\n",
      "[SKIP] # Collisions = 1 @ ('sewingmachine', 'shoewarmer')\n",
      "[SKIP] # Collisions = 2 @ ('airpump', 'treadmill')\n",
      "[SKIP] # Collisions = 4 @ ('fanheater', 'guitaramp')\n",
      "[SKIP] # Collisions = 2 @ ('cablereceiver', 'kitchenhood')\n",
      "[SKIP] # Collisions = 2 @ ('halogenfluter', 'projector')\n",
      "[SKIP] # Collisions = 3 @ ('halogen', 'waterpump')\n",
      "[SKIP] # Collisions = 1 @ ('fanheater', 'shredder')\n",
      "[SKIP] # Collisions = 1 @ ('shoewarmer', 'waterpump')\n",
      "[SKIP] # Collisions = 1 @ ('coffeemachine', 'fanheater')\n",
      "[SKIP] # Collisions = 1 @ ('coffeemachine', 'desktoppc')\n",
      "[SKIP] # Collisions = 2 @ ('drillingmachine', 'juicemaker')\n",
      "[SKIP] # Collisions = 1 @ ('flatiron', 'solderingiron')\n",
      "[SKIP] # Collisions = 2 @ ('cablereceiver', 'fanheater')\n",
      "[SKIP] # Collisions = 1 @ ('halogenfluter', 'shredder')\n",
      "[SKIP] # Collisions = 2 @ ('kitchenhood', 'multitool')\n"
     ]
    },
    {
     "name": "stdout",
     "output_type": "stream",
     "text": [
      "[SKIP] # Collisions = 2 @ ('deepfryer', 'fanheater')\n",
      "[SKIP] # Collisions = 3 @ ('fanheater', 'halogen')\n",
      "[SKIP] # Collisions = 3 @ ('fanheater', 'hifi')\n",
      "[SKIP] # Collisions = 4 @ ('benchgrinder', 'sewingmachine')\n",
      "[SKIP] # Collisions = 3 @ ('desktoppc', 'sewingmachine')\n",
      "[SKIP] # Collisions = 2 @ ('fanheater', 'kitchenhood')\n",
      "[SKIP] # Collisions = 1 @ ('sewingmachine', 'treadmill')\n",
      "[SKIP] # Collisions = 1 @ ('airpump', 'solderingiron')\n",
      "[SKIP] # Collisions = 2 @ ('juicemaker', 'kitchenhood')\n",
      "[SKIP] # Collisions = 4 @ ('desoldering', 'laserprinter')\n",
      "[SKIP] # Collisions = 2 @ ('kitchenhood', 'projector')\n",
      "[SKIP] # Collisions = 1 @ ('deepfryer', 'shoewarmer')\n",
      "[SKIP] # Collisions = 1 @ ('guitaramp', 'ricecooker')\n",
      "[SKIP] # Collisions = 2 @ ('projector', 'sewingmachine')\n",
      "[SKIP] # Collisions = 3 @ ('projector', 'stove')\n",
      "[SKIP] # Collisions = 2 @ ('halogen', 'kitchenhood')\n",
      "[SKIP] # Collisions = 3 @ ('benchgrinder', 'juicemaker')\n",
      "[SKIP] # Collisions = 1 @ ('sandwichmaker', 'treadmill')\n",
      "[SKIP] # Collisions = 1 @ ('coffeemachine', 'sewingmachine')\n",
      "[SKIP] # Collisions = 2 @ ('fanheater', 'sandwichmaker')\n",
      "[SKIP] # Collisions = 1 @ ('benchgrinder', 'solderingiron')\n",
      "[SKIP] # Collisions = 4 @ ('juicemaker', 'sewingmachine')\n",
      "[SKIP] # Collisions = 1 @ ('coffeemachine', 'halogenfluter')\n",
      "[SKIP] # Collisions = 2 @ ('jigsaw', 'projector')\n",
      "[SKIP] # Collisions = 3 @ ('desoldering', 'juicemaker')\n",
      "[SKIP] # Collisions = 2 @ ('desoldering', 'sewingmachine')\n",
      "[SKIP] # Collisions = 1 @ ('flatiron', 'kitchenhood')\n",
      "[SKIP] # Collisions = 1 @ ('jigsaw', 'shoewarmer')\n",
      "[SKIP] # Collisions = 2 @ ('hifi', 'mosquitorepellent')\n",
      "[SKIP] # Collisions = 2 @ ('airpump', 'jigsaw')\n",
      "[SKIP] # Collisions = 4 @ ('hifi', 'sewingmachine')\n",
      "[SKIP] # Collisions = 3 @ ('multitool', 'sewingmachine')\n",
      "[SKIP] # Collisions = 1 @ ('halogenfluter', 'hifi')\n",
      "[SKIP] # Collisions = 1 @ ('monitor', 'sewingmachine')\n",
      "[SKIP] # Collisions = 1 @ ('airpump', 'mosquitorepellent')\n",
      "[SKIP] # Collisions = 1 @ ('juicemaker', 'shoewarmer')\n",
      "[SKIP] # Collisions = 2 @ ('jigsaw', 'stove')\n",
      "[SKIP] # Collisions = 1 @ ('airpump', 'stove')\n",
      "[SKIP] # Collisions = 1 @ ('fanheater', 'juicemaker')\n",
      "[SKIP] # Collisions = 4 @ ('halogenfluter', 'mosquitorepellent')\n",
      "[SKIP] # Collisions = 1 @ ('projector', 'treadmill')\n",
      "[SKIP] # Collisions = 2 @ ('cablemodem', 'fanheater')\n",
      "[SKIP] # Collisions = 2 @ ('benchgrinder', 'halogenfluter')\n",
      "[SKIP] # Collisions = 3 @ ('laserprinter', 'multitool')\n",
      "[SKIP] # Collisions = 1 @ ('laserprinter', 'mosquitorepellent')\n",
      "[SKIP] # Collisions = 1 @ ('coffeemachine', 'projector')\n",
      "[SKIP] # Collisions = 2 @ ('desktoppc', 'jigsaw')\n",
      "[SKIP] # Collisions = 1 @ ('desoldering', 'multitool')\n",
      "[SKIP] # Collisions = 2 @ ('guitaramp', 'jigsaw')\n",
      "[SKIP] # Collisions = 3 @ ('desktoppc', 'multitool')\n",
      "[SKIP] # Collisions = 2 @ ('benchgrinder', 'projector')\n",
      "[SKIP] # Collisions = 1 @ ('halogenfluter', 'shoewarmer')\n",
      "[SKIP] # Collisions = 1 @ ('cablemodem', 'sewingmachine')\n",
      "[SKIP] # Collisions = 1 @ ('monitor', 'shoewarmer')\n",
      "[SKIP] # Collisions = 3 @ ('cablereceiver', 'waterpump')\n",
      "[SKIP] # Collisions = 2 @ ('jigsaw', 'mosquitorepellent')\n",
      "[SKIP] # Collisions = 2 @ ('benchgrinder', 'mosquitorepellent')\n",
      "[SKIP] # Collisions = 1 @ ('desktoppc', 'flatiron')\n",
      "[SKIP] # Collisions = 1 @ ('airpump', 'deepfryer')\n",
      "[SKIP] # Collisions = 3 @ ('halogen', 'sewingmachine')\n",
      "[SKIP] # Collisions = 2 @ ('cablemodem', 'guitaramp')\n",
      "[SKIP] # Collisions = 1 @ ('coffeemachine', 'kitchenhood')\n",
      "[SKIP] # Collisions = 2 @ ('laserprinter', 'solderingiron')\n",
      "[SKIP] # Collisions = 1 @ ('guitaramp', 'sewingmachine')\n",
      "[SKIP] # Collisions = 2 @ ('deepfryer', 'jigsaw')\n",
      "[SKIP] # Collisions = 1 @ ('ricecooker', 'shredder')\n",
      "[SKIP] # Collisions = 2 @ ('stove', 'waterpump')\n",
      "[SKIP] # Collisions = 1 @ ('cablemodem', 'ricecooker')\n",
      "[SKIP] # Collisions = 2 @ ('hifi', 'laserprinter')\n",
      "[SKIP] # Collisions = 3 @ ('halogen', 'stove')\n",
      "[SKIP] # Collisions = 1 @ ('airpump', 'hifi')\n",
      "[SKIP] # Collisions = 2 @ ('kitchenhood', 'sewingmachine')\n",
      "[SKIP] # Collisions = 3 @ ('jigsaw', 'multitool')\n",
      "[SKIP] # Collisions = 3 @ ('cablemodem', 'desoldering')\n",
      "[SKIP] # Collisions = 2 @ ('halogenfluter', 'multitool')\n",
      "[SKIP] # Collisions = 1 @ ('kitchenhood', 'networkswitch')\n",
      "[SKIP] # Collisions = 2 @ ('desktoppc', 'mosquitorepellent')\n",
      "[SKIP] # Collisions = 2 @ ('desktoppc', 'halogen')\n",
      "[SKIP] # Collisions = 1 @ ('fanheater', 'jigsaw')\n",
      "[SKIP] # Collisions = 2 @ ('flatiron', 'treadmill')\n",
      "[SKIP] # Collisions = 1 @ ('coffeemachine', 'stove')\n",
      "[SKIP] # Collisions = 1 @ ('deepfryer', 'monitor')\n",
      "[SKIP] # Collisions = 2 @ ('coffeemachine', 'multitool')\n",
      "[SKIP] # Collisions = 3 @ ('juicemaker', 'sandwichmaker')\n",
      "[SKIP] # Collisions = 3 @ ('benchgrinder', 'laserprinter')\n",
      "[SKIP] # Collisions = 2 @ ('deepfryer', 'sandwichmaker')\n",
      "[SKIP] # Collisions = 1 @ ('shredder', 'stove')\n",
      "[SKIP] # Collisions = 2 @ ('benchgrinder', 'guitaramp')\n",
      "[SKIP] # Collisions = 3 @ ('laserprinter', 'sandwichmaker')\n",
      "[SKIP] # Collisions = 3 @ ('cablemodem', 'networkswitch')\n",
      "[SKIP] # Collisions = 2 @ ('desktoppc', 'laserprinter')\n",
      "[SKIP] # Collisions = 2 @ ('halogenfluter', 'waterpump')\n",
      "[SKIP] # Collisions = 1 @ ('projector', 'shoewarmer')\n",
      "[SKIP] # Collisions = 2 @ ('cablereceiver', 'deepfryer')\n",
      "[SKIP] # Collisions = 1 @ ('jigsaw', 'sandwichmaker')\n",
      "[SKIP] # Collisions = 2 @ ('cablemodem', 'sandwichmaker')\n",
      "[SKIP] # Collisions = 1 @ ('benchgrinder', 'desktoppc')\n",
      "[SKIP] # Collisions = 3 @ ('guitaramp', 'multitool')\n",
      "[SKIP] # Collisions = 1 @ ('airpump', 'drillingmachine')\n",
      "[SKIP] # Collisions = 3 @ ('cablereceiver', 'multitool')\n",
      "[SKIP] # Collisions = 2 @ ('drillingmachine', 'halogen')\n",
      "[SKIP] # Collisions = 2 @ ('desoldering', 'fanheater')\n",
      "[SKIP] # Collisions = 3 @ ('desoldering', 'mosquitorepellent')\n",
      "[SKIP] # Collisions = 2 @ ('deepfryer', 'desoldering')\n",
      "[SKIP] # Collisions = 3 @ ('halogenfluter', 'jigsaw')\n",
      "[SKIP] # Collisions = 2 @ ('hifi', 'treadmill')\n",
      "[SKIP] # Collisions = 1 @ ('multitool', 'shoewarmer')\n",
      "[SKIP] # Collisions = 4 @ ('fanheater', 'networkswitch')\n",
      "[SKIP] # Collisions = 3 @ ('benchgrinder', 'hifi')\n",
      "[SKIP] # Collisions = 1 @ ('fanheater', 'flatiron')\n",
      "[SKIP] # Collisions = 3 @ ('cablemodem', 'jigsaw')\n",
      "Collection 2 is ready.\n",
      "Collection 3 is in progress...\n",
      "[DISTRIBUTION] 2000 combinations from 3 labels; 12000 examples.\n",
      "[SKIP] # Collisions = 1 @ ('desoldering', 'hifi', 'jigsaw')\n",
      "[SKIP] # Collisions = 1 @ ('airpump', 'fanheater', 'juicemaker')\n",
      "[SKIP] # Collisions = 1 @ ('cablereceiver', 'desktoppc', 'juicemaker')\n",
      "[SKIP] # Collisions = 1 @ ('guitaramp', 'mosquitorepellent', 'projector')\n",
      "[SKIP] # Collisions = 1 @ ('deepfryer', 'guitaramp', 'treadmill')\n",
      "[SKIP] # Collisions = 1 @ ('cablemodem', 'cablereceiver', 'laserprinter')\n",
      "[SKIP] # Collisions = 1 @ ('airpump', 'cablereceiver', 'kitchenhood')\n",
      "[SKIP] # Collisions = 1 @ ('deepfryer', 'hifi', 'kitchenhood')\n",
      "[SKIP] # Collisions = 1 @ ('airpump', 'jigsaw', 'sewingmachine')\n",
      "[SKIP] # Collisions = 1 @ ('airpump', 'deepfryer', 'fanheater')\n",
      "[SKIP] # Collisions = 2 @ ('airpump', 'hifi', 'networkswitch')\n",
      "[SKIP] # Collisions = 1 @ ('desktoppc', 'guitaramp', 'halogenfluter')\n",
      "[SKIP] # Collisions = 2 @ ('deepfryer', 'kitchenhood', 'sewingmachine')\n",
      "[SKIP] # Collisions = 1 @ ('halogen', 'sewingmachine', 'waterpump')\n",
      "[SKIP] # Collisions = 1 @ ('guitaramp', 'halogen', 'treadmill')\n",
      "[SKIP] # Collisions = 1 @ ('halogenfluter', 'kitchenhood', 'multitool')\n",
      "[SKIP] # Collisions = 1 @ ('stove', 'treadmill', 'waterpump')\n",
      "[SKIP] # Collisions = 2 @ ('airpump', 'halogenfluter', 'sewingmachine')\n",
      "[SKIP] # Collisions = 1 @ ('cablemodem', 'kitchenhood', 'laserprinter')\n",
      "[SKIP] # Collisions = 1 @ ('cablemodem', 'juicemaker', 'stove')\n",
      "[SKIP] # Collisions = 1 @ ('cablemodem', 'desoldering', 'sandwichmaker')\n",
      "[SKIP] # Collisions = 1 @ ('jigsaw', 'treadmill', 'waterpump')\n",
      "[SKIP] # Collisions = 1 @ ('airpump', 'networkswitch', 'sewingmachine')\n",
      "[SKIP] # Collisions = 1 @ ('benchgrinder', 'halogenfluter', 'sewingmachine')\n",
      "[SKIP] # Collisions = 1 @ ('cablemodem', 'halogen', 'mosquitorepellent')\n",
      "[SKIP] # Collisions = 2 @ ('cablemodem', 'jigsaw', 'networkswitch')\n",
      "[SKIP] # Collisions = 1 @ ('cablereceiver', 'juicemaker', 'kitchenhood')\n",
      "[SKIP] # Collisions = 1 @ ('cablereceiver', 'halogen', 'kitchenhood')\n",
      "[SKIP] # Collisions = 1 @ ('halogen', 'jigsaw', 'sewingmachine')\n"
     ]
    },
    {
     "name": "stdout",
     "output_type": "stream",
     "text": [
      "[SKIP] # Collisions = 1 @ ('fanheater', 'networkswitch', 'waterpump')\n",
      "[SKIP] # Collisions = 1 @ ('benchgrinder', 'desoldering', 'mosquitorepellent')\n",
      "[SKIP] # Collisions = 1 @ ('halogen', 'treadmill', 'waterpump')\n",
      "[SKIP] # Collisions = 1 @ ('deepfryer', 'kitchenhood', 'laserprinter')\n",
      "[SKIP] # Collisions = 1 @ ('desktoppc', 'sandwichmaker', 'stove')\n",
      "[SKIP] # Collisions = 1 @ ('cablemodem', 'desoldering', 'hifi')\n",
      "[SKIP] # Collisions = 1 @ ('desoldering', 'juicemaker', 'multitool')\n",
      "[SKIP] # Collisions = 1 @ ('airpump', 'desktoppc', 'sewingmachine')\n",
      "[SKIP] # Collisions = 1 @ ('jigsaw', 'juicemaker', 'stove')\n",
      "[SKIP] # Collisions = 1 @ ('desoldering', 'networkswitch', 'waterpump')\n",
      "[SKIP] # Collisions = 2 @ ('laserprinter', 'multitool', 'networkswitch')\n",
      "[SKIP] # Collisions = 1 @ ('mosquitorepellent', 'sandwichmaker', 'sewingmachine')\n",
      "[SKIP] # Collisions = 1 @ ('halogenfluter', 'networkswitch', 'sandwichmaker')\n",
      "Collection 3 is ready.\n",
      "Collection 4 is in progress...\n",
      "[DISTRIBUTION] 2000 combinations from 4 labels; 12000 examples.\n",
      "[SKIP] # Collisions = 1 @ ('benchgrinder', 'halogen', 'hifi', 'waterpump')\n",
      "[SKIP] # Collisions = 1 @ ('guitaramp', 'mosquitorepellent', 'multitool', 'projector')\n",
      "[SKIP] # Collisions = 1 @ ('halogen', 'halogenfluter', 'kitchenhood', 'laserprinter')\n",
      "[SKIP] # Collisions = 1 @ ('airpump', 'benchgrinder', 'juicemaker', 'treadmill')\n",
      "[SKIP] # Collisions = 1 @ ('cablereceiver', 'halogenfluter', 'kitchenhood', 'multitool')\n",
      "[SKIP] # Collisions = 1 @ ('halogen', 'jigsaw', 'juicemaker', 'multitool')\n",
      "[SKIP] # Collisions = 1 @ ('airpump', 'desktoppc', 'juicemaker', 'projector')\n",
      "[SKIP] # Collisions = 1 @ ('deepfryer', 'halogen', 'networkswitch', 'stove')\n",
      "Collection 4 is ready.\n",
      "Collection 5 is in progress...\n",
      "[DISTRIBUTION] 4000 combinations from 5 labels; 12000 examples.\n",
      "Collection 5 is ready.\n",
      "Collection 6 is in progress...\n",
      "[DISTRIBUTION] 4000 combinations from 6 labels; 12000 examples.\n",
      "Collection 6 is ready.\n",
      "Collection 7 is in progress...\n",
      "[DISTRIBUTION] 4000 combinations from 7 labels; 12000 examples.\n",
      "Collection 7 is ready.\n",
      "Collection 8 is in progress...\n",
      "[DISTRIBUTION] 12000 combinations from 8 labels; 12000 examples.\n",
      "Collection 8 is ready.\n",
      "Collection 9 is in progress...\n",
      "[DISTRIBUTION] 12000 combinations from 9 labels; 12000 examples.\n",
      "Collection 9 is ready.\n",
      "Collection 10 is in progress...\n",
      "[DISTRIBUTION] 12000 combinations from 10 labels; 12000 examples.\n",
      "Collection 10 is ready.\n"
     ]
    }
   ],
   "source": [
    "sns.build_dataset(\"test\", test_patterns_3, TEST_LIMITS_3,\n",
    "              collection_path=TEST_DATASET_PATH_3,\n",
    "              signal_duration=SIGNAL_DURATION,\n",
    "              forbidden_interval=FORBIDDEN_INTERVAL,\n",
    "              voltage_magnitude=VOLTAGE_STANDARD,\n",
    "              fundamental=FREQUENCY_STANDARD, sampling_rate=SAMPLING_RATE,\n",
    "              p_fft=5, p_hop=1, verbose=True, to_specgrams=True,\n",
    "              to_features=False, n_jobs=24, random_state=RANDOM_STATE)"
   ]
  },
  {
   "cell_type": "code",
   "execution_count": null,
   "metadata": {},
   "outputs": [],
   "source": []
  }
 ],
 "metadata": {
  "celltoolbar": "Initialization Cell",
  "kernelspec": {
   "display_name": "Python 3",
   "language": "python",
   "name": "python3"
  },
  "language_info": {
   "codemirror_mode": {
    "name": "ipython",
    "version": 3
   },
   "file_extension": ".py",
   "mimetype": "text/x-python",
   "name": "python",
   "nbconvert_exporter": "python",
   "pygments_lexer": "ipython3",
   "version": "3.8.5"
  },
  "latex_envs": {
   "LaTeX_envs_menu_present": true,
   "autoclose": true,
   "autocomplete": true,
   "bibliofile": "biblio.bib",
   "cite_by": "apalike",
   "current_citInitial": 1,
   "eqLabelWithNumbers": true,
   "eqNumInitial": 1,
   "hotkeys": {
    "equation": "Ctrl-E",
    "itemize": "Ctrl-I"
   },
   "labels_anchors": false,
   "latex_user_defs": false,
   "report_style_numbering": false,
   "user_envs_cfg": false
  },
  "toc": {
   "base_numbering": 1,
   "nav_menu": {},
   "number_sections": true,
   "sideBar": true,
   "skip_h1_title": false,
   "title_cell": "Table of Contents",
   "title_sidebar": "Contents",
   "toc_cell": false,
   "toc_position": {
    "height": "calc(100% - 180px)",
    "left": "10px",
    "top": "150px",
    "width": "320px"
   },
   "toc_section_display": true,
   "toc_window_display": false
  },
  "varInspector": {
   "cols": {
    "lenName": 16,
    "lenType": 16,
    "lenVar": 40
   },
   "kernels_config": {
    "python": {
     "delete_cmd_postfix": "",
     "delete_cmd_prefix": "del ",
     "library": "var_list.py",
     "varRefreshCmd": "print(var_dic_list())"
    },
    "r": {
     "delete_cmd_postfix": ") ",
     "delete_cmd_prefix": "rm(",
     "library": "var_list.r",
     "varRefreshCmd": "cat(var_dic_list()) "
    }
   },
   "position": {
    "height": "525.85px",
    "left": "1173.6px",
    "right": "20px",
    "top": "120px",
    "width": "334.4px"
   },
   "types_to_exclude": [
    "module",
    "function",
    "builtin_function_or_method",
    "instance",
    "_Feature"
   ],
   "window_display": false
  }
 },
 "nbformat": 4,
 "nbformat_minor": 4
}
