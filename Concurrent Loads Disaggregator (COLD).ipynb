{
 "cells": [
  {
   "cell_type": "markdown",
   "metadata": {},
   "source": [
    "# COLD\n",
    "Concurrent Loads Disaggregator"
   ]
  },
  {
   "cell_type": "code",
   "execution_count": 1,
   "metadata": {
    "ExecuteTime": {
     "end_time": "2021-06-04T04:29:03.785229Z",
     "start_time": "2021-06-04T04:29:03.731542Z"
    }
   },
   "outputs": [],
   "source": [
    "import numpy as np"
   ]
  },
  {
   "cell_type": "code",
   "execution_count": 2,
   "metadata": {
    "ExecuteTime": {
     "end_time": "2021-06-04T04:29:04.260770Z",
     "start_time": "2021-06-04T04:29:03.786208Z"
    }
   },
   "outputs": [],
   "source": [
    "import pytorch_lightning as pl\n",
    "from pytorch_lightning.loggers import TensorBoardLogger\n",
    "from pytorch_lightning.callbacks import EarlyStopping, ModelCheckpoint"
   ]
  },
  {
   "cell_type": "code",
   "execution_count": 3,
   "metadata": {
    "ExecuteTime": {
     "end_time": "2021-06-04T04:29:04.770056Z",
     "start_time": "2021-06-04T04:29:04.261736Z"
    }
   },
   "outputs": [],
   "source": [
    "from neural import ModelCOLD\n",
    "from data import collate, DataModule"
   ]
  },
  {
   "cell_type": "markdown",
   "metadata": {},
   "source": [
    "Global variables"
   ]
  },
  {
   "cell_type": "code",
   "execution_count": 4,
   "metadata": {
    "ExecuteTime": {
     "end_time": "2021-06-04T04:29:04.772816Z",
     "start_time": "2021-06-04T04:29:04.770966Z"
    }
   },
   "outputs": [],
   "source": [
    "random_seed = 0\n",
    "n_inputs = 201\n",
    "train_dataset_path_tpl = \"./synthetic/train_%d\"\n",
    "validation_dataset_path_tpl = \"./synthetic/validation_%d\"\n",
    "test_dataset_path_tpl = \"./synthetic/test_%d\""
   ]
  },
  {
   "cell_type": "markdown",
   "metadata": {},
   "source": [
    "## Experiment 1"
   ]
  },
  {
   "cell_type": "code",
   "execution_count": 6,
   "metadata": {
    "ExecuteTime": {
     "end_time": "2021-06-04T04:29:05.271765Z",
     "start_time": "2021-06-04T04:29:05.269819Z"
    },
    "scrolled": true
   },
   "outputs": [],
   "source": [
    "experiment = 1\n",
    "train_dataset_path = train_dataset_path_tpl % experiment\n",
    "validation_dataset_path = validation_dataset_path_tpl % experiment\n",
    "test_dataset_path = test_dataset_path_tpl % experiment\n",
    "labels = [\"cfl\", \"fridge\",  \"ac\", \"laptop\", \"vacuumcleaner\",\n",
    "          \"lightbulb\", \"fan\", \"coffeemachine\", \"kettle\", \"flatiron\",\n",
    "          \"solderingiron\"]\n",
    "# Max number of concurrent loads in the dataset\n",
    "w_max = 3"
   ]
  },
  {
   "cell_type": "code",
   "execution_count": 7,
   "metadata": {
    "ExecuteTime": {
     "end_time": "2021-06-04T04:29:24.576820Z",
     "start_time": "2021-06-04T04:29:24.571875Z"
    }
   },
   "outputs": [
    {
     "name": "stderr",
     "output_type": "stream",
     "text": [
      "Global seed set to 0\n"
     ]
    }
   ],
   "source": [
    "# Hyperparameters from ASHA\n",
    "config = {\n",
    "    \"lr\": 0.00040935087469661684,\n",
    "    \"weight_decay\": 0.1713436419711966,\n",
    "    \"batch_size\": 32,\n",
    "    \"dropout\": 0.1,\n",
    "    \"layout\":  (256, 10, 8),\n",
    "}\n",
    "# Pytorch Lightning pipeline\n",
    "pl.seed_everything(random_seed)\n",
    "# Callbacks\n",
    "checkpoint_callback = ModelCheckpoint(\n",
    "    monitor=\"validation_weighted_mean_f1\",\n",
    "    dirpath=\"./checkpoints/\",\n",
    "    filename=\"cold%d-{epoch:d}-{validation_weighted_mean_f1:.4f}\" % experiment,\n",
    "    save_top_k=3,\n",
    "    mode=\"max\",\n",
    ")\n",
    "early_stop_callback = EarlyStopping(\n",
    "    monitor=\"validation_loss\",\n",
    "    min_delta=0.00,\n",
    "    patience=8,\n",
    "    verbose=True,\n",
    "    mode=\"min\",\n",
    ")\n",
    "# Tensorboard dashboard\n",
    "logger = TensorBoardLogger(\"./logs/cold%d\" %\n",
    "                           experiment, name=\"cold%d\" % experiment)"
   ]
  },
  {
   "cell_type": "code",
   "execution_count": 8,
   "metadata": {
    "ExecuteTime": {
     "end_time": "2021-06-04T04:29:25.517751Z",
     "start_time": "2021-06-04T04:29:25.501262Z"
    }
   },
   "outputs": [],
   "source": [
    "# Initialize the model\n",
    "cold = ModelCOLD(config, n_inputs, len(labels), w_max=w_max)"
   ]
  },
  {
   "cell_type": "code",
   "execution_count": 9,
   "metadata": {
    "ExecuteTime": {
     "end_time": "2021-06-04T04:36:58.881692Z",
     "start_time": "2021-06-04T04:29:25.934341Z"
    }
   },
   "outputs": [
    {
     "name": "stderr",
     "output_type": "stream",
     "text": [
      "GPU available: True, used: True\n",
      "TPU available: False, using: 0 TPU cores\n",
      "LOCAL_RANK: 0 - CUDA_VISIBLE_DEVICES: [0,1]\n",
      "\n",
      "  | Name       | Type               | Params\n",
      "--------------------------------------------------\n",
      "0 | affine     | Linear             | 51.7 K\n",
      "1 | sequence   | Sequential         | 1.3 M \n",
      "2 | mhsa       | MultiheadAttention | 263 K \n",
      "3 | classifier | Linear             | 2.8 K \n",
      "--------------------------------------------------\n",
      "1.6 M     Trainable params\n",
      "0         Non-trainable params\n",
      "1.6 M     Total params\n",
      "6.555     Total estimated model params size (MB)\n"
     ]
    },
    {
     "data": {
      "application/vnd.jupyter.widget-view+json": {
       "model_id": "46b21d6ec2c14b2f8bfc7e1a685edbb3",
       "version_major": 2,
       "version_minor": 0
      },
      "text/plain": [
       "Training: 0it [00:00, ?it/s]"
      ]
     },
     "metadata": {},
     "output_type": "display_data"
    },
    {
     "data": {
      "application/vnd.jupyter.widget-view+json": {
       "model_id": "",
       "version_major": 2,
       "version_minor": 0
      },
      "text/plain": [
       "Validating: 0it [00:00, ?it/s]"
      ]
     },
     "metadata": {},
     "output_type": "display_data"
    },
    {
     "name": "stderr",
     "output_type": "stream",
     "text": [
      "Metric validation_loss improved. New best score: 0.248\n"
     ]
    },
    {
     "data": {
      "application/vnd.jupyter.widget-view+json": {
       "model_id": "",
       "version_major": 2,
       "version_minor": 0
      },
      "text/plain": [
       "Validating: 0it [00:00, ?it/s]"
      ]
     },
     "metadata": {},
     "output_type": "display_data"
    },
    {
     "name": "stderr",
     "output_type": "stream",
     "text": [
      "Metric validation_loss improved by 0.034 >= min_delta = 0.0. New best score: 0.214\n"
     ]
    },
    {
     "data": {
      "application/vnd.jupyter.widget-view+json": {
       "model_id": "",
       "version_major": 2,
       "version_minor": 0
      },
      "text/plain": [
       "Validating: 0it [00:00, ?it/s]"
      ]
     },
     "metadata": {},
     "output_type": "display_data"
    },
    {
     "name": "stderr",
     "output_type": "stream",
     "text": [
      "Metric validation_loss improved by 0.026 >= min_delta = 0.0. New best score: 0.188\n"
     ]
    },
    {
     "data": {
      "application/vnd.jupyter.widget-view+json": {
       "model_id": "",
       "version_major": 2,
       "version_minor": 0
      },
      "text/plain": [
       "Validating: 0it [00:00, ?it/s]"
      ]
     },
     "metadata": {},
     "output_type": "display_data"
    },
    {
     "data": {
      "application/vnd.jupyter.widget-view+json": {
       "model_id": "",
       "version_major": 2,
       "version_minor": 0
      },
      "text/plain": [
       "Validating: 0it [00:00, ?it/s]"
      ]
     },
     "metadata": {},
     "output_type": "display_data"
    },
    {
     "name": "stderr",
     "output_type": "stream",
     "text": [
      "Metric validation_loss improved by 0.006 >= min_delta = 0.0. New best score: 0.182\n"
     ]
    },
    {
     "data": {
      "application/vnd.jupyter.widget-view+json": {
       "model_id": "",
       "version_major": 2,
       "version_minor": 0
      },
      "text/plain": [
       "Validating: 0it [00:00, ?it/s]"
      ]
     },
     "metadata": {},
     "output_type": "display_data"
    },
    {
     "name": "stderr",
     "output_type": "stream",
     "text": [
      "Metric validation_loss improved by 0.007 >= min_delta = 0.0. New best score: 0.175\n"
     ]
    },
    {
     "data": {
      "application/vnd.jupyter.widget-view+json": {
       "model_id": "",
       "version_major": 2,
       "version_minor": 0
      },
      "text/plain": [
       "Validating: 0it [00:00, ?it/s]"
      ]
     },
     "metadata": {},
     "output_type": "display_data"
    },
    {
     "name": "stderr",
     "output_type": "stream",
     "text": [
      "Metric validation_loss improved by 0.028 >= min_delta = 0.0. New best score: 0.147\n"
     ]
    },
    {
     "data": {
      "application/vnd.jupyter.widget-view+json": {
       "model_id": "",
       "version_major": 2,
       "version_minor": 0
      },
      "text/plain": [
       "Validating: 0it [00:00, ?it/s]"
      ]
     },
     "metadata": {},
     "output_type": "display_data"
    },
    {
     "name": "stderr",
     "output_type": "stream",
     "text": [
      "Metric validation_loss improved by 0.001 >= min_delta = 0.0. New best score: 0.146\n"
     ]
    },
    {
     "data": {
      "application/vnd.jupyter.widget-view+json": {
       "model_id": "",
       "version_major": 2,
       "version_minor": 0
      },
      "text/plain": [
       "Validating: 0it [00:00, ?it/s]"
      ]
     },
     "metadata": {},
     "output_type": "display_data"
    },
    {
     "data": {
      "application/vnd.jupyter.widget-view+json": {
       "model_id": "",
       "version_major": 2,
       "version_minor": 0
      },
      "text/plain": [
       "Validating: 0it [00:00, ?it/s]"
      ]
     },
     "metadata": {},
     "output_type": "display_data"
    },
    {
     "data": {
      "application/vnd.jupyter.widget-view+json": {
       "model_id": "",
       "version_major": 2,
       "version_minor": 0
      },
      "text/plain": [
       "Validating: 0it [00:00, ?it/s]"
      ]
     },
     "metadata": {},
     "output_type": "display_data"
    },
    {
     "data": {
      "application/vnd.jupyter.widget-view+json": {
       "model_id": "",
       "version_major": 2,
       "version_minor": 0
      },
      "text/plain": [
       "Validating: 0it [00:00, ?it/s]"
      ]
     },
     "metadata": {},
     "output_type": "display_data"
    },
    {
     "data": {
      "application/vnd.jupyter.widget-view+json": {
       "model_id": "",
       "version_major": 2,
       "version_minor": 0
      },
      "text/plain": [
       "Validating: 0it [00:00, ?it/s]"
      ]
     },
     "metadata": {},
     "output_type": "display_data"
    },
    {
     "data": {
      "application/vnd.jupyter.widget-view+json": {
       "model_id": "",
       "version_major": 2,
       "version_minor": 0
      },
      "text/plain": [
       "Validating: 0it [00:00, ?it/s]"
      ]
     },
     "metadata": {},
     "output_type": "display_data"
    },
    {
     "data": {
      "application/vnd.jupyter.widget-view+json": {
       "model_id": "",
       "version_major": 2,
       "version_minor": 0
      },
      "text/plain": [
       "Validating: 0it [00:00, ?it/s]"
      ]
     },
     "metadata": {},
     "output_type": "display_data"
    },
    {
     "data": {
      "application/vnd.jupyter.widget-view+json": {
       "model_id": "",
       "version_major": 2,
       "version_minor": 0
      },
      "text/plain": [
       "Validating: 0it [00:00, ?it/s]"
      ]
     },
     "metadata": {},
     "output_type": "display_data"
    },
    {
     "name": "stderr",
     "output_type": "stream",
     "text": [
      "Metric validation_loss improved by 0.002 >= min_delta = 0.0. New best score: 0.144\n"
     ]
    },
    {
     "data": {
      "application/vnd.jupyter.widget-view+json": {
       "model_id": "",
       "version_major": 2,
       "version_minor": 0
      },
      "text/plain": [
       "Validating: 0it [00:00, ?it/s]"
      ]
     },
     "metadata": {},
     "output_type": "display_data"
    },
    {
     "data": {
      "application/vnd.jupyter.widget-view+json": {
       "model_id": "",
       "version_major": 2,
       "version_minor": 0
      },
      "text/plain": [
       "Validating: 0it [00:00, ?it/s]"
      ]
     },
     "metadata": {},
     "output_type": "display_data"
    },
    {
     "data": {
      "application/vnd.jupyter.widget-view+json": {
       "model_id": "",
       "version_major": 2,
       "version_minor": 0
      },
      "text/plain": [
       "Validating: 0it [00:00, ?it/s]"
      ]
     },
     "metadata": {},
     "output_type": "display_data"
    },
    {
     "name": "stderr",
     "output_type": "stream",
     "text": [
      "Metric validation_loss improved by 0.002 >= min_delta = 0.0. New best score: 0.142\n"
     ]
    },
    {
     "data": {
      "application/vnd.jupyter.widget-view+json": {
       "model_id": "",
       "version_major": 2,
       "version_minor": 0
      },
      "text/plain": [
       "Validating: 0it [00:00, ?it/s]"
      ]
     },
     "metadata": {},
     "output_type": "display_data"
    },
    {
     "data": {
      "application/vnd.jupyter.widget-view+json": {
       "model_id": "",
       "version_major": 2,
       "version_minor": 0
      },
      "text/plain": [
       "Validating: 0it [00:00, ?it/s]"
      ]
     },
     "metadata": {},
     "output_type": "display_data"
    },
    {
     "name": "stderr",
     "output_type": "stream",
     "text": [
      "Metric validation_loss improved by 0.006 >= min_delta = 0.0. New best score: 0.135\n"
     ]
    },
    {
     "data": {
      "application/vnd.jupyter.widget-view+json": {
       "model_id": "",
       "version_major": 2,
       "version_minor": 0
      },
      "text/plain": [
       "Validating: 0it [00:00, ?it/s]"
      ]
     },
     "metadata": {},
     "output_type": "display_data"
    },
    {
     "data": {
      "application/vnd.jupyter.widget-view+json": {
       "model_id": "",
       "version_major": 2,
       "version_minor": 0
      },
      "text/plain": [
       "Validating: 0it [00:00, ?it/s]"
      ]
     },
     "metadata": {},
     "output_type": "display_data"
    },
    {
     "data": {
      "application/vnd.jupyter.widget-view+json": {
       "model_id": "",
       "version_major": 2,
       "version_minor": 0
      },
      "text/plain": [
       "Validating: 0it [00:00, ?it/s]"
      ]
     },
     "metadata": {},
     "output_type": "display_data"
    },
    {
     "data": {
      "application/vnd.jupyter.widget-view+json": {
       "model_id": "",
       "version_major": 2,
       "version_minor": 0
      },
      "text/plain": [
       "Validating: 0it [00:00, ?it/s]"
      ]
     },
     "metadata": {},
     "output_type": "display_data"
    },
    {
     "data": {
      "application/vnd.jupyter.widget-view+json": {
       "model_id": "",
       "version_major": 2,
       "version_minor": 0
      },
      "text/plain": [
       "Validating: 0it [00:00, ?it/s]"
      ]
     },
     "metadata": {},
     "output_type": "display_data"
    },
    {
     "data": {
      "application/vnd.jupyter.widget-view+json": {
       "model_id": "",
       "version_major": 2,
       "version_minor": 0
      },
      "text/plain": [
       "Validating: 0it [00:00, ?it/s]"
      ]
     },
     "metadata": {},
     "output_type": "display_data"
    },
    {
     "data": {
      "application/vnd.jupyter.widget-view+json": {
       "model_id": "",
       "version_major": 2,
       "version_minor": 0
      },
      "text/plain": [
       "Validating: 0it [00:00, ?it/s]"
      ]
     },
     "metadata": {},
     "output_type": "display_data"
    },
    {
     "data": {
      "application/vnd.jupyter.widget-view+json": {
       "model_id": "",
       "version_major": 2,
       "version_minor": 0
      },
      "text/plain": [
       "Validating: 0it [00:00, ?it/s]"
      ]
     },
     "metadata": {},
     "output_type": "display_data"
    },
    {
     "name": "stderr",
     "output_type": "stream",
     "text": [
      "Monitored metric validation_loss did not improve in the last 8 records. Best score: 0.135. Signaling Trainer to stop.\n"
     ]
    },
    {
     "data": {
      "application/vnd.jupyter.widget-view+json": {
       "model_id": "",
       "version_major": 2,
       "version_minor": 0
      },
      "text/plain": [
       "Validating: 0it [00:00, ?it/s]"
      ]
     },
     "metadata": {},
     "output_type": "display_data"
    },
    {
     "name": "stderr",
     "output_type": "stream",
     "text": [
      "Monitored metric validation_loss did not improve in the last 9 records. Best score: 0.135. Signaling Trainer to stop.\n"
     ]
    }
   ],
   "source": [
    "pipeline = pl.Trainer(max_epochs=60, gpus=[0, 1], accelerator=\"dp\",\n",
    "                      num_sanity_val_steps=0, callbacks=[checkpoint_callback, early_stop_callback],\n",
    "                      val_check_interval=0.9, logger=logger, gradient_clip_val=1.)\n",
    "\n",
    "data_module = DataModule(labels, train_dataset_path, validation_dataset_path,\n",
    "                         test_dataset_path, batch_size=config[\"batch_size\"],\n",
    "                         collate_fn=collate, n_jobs=-1, drop_last=False)\n",
    "# Start training\n",
    "pipeline.fit(cold, datamodule=data_module)"
   ]
  },
  {
   "cell_type": "code",
   "execution_count": 11,
   "metadata": {
    "ExecuteTime": {
     "end_time": "2021-06-04T04:37:12.286031Z",
     "start_time": "2021-06-04T04:37:08.587405Z"
    }
   },
   "outputs": [
    {
     "name": "stderr",
     "output_type": "stream",
     "text": [
      "LOCAL_RANK: 0 - CUDA_VISIBLE_DEVICES: [0,1]\n"
     ]
    },
    {
     "data": {
      "application/vnd.jupyter.widget-view+json": {
       "model_id": "312a4e5a37d04c05aefc922d8dde4e7d",
       "version_major": 2,
       "version_minor": 0
      },
      "text/plain": [
       "Testing: 0it [00:00, ?it/s]"
      ]
     },
     "metadata": {},
     "output_type": "display_data"
    },
    {
     "data": {
      "image/png": "[encoded data removed]",
      "text/plain": [
       "<Figure size 576x360 with 1 Axes>"
      ]
     },
     "metadata": {},
     "output_type": "display_data"
    },
    {
     "data": {
      "image/png": "[encoded data removed]",
      "text/plain": [
       "<Figure size 864x360 with 1 Axes>"
      ]
     },
     "metadata": {},
     "output_type": "display_data"
    },
    {
     "name": "stdout",
     "output_type": "stream",
     "text": [
      "--------------------------------------------------------------------------------\n",
      "DATALOADER:0 TEST RESULTS\n",
      "{'f1_ac': 0.8916488091150919,\n",
      " 'f1_cfl': 0.9448974132537842,\n",
      " 'f1_coffeemachine': 0.9514355460802714,\n",
      " 'f1_fan': 0.8312967220942179,\n",
      " 'f1_flatiron': 0.9854277769724528,\n",
      " 'f1_fridge': 0.8776440223058065,\n",
      " 'f1_kettle': 0.9887125492095947,\n",
      " 'f1_laptop': 0.9541213512420654,\n",
      " 'f1_lightbulb': 0.8760802149772644,\n",
      " 'f1_solderingiron': 0.8862836559613546,\n",
      " 'f1_vacuumcleaner': 0.99904731909434,\n",
      " 'test_mean_f1_w=1': 0.955303,\n",
      " 'test_mean_f1_w=2': 0.92761856,\n",
      " 'test_mean_f1_w=3': 0.8886379,\n",
      " 'test_t_opt': 0.6530612244897959,\n",
      " 'test_weighted_mean_f1': 0.9238531589508057}\n",
      "--------------------------------------------------------------------------------\n"
     ]
    }
   ],
   "source": [
    "# Load the model for evaluation\n",
    "data_module = DataModule(labels, train_dataset_path, validation_dataset_path,\n",
    "                         test_dataset_path, batch_size=256,\n",
    "                         collate_fn=collate, n_jobs=-1, drop_last=False)\n",
    "cold = ModelCOLD.load_from_checkpoint(\n",
    "    \"./checkpoints/cold1-epoch=28-validation_weighted_mean_f1=0.9332.ckpt\")\n",
    "test_log=pipeline.test(cold, datamodule=data_module)"
   ]
  },
  {
   "cell_type": "markdown",
   "metadata": {},
   "source": [
    "## Experiment 2"
   ]
  },
  {
   "cell_type": "code",
   "execution_count": 47,
   "metadata": {
    "ExecuteTime": {
     "end_time": "2021-06-04T06:58:01.530428Z",
     "start_time": "2021-06-04T06:58:01.528500Z"
    },
    "scrolled": true
   },
   "outputs": [],
   "source": [
    "experiment = 2\n",
    "train_dataset_path = train_dataset_path_tpl % experiment\n",
    "validation_dataset_path = validation_dataset_path_tpl % experiment\n",
    "test_dataset_path = test_dataset_path_tpl % experiment\n",
    "labels = [\"kettle\", \"microwave\", \"washingmachine\", \"fridge\", \"vacuumcleaner\"]\n",
    "# Max number of concurrent loads in the dataset\n",
    "w_max = 4"
   ]
  },
  {
   "cell_type": "code",
   "execution_count": 48,
   "metadata": {
    "ExecuteTime": {
     "end_time": "2021-06-04T06:58:01.764276Z",
     "start_time": "2021-06-04T06:58:01.760615Z"
    }
   },
   "outputs": [
    {
     "name": "stderr",
     "output_type": "stream",
     "text": [
      "Global seed set to 0\n"
     ]
    }
   ],
   "source": [
    "# Hyperparameters from ASHA\n",
    "config = {\n",
    "    \"lr\": 0.00076158821023566,\n",
    "    \"weight_decay\": 0.035064995777058384,\n",
    "    \"batch_size\": 32,\n",
    "    \"dropout\": 0.1,\n",
    "    \"layout\":  (256, 12, 8),\n",
    "}\n",
    "# Pytorch Lightning pipeline\n",
    "pl.seed_everything(random_seed)\n",
    "# Callbacks\n",
    "checkpoint_callback = ModelCheckpoint(\n",
    "    monitor=\"validation_weighted_mean_f1\",\n",
    "    dirpath=\"./checkpoints/\",\n",
    "    filename=\"cold%d-{epoch:d}-{validation_weighted_mean_f1:.4f}\" % experiment,\n",
    "    save_top_k=3,\n",
    "    mode=\"max\",\n",
    ")\n",
    "early_stop_callback = EarlyStopping(\n",
    "    monitor=\"validation_loss\",\n",
    "    min_delta=0.00,\n",
    "    patience=8,\n",
    "    verbose=True,\n",
    "    mode=\"min\",\n",
    ")\n",
    "# Tensorboard dashboard\n",
    "logger = TensorBoardLogger(\"./logs/cold%d\" %\n",
    "                           experiment, name=\"cold%d\" % experiment)"
   ]
  },
  {
   "cell_type": "code",
   "execution_count": 49,
   "metadata": {
    "ExecuteTime": {
     "end_time": "2021-06-04T06:58:02.877198Z",
     "start_time": "2021-06-04T06:58:02.860143Z"
    }
   },
   "outputs": [],
   "source": [
    "# Initialize the model\n",
    "cold = ModelCOLD(config, n_inputs, len(labels), w_max=w_max)"
   ]
  },
  {
   "cell_type": "code",
   "execution_count": 50,
   "metadata": {
    "ExecuteTime": {
     "end_time": "2021-06-04T07:00:38.555928Z",
     "start_time": "2021-06-04T06:58:03.774632Z"
    }
   },
   "outputs": [
    {
     "name": "stderr",
     "output_type": "stream",
     "text": [
      "GPU available: True, used: True\n",
      "TPU available: False, using: 0 TPU cores\n",
      "LOCAL_RANK: 0 - CUDA_VISIBLE_DEVICES: [0,1]\n",
      "\n",
      "  | Name       | Type               | Params\n",
      "--------------------------------------------------\n",
      "0 | affine     | Linear             | 51.7 K\n",
      "1 | sequence   | Sequential         | 1.6 M \n",
      "2 | mhsa       | MultiheadAttention | 263 K \n",
      "3 | classifier | Linear             | 1.3 K \n",
      "--------------------------------------------------\n",
      "1.9 M     Trainable params\n",
      "0         Non-trainable params\n",
      "1.9 M     Total params\n",
      "7.605     Total estimated model params size (MB)\n"
     ]
    },
    {
     "data": {
      "application/vnd.jupyter.widget-view+json": {
       "model_id": "902890b1621d4bcd8202a0565cbb0ef9",
       "version_major": 2,
       "version_minor": 0
      },
      "text/plain": [
       "Training: 0it [00:00, ?it/s]"
      ]
     },
     "metadata": {},
     "output_type": "display_data"
    },
    {
     "data": {
      "application/vnd.jupyter.widget-view+json": {
       "model_id": "",
       "version_major": 2,
       "version_minor": 0
      },
      "text/plain": [
       "Validating: 0it [00:00, ?it/s]"
      ]
     },
     "metadata": {},
     "output_type": "display_data"
    },
    {
     "name": "stderr",
     "output_type": "stream",
     "text": [
      "Metric validation_loss improved. New best score: 0.572\n"
     ]
    },
    {
     "data": {
      "application/vnd.jupyter.widget-view+json": {
       "model_id": "",
       "version_major": 2,
       "version_minor": 0
      },
      "text/plain": [
       "Validating: 0it [00:00, ?it/s]"
      ]
     },
     "metadata": {},
     "output_type": "display_data"
    },
    {
     "name": "stderr",
     "output_type": "stream",
     "text": [
      "Metric validation_loss improved by 0.187 >= min_delta = 0.0. New best score: 0.384\n"
     ]
    },
    {
     "data": {
      "application/vnd.jupyter.widget-view+json": {
       "model_id": "",
       "version_major": 2,
       "version_minor": 0
      },
      "text/plain": [
       "Validating: 0it [00:00, ?it/s]"
      ]
     },
     "metadata": {},
     "output_type": "display_data"
    },
    {
     "name": "stderr",
     "output_type": "stream",
     "text": [
      "Metric validation_loss improved by 0.047 >= min_delta = 0.0. New best score: 0.338\n"
     ]
    },
    {
     "data": {
      "application/vnd.jupyter.widget-view+json": {
       "model_id": "",
       "version_major": 2,
       "version_minor": 0
      },
      "text/plain": [
       "Validating: 0it [00:00, ?it/s]"
      ]
     },
     "metadata": {},
     "output_type": "display_data"
    },
    {
     "name": "stderr",
     "output_type": "stream",
     "text": [
      "Metric validation_loss improved by 0.021 >= min_delta = 0.0. New best score: 0.316\n"
     ]
    },
    {
     "data": {
      "application/vnd.jupyter.widget-view+json": {
       "model_id": "",
       "version_major": 2,
       "version_minor": 0
      },
      "text/plain": [
       "Validating: 0it [00:00, ?it/s]"
      ]
     },
     "metadata": {},
     "output_type": "display_data"
    },
    {
     "name": "stderr",
     "output_type": "stream",
     "text": [
      "Metric validation_loss improved by 0.068 >= min_delta = 0.0. New best score: 0.249\n"
     ]
    },
    {
     "data": {
      "application/vnd.jupyter.widget-view+json": {
       "model_id": "",
       "version_major": 2,
       "version_minor": 0
      },
      "text/plain": [
       "Validating: 0it [00:00, ?it/s]"
      ]
     },
     "metadata": {},
     "output_type": "display_data"
    },
    {
     "name": "stderr",
     "output_type": "stream",
     "text": [
      "Metric validation_loss improved by 0.044 >= min_delta = 0.0. New best score: 0.205\n"
     ]
    },
    {
     "data": {
      "application/vnd.jupyter.widget-view+json": {
       "model_id": "",
       "version_major": 2,
       "version_minor": 0
      },
      "text/plain": [
       "Validating: 0it [00:00, ?it/s]"
      ]
     },
     "metadata": {},
     "output_type": "display_data"
    },
    {
     "data": {
      "application/vnd.jupyter.widget-view+json": {
       "model_id": "",
       "version_major": 2,
       "version_minor": 0
      },
      "text/plain": [
       "Validating: 0it [00:00, ?it/s]"
      ]
     },
     "metadata": {},
     "output_type": "display_data"
    },
    {
     "data": {
      "application/vnd.jupyter.widget-view+json": {
       "model_id": "",
       "version_major": 2,
       "version_minor": 0
      },
      "text/plain": [
       "Validating: 0it [00:00, ?it/s]"
      ]
     },
     "metadata": {},
     "output_type": "display_data"
    },
    {
     "data": {
      "application/vnd.jupyter.widget-view+json": {
       "model_id": "",
       "version_major": 2,
       "version_minor": 0
      },
      "text/plain": [
       "Validating: 0it [00:00, ?it/s]"
      ]
     },
     "metadata": {},
     "output_type": "display_data"
    },
    {
     "name": "stderr",
     "output_type": "stream",
     "text": [
      "Metric validation_loss improved by 0.015 >= min_delta = 0.0. New best score: 0.190\n"
     ]
    },
    {
     "data": {
      "application/vnd.jupyter.widget-view+json": {
       "model_id": "",
       "version_major": 2,
       "version_minor": 0
      },
      "text/plain": [
       "Validating: 0it [00:00, ?it/s]"
      ]
     },
     "metadata": {},
     "output_type": "display_data"
    },
    {
     "name": "stderr",
     "output_type": "stream",
     "text": [
      "Metric validation_loss improved by 0.004 >= min_delta = 0.0. New best score: 0.187\n"
     ]
    },
    {
     "data": {
      "application/vnd.jupyter.widget-view+json": {
       "model_id": "",
       "version_major": 2,
       "version_minor": 0
      },
      "text/plain": [
       "Validating: 0it [00:00, ?it/s]"
      ]
     },
     "metadata": {},
     "output_type": "display_data"
    },
    {
     "name": "stderr",
     "output_type": "stream",
     "text": [
      "Metric validation_loss improved by 0.020 >= min_delta = 0.0. New best score: 0.166\n"
     ]
    },
    {
     "data": {
      "application/vnd.jupyter.widget-view+json": {
       "model_id": "",
       "version_major": 2,
       "version_minor": 0
      },
      "text/plain": [
       "Validating: 0it [00:00, ?it/s]"
      ]
     },
     "metadata": {},
     "output_type": "display_data"
    },
    {
     "data": {
      "application/vnd.jupyter.widget-view+json": {
       "model_id": "",
       "version_major": 2,
       "version_minor": 0
      },
      "text/plain": [
       "Validating: 0it [00:00, ?it/s]"
      ]
     },
     "metadata": {},
     "output_type": "display_data"
    },
    {
     "data": {
      "application/vnd.jupyter.widget-view+json": {
       "model_id": "",
       "version_major": 2,
       "version_minor": 0
      },
      "text/plain": [
       "Validating: 0it [00:00, ?it/s]"
      ]
     },
     "metadata": {},
     "output_type": "display_data"
    },
    {
     "data": {
      "application/vnd.jupyter.widget-view+json": {
       "model_id": "",
       "version_major": 2,
       "version_minor": 0
      },
      "text/plain": [
       "Validating: 0it [00:00, ?it/s]"
      ]
     },
     "metadata": {},
     "output_type": "display_data"
    },
    {
     "data": {
      "application/vnd.jupyter.widget-view+json": {
       "model_id": "",
       "version_major": 2,
       "version_minor": 0
      },
      "text/plain": [
       "Validating: 0it [00:00, ?it/s]"
      ]
     },
     "metadata": {},
     "output_type": "display_data"
    },
    {
     "data": {
      "application/vnd.jupyter.widget-view+json": {
       "model_id": "",
       "version_major": 2,
       "version_minor": 0
      },
      "text/plain": [
       "Validating: 0it [00:00, ?it/s]"
      ]
     },
     "metadata": {},
     "output_type": "display_data"
    },
    {
     "data": {
      "application/vnd.jupyter.widget-view+json": {
       "model_id": "",
       "version_major": 2,
       "version_minor": 0
      },
      "text/plain": [
       "Validating: 0it [00:00, ?it/s]"
      ]
     },
     "metadata": {},
     "output_type": "display_data"
    },
    {
     "data": {
      "application/vnd.jupyter.widget-view+json": {
       "model_id": "",
       "version_major": 2,
       "version_minor": 0
      },
      "text/plain": [
       "Validating: 0it [00:00, ?it/s]"
      ]
     },
     "metadata": {},
     "output_type": "display_data"
    },
    {
     "name": "stderr",
     "output_type": "stream",
     "text": [
      "Metric validation_loss improved by 0.004 >= min_delta = 0.0. New best score: 0.162\n"
     ]
    },
    {
     "data": {
      "application/vnd.jupyter.widget-view+json": {
       "model_id": "",
       "version_major": 2,
       "version_minor": 0
      },
      "text/plain": [
       "Validating: 0it [00:00, ?it/s]"
      ]
     },
     "metadata": {},
     "output_type": "display_data"
    },
    {
     "data": {
      "application/vnd.jupyter.widget-view+json": {
       "model_id": "",
       "version_major": 2,
       "version_minor": 0
      },
      "text/plain": [
       "Validating: 0it [00:00, ?it/s]"
      ]
     },
     "metadata": {},
     "output_type": "display_data"
    },
    {
     "data": {
      "application/vnd.jupyter.widget-view+json": {
       "model_id": "",
       "version_major": 2,
       "version_minor": 0
      },
      "text/plain": [
       "Validating: 0it [00:00, ?it/s]"
      ]
     },
     "metadata": {},
     "output_type": "display_data"
    },
    {
     "data": {
      "application/vnd.jupyter.widget-view+json": {
       "model_id": "",
       "version_major": 2,
       "version_minor": 0
      },
      "text/plain": [
       "Validating: 0it [00:00, ?it/s]"
      ]
     },
     "metadata": {},
     "output_type": "display_data"
    },
    {
     "data": {
      "application/vnd.jupyter.widget-view+json": {
       "model_id": "",
       "version_major": 2,
       "version_minor": 0
      },
      "text/plain": [
       "Validating: 0it [00:00, ?it/s]"
      ]
     },
     "metadata": {},
     "output_type": "display_data"
    },
    {
     "data": {
      "application/vnd.jupyter.widget-view+json": {
       "model_id": "",
       "version_major": 2,
       "version_minor": 0
      },
      "text/plain": [
       "Validating: 0it [00:00, ?it/s]"
      ]
     },
     "metadata": {},
     "output_type": "display_data"
    },
    {
     "name": "stderr",
     "output_type": "stream",
     "text": [
      "Metric validation_loss improved by 0.005 >= min_delta = 0.0. New best score: 0.157\n"
     ]
    },
    {
     "data": {
      "application/vnd.jupyter.widget-view+json": {
       "model_id": "",
       "version_major": 2,
       "version_minor": 0
      },
      "text/plain": [
       "Validating: 0it [00:00, ?it/s]"
      ]
     },
     "metadata": {},
     "output_type": "display_data"
    },
    {
     "data": {
      "application/vnd.jupyter.widget-view+json": {
       "model_id": "",
       "version_major": 2,
       "version_minor": 0
      },
      "text/plain": [
       "Validating: 0it [00:00, ?it/s]"
      ]
     },
     "metadata": {},
     "output_type": "display_data"
    },
    {
     "data": {
      "application/vnd.jupyter.widget-view+json": {
       "model_id": "",
       "version_major": 2,
       "version_minor": 0
      },
      "text/plain": [
       "Validating: 0it [00:00, ?it/s]"
      ]
     },
     "metadata": {},
     "output_type": "display_data"
    },
    {
     "data": {
      "application/vnd.jupyter.widget-view+json": {
       "model_id": "",
       "version_major": 2,
       "version_minor": 0
      },
      "text/plain": [
       "Validating: 0it [00:00, ?it/s]"
      ]
     },
     "metadata": {},
     "output_type": "display_data"
    },
    {
     "data": {
      "application/vnd.jupyter.widget-view+json": {
       "model_id": "",
       "version_major": 2,
       "version_minor": 0
      },
      "text/plain": [
       "Validating: 0it [00:00, ?it/s]"
      ]
     },
     "metadata": {},
     "output_type": "display_data"
    },
    {
     "data": {
      "application/vnd.jupyter.widget-view+json": {
       "model_id": "",
       "version_major": 2,
       "version_minor": 0
      },
      "text/plain": [
       "Validating: 0it [00:00, ?it/s]"
      ]
     },
     "metadata": {},
     "output_type": "display_data"
    },
    {
     "data": {
      "application/vnd.jupyter.widget-view+json": {
       "model_id": "",
       "version_major": 2,
       "version_minor": 0
      },
      "text/plain": [
       "Validating: 0it [00:00, ?it/s]"
      ]
     },
     "metadata": {},
     "output_type": "display_data"
    },
    {
     "data": {
      "application/vnd.jupyter.widget-view+json": {
       "model_id": "",
       "version_major": 2,
       "version_minor": 0
      },
      "text/plain": [
       "Validating: 0it [00:00, ?it/s]"
      ]
     },
     "metadata": {},
     "output_type": "display_data"
    },
    {
     "name": "stderr",
     "output_type": "stream",
     "text": [
      "Monitored metric validation_loss did not improve in the last 8 records. Best score: 0.157. Signaling Trainer to stop.\n"
     ]
    },
    {
     "data": {
      "application/vnd.jupyter.widget-view+json": {
       "model_id": "",
       "version_major": 2,
       "version_minor": 0
      },
      "text/plain": [
       "Validating: 0it [00:00, ?it/s]"
      ]
     },
     "metadata": {},
     "output_type": "display_data"
    },
    {
     "name": "stderr",
     "output_type": "stream",
     "text": [
      "Monitored metric validation_loss did not improve in the last 9 records. Best score: 0.157. Signaling Trainer to stop.\n"
     ]
    }
   ],
   "source": [
    "pipeline = pl.Trainer(max_epochs=60, gpus=[0, 1], accelerator=\"dp\",\n",
    "                      num_sanity_val_steps=0, callbacks=[checkpoint_callback, early_stop_callback],\n",
    "                      val_check_interval=0.9, logger=logger, gradient_clip_val=1.)\n",
    "\n",
    "data_module = DataModule(labels, train_dataset_path, validation_dataset_path,\n",
    "                         test_dataset_path, batch_size=config[\"batch_size\"],\n",
    "                         collate_fn=collate, n_jobs=-1, drop_last=False)\n",
    "# Start training\n",
    "pipeline.fit(cold, datamodule=data_module)"
   ]
  },
  {
   "cell_type": "code",
   "execution_count": 51,
   "metadata": {
    "ExecuteTime": {
     "end_time": "2021-06-04T07:00:40.806904Z",
     "start_time": "2021-06-04T07:00:38.556990Z"
    }
   },
   "outputs": [
    {
     "name": "stderr",
     "output_type": "stream",
     "text": [
      "LOCAL_RANK: 0 - CUDA_VISIBLE_DEVICES: [0,1]\n"
     ]
    },
    {
     "data": {
      "application/vnd.jupyter.widget-view+json": {
       "model_id": "17e2f37ed1c941babf26741bda381e2c",
       "version_major": 2,
       "version_minor": 0
      },
      "text/plain": [
       "Testing: 0it [00:00, ?it/s]"
      ]
     },
     "metadata": {},
     "output_type": "display_data"
    },
    {
     "data": {
      "image/png": "[encoded data removed]",
      "text/plain": [
       "<Figure size 576x360 with 1 Axes>"
      ]
     },
     "metadata": {},
     "output_type": "display_data"
    },
    {
     "data": {
      "image/png": "[encoded data removed]",
      "text/plain": [
       "<Figure size 864x360 with 1 Axes>"
      ]
     },
     "metadata": {},
     "output_type": "display_data"
    },
    {
     "name": "stdout",
     "output_type": "stream",
     "text": [
      "--------------------------------------------------------------------------------\n",
      "DATALOADER:0 TEST RESULTS\n",
      "{'f1_fridge': 0.8471779078245163,\n",
      " 'f1_kettle': 0.9797139912843704,\n",
      " 'f1_microwave': 0.9825041890144348,\n",
      " 'f1_vacuumcleaner': 0.9862018078565598,\n",
      " 'f1_washingmachine': 0.9114658832550049,\n",
      " 'test_mean_f1_w=1': 0.96276593,\n",
      " 'test_mean_f1_w=2': 0.9414942,\n",
      " 'test_mean_f1_w=3': 0.9413301,\n",
      " 'test_mean_f1_w=4': 0.93626165,\n",
      " 'test_t_opt': 0.5510204081632653,\n",
      " 'test_weighted_mean_f1': 0.9454629719257355}\n",
      "--------------------------------------------------------------------------------\n"
     ]
    }
   ],
   "source": [
    "# Load the model for evaluation\n",
    "data_module = DataModule(labels, train_dataset_path, validation_dataset_path,\n",
    "                         test_dataset_path, batch_size=256,\n",
    "                         collate_fn=collate, n_jobs=-1, drop_last=False)\n",
    "cold = ModelCOLD.load_from_checkpoint(\n",
    "    \"./checkpoints/cold2-epoch=32-validation_weighted_mean_f1=0.9454.ckpt\")\n",
    "test_log=pipeline.test(cold, datamodule=data_module)"
   ]
  },
  {
   "cell_type": "markdown",
   "metadata": {},
   "source": [
    "## Experiment 3"
   ]
  },
  {
   "cell_type": "code",
   "execution_count": 57,
   "metadata": {
    "ExecuteTime": {
     "end_time": "2021-06-04T07:05:20.456963Z",
     "start_time": "2021-06-04T07:05:20.314229Z"
    },
    "scrolled": false
   },
   "outputs": [],
   "source": [
    "experiment = 3\n",
    "train_dataset_path = train_dataset_path_tpl % experiment\n",
    "validation_dataset_path = validation_dataset_path_tpl % experiment\n",
    "test_dataset_path = test_dataset_path_tpl % experiment\n",
    "patterns = np.load(\"./synthetic/patterns.npy\", allow_pickle=True).item()\n",
    "labels = sorted(list(patterns.keys()))\n",
    "# Max number of concurrent loads in the dataset\n",
    "w_max = 10"
   ]
  },
  {
   "cell_type": "code",
   "execution_count": 58,
   "metadata": {
    "ExecuteTime": {
     "end_time": "2021-06-04T07:05:20.468506Z",
     "start_time": "2021-06-04T07:05:20.464805Z"
    }
   },
   "outputs": [
    {
     "name": "stderr",
     "output_type": "stream",
     "text": [
      "Global seed set to 0\n"
     ]
    }
   ],
   "source": [
    "# Hyperparameters from ASHA\n",
    "config = {\n",
    "    \"lr\": 0.0003245779272636366,\n",
    "    \"weight_decay\": 0.028095324849578898,\n",
    "    \"batch_size\": 64,\n",
    "    \"dropout\": 0.2,\n",
    "    \"layout\":  (256, 14, 8),\n",
    "}\n",
    "# Pytorch Lightning pipeline\n",
    "pl.seed_everything(random_seed)\n",
    "# Callbacks\n",
    "checkpoint_callback = ModelCheckpoint(\n",
    "    monitor=\"validation_weighted_mean_f1\",\n",
    "    dirpath=\"./checkpoints/\",\n",
    "    filename=\"cold%d-{epoch:d}-{validation_weighted_mean_f1:.4f}\" % experiment,\n",
    "    save_top_k=3,\n",
    "    mode=\"max\",\n",
    ")\n",
    "early_stop_callback = EarlyStopping(\n",
    "    monitor=\"validation_loss\",\n",
    "    min_delta=0.00,\n",
    "    patience=8,\n",
    "    verbose=True,\n",
    "    mode=\"min\",\n",
    ")\n",
    "# Tensorboard dashboard\n",
    "logger = TensorBoardLogger(\"./logs/cold%d\" %\n",
    "                           experiment, name=\"cold%d\" % experiment)"
   ]
  },
  {
   "cell_type": "code",
   "execution_count": 59,
   "metadata": {
    "ExecuteTime": {
     "end_time": "2021-06-04T07:05:21.375483Z",
     "start_time": "2021-06-04T07:05:21.356248Z"
    }
   },
   "outputs": [],
   "source": [
    "# Initialize the model\n",
    "cold = ModelCOLD(config, n_inputs, len(labels), w_max=w_max)"
   ]
  },
  {
   "cell_type": "code",
   "execution_count": 60,
   "metadata": {
    "ExecuteTime": {
     "end_time": "2021-06-04T07:41:48.634436Z",
     "start_time": "2021-06-04T07:05:24.070513Z"
    }
   },
   "outputs": [
    {
     "name": "stderr",
     "output_type": "stream",
     "text": [
      "GPU available: True, used: True\n",
      "TPU available: False, using: 0 TPU cores\n",
      "LOCAL_RANK: 0 - CUDA_VISIBLE_DEVICES: [0,1]\n",
      "\n",
      "  | Name       | Type               | Params\n",
      "--------------------------------------------------\n",
      "0 | affine     | Linear             | 51.7 K\n",
      "1 | sequence   | Sequential         | 1.8 M \n",
      "2 | mhsa       | MultiheadAttention | 263 K \n",
      "3 | classifier | Linear             | 14.1 K\n",
      "--------------------------------------------------\n",
      "2.2 M     Trainable params\n",
      "0         Non-trainable params\n",
      "2.2 M     Total params\n",
      "8.714     Total estimated model params size (MB)\n"
     ]
    },
    {
     "data": {
      "application/vnd.jupyter.widget-view+json": {
       "model_id": "538756cc4e754082916037545bc88213",
       "version_major": 2,
       "version_minor": 0
      },
      "text/plain": [
       "Training: 0it [00:00, ?it/s]"
      ]
     },
     "metadata": {},
     "output_type": "display_data"
    },
    {
     "data": {
      "application/vnd.jupyter.widget-view+json": {
       "model_id": "",
       "version_major": 2,
       "version_minor": 0
      },
      "text/plain": [
       "Validating: 0it [00:00, ?it/s]"
      ]
     },
     "metadata": {},
     "output_type": "display_data"
    },
    {
     "name": "stderr",
     "output_type": "stream",
     "text": [
      "Metric validation_loss improved. New best score: 0.217\n"
     ]
    },
    {
     "data": {
      "application/vnd.jupyter.widget-view+json": {
       "model_id": "",
       "version_major": 2,
       "version_minor": 0
      },
      "text/plain": [
       "Validating: 0it [00:00, ?it/s]"
      ]
     },
     "metadata": {},
     "output_type": "display_data"
    },
    {
     "name": "stderr",
     "output_type": "stream",
     "text": [
      "Metric validation_loss improved by 0.033 >= min_delta = 0.0. New best score: 0.184\n"
     ]
    },
    {
     "data": {
      "application/vnd.jupyter.widget-view+json": {
       "model_id": "",
       "version_major": 2,
       "version_minor": 0
      },
      "text/plain": [
       "Validating: 0it [00:00, ?it/s]"
      ]
     },
     "metadata": {},
     "output_type": "display_data"
    },
    {
     "name": "stderr",
     "output_type": "stream",
     "text": [
      "Metric validation_loss improved by 0.015 >= min_delta = 0.0. New best score: 0.169\n"
     ]
    },
    {
     "data": {
      "application/vnd.jupyter.widget-view+json": {
       "model_id": "",
       "version_major": 2,
       "version_minor": 0
      },
      "text/plain": [
       "Validating: 0it [00:00, ?it/s]"
      ]
     },
     "metadata": {},
     "output_type": "display_data"
    },
    {
     "name": "stderr",
     "output_type": "stream",
     "text": [
      "Metric validation_loss improved by 0.011 >= min_delta = 0.0. New best score: 0.158\n"
     ]
    },
    {
     "data": {
      "application/vnd.jupyter.widget-view+json": {
       "model_id": "",
       "version_major": 2,
       "version_minor": 0
      },
      "text/plain": [
       "Validating: 0it [00:00, ?it/s]"
      ]
     },
     "metadata": {},
     "output_type": "display_data"
    },
    {
     "name": "stderr",
     "output_type": "stream",
     "text": [
      "Metric validation_loss improved by 0.008 >= min_delta = 0.0. New best score: 0.151\n"
     ]
    },
    {
     "data": {
      "application/vnd.jupyter.widget-view+json": {
       "model_id": "",
       "version_major": 2,
       "version_minor": 0
      },
      "text/plain": [
       "Validating: 0it [00:00, ?it/s]"
      ]
     },
     "metadata": {},
     "output_type": "display_data"
    },
    {
     "data": {
      "application/vnd.jupyter.widget-view+json": {
       "model_id": "",
       "version_major": 2,
       "version_minor": 0
      },
      "text/plain": [
       "Validating: 0it [00:00, ?it/s]"
      ]
     },
     "metadata": {},
     "output_type": "display_data"
    },
    {
     "name": "stderr",
     "output_type": "stream",
     "text": [
      "Metric validation_loss improved by 0.003 >= min_delta = 0.0. New best score: 0.148\n"
     ]
    },
    {
     "data": {
      "application/vnd.jupyter.widget-view+json": {
       "model_id": "",
       "version_major": 2,
       "version_minor": 0
      },
      "text/plain": [
       "Validating: 0it [00:00, ?it/s]"
      ]
     },
     "metadata": {},
     "output_type": "display_data"
    },
    {
     "data": {
      "application/vnd.jupyter.widget-view+json": {
       "model_id": "",
       "version_major": 2,
       "version_minor": 0
      },
      "text/plain": [
       "Validating: 0it [00:00, ?it/s]"
      ]
     },
     "metadata": {},
     "output_type": "display_data"
    },
    {
     "data": {
      "application/vnd.jupyter.widget-view+json": {
       "model_id": "",
       "version_major": 2,
       "version_minor": 0
      },
      "text/plain": [
       "Validating: 0it [00:00, ?it/s]"
      ]
     },
     "metadata": {},
     "output_type": "display_data"
    },
    {
     "data": {
      "application/vnd.jupyter.widget-view+json": {
       "model_id": "",
       "version_major": 2,
       "version_minor": 0
      },
      "text/plain": [
       "Validating: 0it [00:00, ?it/s]"
      ]
     },
     "metadata": {},
     "output_type": "display_data"
    },
    {
     "name": "stderr",
     "output_type": "stream",
     "text": [
      "Metric validation_loss improved by 0.000 >= min_delta = 0.0. New best score: 0.147\n"
     ]
    },
    {
     "data": {
      "application/vnd.jupyter.widget-view+json": {
       "model_id": "",
       "version_major": 2,
       "version_minor": 0
      },
      "text/plain": [
       "Validating: 0it [00:00, ?it/s]"
      ]
     },
     "metadata": {},
     "output_type": "display_data"
    },
    {
     "name": "stderr",
     "output_type": "stream",
     "text": [
      "Metric validation_loss improved by 0.001 >= min_delta = 0.0. New best score: 0.146\n"
     ]
    },
    {
     "data": {
      "application/vnd.jupyter.widget-view+json": {
       "model_id": "",
       "version_major": 2,
       "version_minor": 0
      },
      "text/plain": [
       "Validating: 0it [00:00, ?it/s]"
      ]
     },
     "metadata": {},
     "output_type": "display_data"
    },
    {
     "data": {
      "application/vnd.jupyter.widget-view+json": {
       "model_id": "",
       "version_major": 2,
       "version_minor": 0
      },
      "text/plain": [
       "Validating: 0it [00:00, ?it/s]"
      ]
     },
     "metadata": {},
     "output_type": "display_data"
    },
    {
     "data": {
      "application/vnd.jupyter.widget-view+json": {
       "model_id": "",
       "version_major": 2,
       "version_minor": 0
      },
      "text/plain": [
       "Validating: 0it [00:00, ?it/s]"
      ]
     },
     "metadata": {},
     "output_type": "display_data"
    },
    {
     "data": {
      "application/vnd.jupyter.widget-view+json": {
       "model_id": "",
       "version_major": 2,
       "version_minor": 0
      },
      "text/plain": [
       "Validating: 0it [00:00, ?it/s]"
      ]
     },
     "metadata": {},
     "output_type": "display_data"
    },
    {
     "data": {
      "application/vnd.jupyter.widget-view+json": {
       "model_id": "",
       "version_major": 2,
       "version_minor": 0
      },
      "text/plain": [
       "Validating: 0it [00:00, ?it/s]"
      ]
     },
     "metadata": {},
     "output_type": "display_data"
    },
    {
     "data": {
      "application/vnd.jupyter.widget-view+json": {
       "model_id": "",
       "version_major": 2,
       "version_minor": 0
      },
      "text/plain": [
       "Validating: 0it [00:00, ?it/s]"
      ]
     },
     "metadata": {},
     "output_type": "display_data"
    },
    {
     "data": {
      "application/vnd.jupyter.widget-view+json": {
       "model_id": "",
       "version_major": 2,
       "version_minor": 0
      },
      "text/plain": [
       "Validating: 0it [00:00, ?it/s]"
      ]
     },
     "metadata": {},
     "output_type": "display_data"
    },
    {
     "data": {
      "application/vnd.jupyter.widget-view+json": {
       "model_id": "",
       "version_major": 2,
       "version_minor": 0
      },
      "text/plain": [
       "Validating: 0it [00:00, ?it/s]"
      ]
     },
     "metadata": {},
     "output_type": "display_data"
    },
    {
     "name": "stderr",
     "output_type": "stream",
     "text": [
      "Monitored metric validation_loss did not improve in the last 8 records. Best score: 0.146. Signaling Trainer to stop.\n"
     ]
    },
    {
     "data": {
      "application/vnd.jupyter.widget-view+json": {
       "model_id": "",
       "version_major": 2,
       "version_minor": 0
      },
      "text/plain": [
       "Validating: 0it [00:00, ?it/s]"
      ]
     },
     "metadata": {},
     "output_type": "display_data"
    },
    {
     "name": "stderr",
     "output_type": "stream",
     "text": [
      "Monitored metric validation_loss did not improve in the last 9 records. Best score: 0.146. Signaling Trainer to stop.\n"
     ]
    }
   ],
   "source": [
    "pipeline = pl.Trainer(max_epochs=60, gpus=[0, 1], accelerator=\"dp\",\n",
    "                      num_sanity_val_steps=0, callbacks=[checkpoint_callback, early_stop_callback],\n",
    "                      val_check_interval=0.9, logger=logger, gradient_clip_val=1.)\n",
    "\n",
    "data_module = DataModule(labels, train_dataset_path, validation_dataset_path,\n",
    "                         test_dataset_path, batch_size=config[\"batch_size\"],\n",
    "                         collate_fn=collate, n_jobs=-1, drop_last=False)\n",
    "# Start training\n",
    "pipeline.fit(cold, datamodule=data_module)"
   ]
  },
  {
   "cell_type": "code",
   "execution_count": 61,
   "metadata": {
    "ExecuteTime": {
     "end_time": "2021-06-04T07:42:48.629957Z",
     "start_time": "2021-06-04T07:41:48.635573Z"
    }
   },
   "outputs": [
    {
     "name": "stderr",
     "output_type": "stream",
     "text": [
      "LOCAL_RANK: 0 - CUDA_VISIBLE_DEVICES: [0,1]\n"
     ]
    },
    {
     "data": {
      "application/vnd.jupyter.widget-view+json": {
       "model_id": "ad3b0e8b0635415481782bf8e27b0a5c",
       "version_major": 2,
       "version_minor": 0
      },
      "text/plain": [
       "Testing: 0it [00:00, ?it/s]"
      ]
     },
     "metadata": {},
     "output_type": "display_data"
    },
    {
     "data": {
      "image/png": "[encoded data removed]",
      "text/plain": [
       "<Figure size 576x360 with 1 Axes>"
      ]
     },
     "metadata": {},
     "output_type": "display_data"
    },
    {
     "data": {
      "image/png": "[encoded data removed]",
      "text/plain": [
       "<Figure size 864x360 with 1 Axes>"
      ]
     },
     "metadata": {},
     "output_type": "display_data"
    },
    {
     "name": "stdout",
     "output_type": "stream",
     "text": [
      "--------------------------------------------------------------------------------\n",
      "DATALOADER:0 TEST RESULTS\n",
      "{'f1_ac': 0.44984478652477267,\n",
      " 'f1_airpump': 0.8724961221218109,\n",
      " 'f1_benchgrinder': 0.9159094154834747,\n",
      " 'f1_cablemodem': 0.4913441389799118,\n",
      " 'f1_cablereceiver': 0.6324312508106231,\n",
      " 'f1_cfl': 0.8050073325634003,\n",
      " 'f1_charger': 0.6610807806253434,\n",
      " 'f1_coffeemachine': 0.7133658409118653,\n",
      " 'f1_deepfryer': 0.8507239341735839,\n",
      " 'f1_desktoppc': 0.9166436553001404,\n",
      " 'f1_desoldering': 0.9958060443401336,\n",
      " 'f1_drillingmachine': 0.9184288084506989,\n",
      " 'f1_fan': 0.42584957331418993,\n",
      " 'f1_fanheater': 0.9699542701244355,\n",
      " 'f1_flatiron': 0.8714798927307129,\n",
      " 'f1_fridge': 0.5788575142621994,\n",
      " 'f1_gameconsole': 0.7593452513217926,\n",
      " 'f1_guitaramp': 0.6082803964614868,\n",
      " 'f1_hairdryer': 0.7635178387165069,\n",
      " 'f1_halogen': 0.43137606233358383,\n",
      " 'f1_halogenfluter': 0.8193038165569305,\n",
      " 'f1_heater': 0.7256297528743744,\n",
      " 'f1_hifi': 0.8936854541301728,\n",
      " 'f1_iron': 0.7807612299919129,\n",
      " 'f1_jigsaw': 0.7536810457706451,\n",
      " 'f1_juicemaker': 0.9960002839565277,\n",
      " 'f1_kettle': 0.7885050475597382,\n",
      " 'f1_kitchenhood': 0.6740691155195236,\n",
      " 'f1_laptop': 0.7708114683628082,\n",
      " 'f1_laserprinter': 0.902823007106781,\n",
      " 'f1_ledlight': 0.6987798333168029,\n",
      " 'f1_lightbulb': 0.6463692277669907,\n",
      " 'f1_massage': 0.9487477302551269,\n",
      " 'f1_microwave': 0.9726184368133545,\n",
      " 'f1_mixer': 0.7545325517654419,\n",
      " 'f1_monitor': 0.9087671041488647,\n",
      " 'f1_mosquitorepellent': 0.3894323207437992,\n",
      " 'f1_multitool': 0.8328117430210114,\n",
      " 'f1_networkswitch': 0.37344606816768644,\n",
      " 'f1_powersupply': 0.6456963121891022,\n",
      " 'f1_projector': 0.9988282442092895,\n",
      " 'f1_ricecooker': 0.6574798732995987,\n",
      " 'f1_sandwichmaker': 0.6976968914270401,\n",
      " 'f1_sewingmachine': 0.9846348702907562,\n",
      " 'f1_shoewarmer': 0.41478499323129653,\n",
      " 'f1_shredder': 0.957012939453125,\n",
      " 'f1_solderingiron': 0.6765837907791138,\n",
      " 'f1_stove': 0.9703436851501465,\n",
      " 'f1_toaster': 0.6830917775630951,\n",
      " 'f1_treadmill': 0.9720640897750854,\n",
      " 'f1_tv': 0.8692931175231934,\n",
      " 'f1_vacuumcleaner': 0.8904005527496338,\n",
      " 'f1_washingmachine': 0.8300466299057007,\n",
      " 'f1_waterheater': 0.8838142693042755,\n",
      " 'f1_waterpump': 0.9975177347660065,\n",
      " 'test_mean_f1_w=1': 0.88304096,\n",
      " 'test_mean_f1_w=10': 0.6789562,\n",
      " 'test_mean_f1_w=2': 0.9147081,\n",
      " 'test_mean_f1_w=3': 0.8722013,\n",
      " 'test_mean_f1_w=4': 0.8315913,\n",
      " 'test_mean_f1_w=5': 0.7952067,\n",
      " 'test_mean_f1_w=6': 0.7649492,\n",
      " 'test_mean_f1_w=7': 0.74085194,\n",
      " 'test_mean_f1_w=8': 0.7171594,\n",
      " 'test_mean_f1_w=9': 0.6959541,\n",
      " 'test_t_opt': 0.7346938775510203,\n",
      " 'test_weighted_mean_f1': 0.7894619226455688}\n",
      "--------------------------------------------------------------------------------\n"
     ]
    }
   ],
   "source": [
    "# Load the model for evaluation\n",
    "data_module = DataModule(labels, train_dataset_path, validation_dataset_path,\n",
    "                         test_dataset_path, batch_size=256,\n",
    "                         collate_fn=collate, n_jobs=-1, drop_last=False)\n",
    "cold = ModelCOLD.load_from_checkpoint(\n",
    "    \"./checkpoints/cold3-epoch=18-validation_weighted_mean_f1=0.8025.ckpt\")\n",
    "test_log=pipeline.test(cold, datamodule=data_module)"
   ]
  },
  {
   "cell_type": "markdown",
   "metadata": {},
   "source": [
    "## Explanation of results\n",
    "The code to reproduce the values from Section \"Results\""
   ]
  },
  {
   "cell_type": "code",
   "execution_count": 62,
   "metadata": {
    "ExecuteTime": {
     "end_time": "2021-06-04T07:42:48.632827Z",
     "start_time": "2021-06-04T07:42:48.631154Z"
    }
   },
   "outputs": [],
   "source": [
    "import pandas as pd\n",
    "from tqdm.notebook import tqdm\n",
    "from synthesizer import parse_magnitude "
   ]
  },
  {
   "cell_type": "code",
   "execution_count": 63,
   "metadata": {
    "ExecuteTime": {
     "end_time": "2021-06-04T07:42:48.646177Z",
     "start_time": "2021-06-04T07:42:48.633749Z"
    }
   },
   "outputs": [],
   "source": [
    "import seaborn as sb\n",
    "import matplotlib.pyplot as plt"
   ]
  },
  {
   "cell_type": "code",
   "execution_count": 64,
   "metadata": {
    "ExecuteTime": {
     "end_time": "2021-06-04T07:42:48.651388Z",
     "start_time": "2021-06-04T07:42:48.647005Z"
    }
   },
   "outputs": [],
   "source": [
    "sb.set()"
   ]
  },
  {
   "cell_type": "markdown",
   "metadata": {},
   "source": [
    "### Toolbox"
   ]
  },
  {
   "cell_type": "code",
   "execution_count": 65,
   "metadata": {
    "ExecuteTime": {
     "end_time": "2021-06-04T07:42:48.659446Z",
     "start_time": "2021-06-04T07:42:48.652339Z"
    }
   },
   "outputs": [],
   "source": [
    "def _rms(array):\n",
    "    return np.sqrt(np.sum(array**2)/len(array))\n",
    "\n",
    "def describe(patterns, fundamental=50, sampling_rate=4000, sort_by=\"c_rms_mean\"):\n",
    "    \"\"\"\n",
    "    patterns :: dict -- category: list of waveforms\n",
    "    fundamental :: int\n",
    "    sampling_rate :: int\n",
    "    sort_by :: str \n",
    "    ---\n",
    "    -> pd.DataFrame \n",
    "    \"\"\"\n",
    "\n",
    "    assert isinstance(patterns, dict)\n",
    "    assert isinstance(fundamental, int)\n",
    "    assert isinstance(sampling_rate, int)\n",
    "    assert isinstance(sort_by, str)\n",
    "\n",
    "    data = {\"label\": [], \"count\": [], \"t_mean\": [], \"v_f_mean\": [],\n",
    "            \"v_rms_mean\": [], \"v_st_mean\": [], \"v_max_mean\": [],\n",
    "            \"c_rms_mean\": [], \"c_max_mean\": []}\n",
    "\n",
    "    for label, channels in tqdm(patterns.items()):\n",
    "        currents, voltages = channels[\"current\"], channels[\"voltage\"]\n",
    "        # Per signal duration\n",
    "        t = []\n",
    "        # Voltage frequencies\n",
    "        v_f = []\n",
    "        # Voltage RMS values\n",
    "        v_rms = []\n",
    "        # Voltage steady state magnitudes\n",
    "        v_st = []\n",
    "        # Voltage absolute maximum values\n",
    "        v_max = []\n",
    "        # Current RMS values\n",
    "        c_rms = []\n",
    "        # Current absolute maximum values\n",
    "        c_max = []\n",
    "        for idx, (voltage, current) in enumerate(zip(voltages, currents)):\n",
    "            v_freqs = np.fft.rfftfreq(len(voltage), 1/sampling_rate)\n",
    "            t.append(len(voltage)/sampling_rate)\n",
    "            v_f.append(v_freqs[np.argmax(np.abs(np.fft.rfft(voltage)))])\n",
    "            v_rms.append(_rms(voltage))\n",
    "            v_st.append(parse_magnitude(voltage))\n",
    "            v_max.append(np.max(np.abs(voltage)))\n",
    "            c_rms.append(_rms(current))\n",
    "            c_max.append(np.max(np.abs(current)))\n",
    "\n",
    "        data[\"label\"].append(label)\n",
    "        data[\"count\"].append(len(voltages))\n",
    "        data[\"t_mean\"].append(np.mean(t))\n",
    "        data[\"v_f_mean\"].append(np.mean(v_f))\n",
    "        data[\"v_rms_mean\"].append(np.mean(v_rms))\n",
    "        data[\"v_st_mean\"].append(np.mean(v_st))\n",
    "        data[\"v_max_mean\"].append(np.mean(v_max))\n",
    "        data[\"c_rms_mean\"].append(np.mean(c_rms))\n",
    "        data[\"c_max_mean\"].append(np.mean(c_max))\n",
    "\n",
    "    table = pd.DataFrame(data)\n",
    "\n",
    "    return table.sort_values(by=sort_by)"
   ]
  },
  {
   "cell_type": "markdown",
   "metadata": {},
   "source": [
    "### Statistics per category of appliances"
   ]
  },
  {
   "cell_type": "code",
   "execution_count": 66,
   "metadata": {
    "ExecuteTime": {
     "end_time": "2021-06-04T07:43:16.118987Z",
     "start_time": "2021-06-04T07:42:48.660527Z"
    }
   },
   "outputs": [
    {
     "data": {
      "application/vnd.jupyter.widget-view+json": {
       "model_id": "ef59c9a34ecb4eb4ae1c8155e915dfb3",
       "version_major": 2,
       "version_minor": 0
      },
      "text/plain": [
       "  0%|          | 0/55 [00:00<?, ?it/s]"
      ]
     },
     "metadata": {},
     "output_type": "display_data"
    },
    {
     "data": {
      "text/html": [
       "<div>\n",
       "<style scoped>\n",
       "    .dataframe tbody tr th:only-of-type {\n",
       "        vertical-align: middle;\n",
       "    }\n",
       "\n",
       "    .dataframe tbody tr th {\n",
       "        vertical-align: top;\n",
       "    }\n",
       "\n",
       "    .dataframe thead th {\n",
       "        text-align: right;\n",
       "    }\n",
       "</style>\n",
       "<table border=\"1\" class=\"dataframe\">\n",
       "  <thead>\n",
       "    <tr style=\"text-align: right;\">\n",
       "      <th></th>\n",
       "      <th>label</th>\n",
       "      <th>count</th>\n",
       "      <th>t_mean</th>\n",
       "      <th>v_f_mean</th>\n",
       "      <th>v_rms_mean</th>\n",
       "      <th>v_st_mean</th>\n",
       "      <th>v_max_mean</th>\n",
       "      <th>c_rms_mean</th>\n",
       "      <th>c_max_mean</th>\n",
       "    </tr>\n",
       "  </thead>\n",
       "  <tbody>\n",
       "    <tr>\n",
       "      <th>30</th>\n",
       "      <td>networkswitch</td>\n",
       "      <td>10</td>\n",
       "      <td>5.000000</td>\n",
       "      <td>50.0</td>\n",
       "      <td>221.333292</td>\n",
       "      <td>310.991638</td>\n",
       "      <td>314.555542</td>\n",
       "      <td>0.044449</td>\n",
       "      <td>4.391113</td>\n",
       "    </tr>\n",
       "    <tr>\n",
       "      <th>53</th>\n",
       "      <td>cablemodem</td>\n",
       "      <td>10</td>\n",
       "      <td>5.000000</td>\n",
       "      <td>50.0</td>\n",
       "      <td>221.358292</td>\n",
       "      <td>310.989410</td>\n",
       "      <td>311.572021</td>\n",
       "      <td>0.047858</td>\n",
       "      <td>3.738371</td>\n",
       "    </tr>\n",
       "    <tr>\n",
       "      <th>18</th>\n",
       "      <td>mosquitorepellent</td>\n",
       "      <td>10</td>\n",
       "      <td>5.000000</td>\n",
       "      <td>50.0</td>\n",
       "      <td>224.166802</td>\n",
       "      <td>311.000000</td>\n",
       "      <td>317.298981</td>\n",
       "      <td>0.054458</td>\n",
       "      <td>0.329826</td>\n",
       "    </tr>\n",
       "    <tr>\n",
       "      <th>9</th>\n",
       "      <td>cablereceiver</td>\n",
       "      <td>10</td>\n",
       "      <td>5.000000</td>\n",
       "      <td>50.0</td>\n",
       "      <td>221.317619</td>\n",
       "      <td>310.991425</td>\n",
       "      <td>311.481110</td>\n",
       "      <td>0.070503</td>\n",
       "      <td>2.752827</td>\n",
       "    </tr>\n",
       "    <tr>\n",
       "      <th>42</th>\n",
       "      <td>shoewarmer</td>\n",
       "      <td>20</td>\n",
       "      <td>5.000000</td>\n",
       "      <td>50.0</td>\n",
       "      <td>223.920235</td>\n",
       "      <td>311.000000</td>\n",
       "      <td>313.034973</td>\n",
       "      <td>0.102506</td>\n",
       "      <td>0.401527</td>\n",
       "    </tr>\n",
       "    <tr>\n",
       "      <th>14</th>\n",
       "      <td>halogen</td>\n",
       "      <td>10</td>\n",
       "      <td>5.000000</td>\n",
       "      <td>50.0</td>\n",
       "      <td>218.082590</td>\n",
       "      <td>311.000000</td>\n",
       "      <td>312.246765</td>\n",
       "      <td>0.110671</td>\n",
       "      <td>0.584169</td>\n",
       "    </tr>\n",
       "    <tr>\n",
       "      <th>19</th>\n",
       "      <td>charger</td>\n",
       "      <td>70</td>\n",
       "      <td>5.000000</td>\n",
       "      <td>50.0</td>\n",
       "      <td>222.866301</td>\n",
       "      <td>311.000000</td>\n",
       "      <td>316.860779</td>\n",
       "      <td>0.111503</td>\n",
       "      <td>3.567132</td>\n",
       "    </tr>\n",
       "    <tr>\n",
       "      <th>44</th>\n",
       "      <td>cfl</td>\n",
       "      <td>180</td>\n",
       "      <td>1.972222</td>\n",
       "      <td>50.0</td>\n",
       "      <td>220.809793</td>\n",
       "      <td>311.000000</td>\n",
       "      <td>313.977936</td>\n",
       "      <td>0.116555</td>\n",
       "      <td>2.611354</td>\n",
       "    </tr>\n",
       "    <tr>\n",
       "      <th>15</th>\n",
       "      <td>gameconsole</td>\n",
       "      <td>40</td>\n",
       "      <td>5.000000</td>\n",
       "      <td>50.0</td>\n",
       "      <td>223.858768</td>\n",
       "      <td>311.000000</td>\n",
       "      <td>320.795441</td>\n",
       "      <td>0.150023</td>\n",
       "      <td>0.633523</td>\n",
       "    </tr>\n",
       "    <tr>\n",
       "      <th>1</th>\n",
       "      <td>massage</td>\n",
       "      <td>30</td>\n",
       "      <td>4.666667</td>\n",
       "      <td>50.0</td>\n",
       "      <td>222.181011</td>\n",
       "      <td>311.000000</td>\n",
       "      <td>329.120636</td>\n",
       "      <td>0.155939</td>\n",
       "      <td>0.944853</td>\n",
       "    </tr>\n",
       "    <tr>\n",
       "      <th>52</th>\n",
       "      <td>guitaramp</td>\n",
       "      <td>10</td>\n",
       "      <td>5.000000</td>\n",
       "      <td>50.0</td>\n",
       "      <td>224.053533</td>\n",
       "      <td>311.000000</td>\n",
       "      <td>312.582825</td>\n",
       "      <td>0.172084</td>\n",
       "      <td>3.965197</td>\n",
       "    </tr>\n",
       "    <tr>\n",
       "      <th>2</th>\n",
       "      <td>lightbulb</td>\n",
       "      <td>217</td>\n",
       "      <td>2.953917</td>\n",
       "      <td>50.0</td>\n",
       "      <td>220.441860</td>\n",
       "      <td>311.000000</td>\n",
       "      <td>316.647766</td>\n",
       "      <td>0.198528</td>\n",
       "      <td>1.619203</td>\n",
       "    </tr>\n",
       "    <tr>\n",
       "      <th>28</th>\n",
       "      <td>laptop</td>\n",
       "      <td>218</td>\n",
       "      <td>2.752294</td>\n",
       "      <td>50.0</td>\n",
       "      <td>220.617483</td>\n",
       "      <td>311.003235</td>\n",
       "      <td>313.996490</td>\n",
       "      <td>0.210159</td>\n",
       "      <td>2.452341</td>\n",
       "    </tr>\n",
       "    <tr>\n",
       "      <th>35</th>\n",
       "      <td>monitor</td>\n",
       "      <td>20</td>\n",
       "      <td>5.000000</td>\n",
       "      <td>50.0</td>\n",
       "      <td>220.676580</td>\n",
       "      <td>311.000000</td>\n",
       "      <td>324.135284</td>\n",
       "      <td>0.252738</td>\n",
       "      <td>1.376279</td>\n",
       "    </tr>\n",
       "    <tr>\n",
       "      <th>45</th>\n",
       "      <td>projector</td>\n",
       "      <td>10</td>\n",
       "      <td>4.600000</td>\n",
       "      <td>50.0</td>\n",
       "      <td>220.043358</td>\n",
       "      <td>311.000000</td>\n",
       "      <td>314.169983</td>\n",
       "      <td>0.266011</td>\n",
       "      <td>13.277807</td>\n",
       "    </tr>\n",
       "    <tr>\n",
       "      <th>0</th>\n",
       "      <td>fan</td>\n",
       "      <td>270</td>\n",
       "      <td>2.896296</td>\n",
       "      <td>50.0</td>\n",
       "      <td>220.804083</td>\n",
       "      <td>310.999298</td>\n",
       "      <td>316.386505</td>\n",
       "      <td>0.297326</td>\n",
       "      <td>0.735803</td>\n",
       "    </tr>\n",
       "    <tr>\n",
       "      <th>38</th>\n",
       "      <td>solderingiron</td>\n",
       "      <td>20</td>\n",
       "      <td>4.500000</td>\n",
       "      <td>50.0</td>\n",
       "      <td>221.628901</td>\n",
       "      <td>311.000000</td>\n",
       "      <td>324.869110</td>\n",
       "      <td>0.307301</td>\n",
       "      <td>3.786227</td>\n",
       "    </tr>\n",
       "    <tr>\n",
       "      <th>36</th>\n",
       "      <td>multitool</td>\n",
       "      <td>10</td>\n",
       "      <td>5.000000</td>\n",
       "      <td>50.0</td>\n",
       "      <td>219.769883</td>\n",
       "      <td>311.000000</td>\n",
       "      <td>333.470154</td>\n",
       "      <td>0.348821</td>\n",
       "      <td>2.441481</td>\n",
       "    </tr>\n",
       "    <tr>\n",
       "      <th>6</th>\n",
       "      <td>ledlight</td>\n",
       "      <td>90</td>\n",
       "      <td>4.833333</td>\n",
       "      <td>50.0</td>\n",
       "      <td>222.208927</td>\n",
       "      <td>311.000000</td>\n",
       "      <td>326.339355</td>\n",
       "      <td>0.414184</td>\n",
       "      <td>7.036120</td>\n",
       "    </tr>\n",
       "    <tr>\n",
       "      <th>37</th>\n",
       "      <td>hifi</td>\n",
       "      <td>10</td>\n",
       "      <td>5.000000</td>\n",
       "      <td>50.0</td>\n",
       "      <td>225.147812</td>\n",
       "      <td>311.000000</td>\n",
       "      <td>311.703857</td>\n",
       "      <td>0.417109</td>\n",
       "      <td>8.761902</td>\n",
       "    </tr>\n",
       "    <tr>\n",
       "      <th>27</th>\n",
       "      <td>tv</td>\n",
       "      <td>40</td>\n",
       "      <td>5.000000</td>\n",
       "      <td>50.0</td>\n",
       "      <td>220.539444</td>\n",
       "      <td>310.996094</td>\n",
       "      <td>313.404633</td>\n",
       "      <td>0.424890</td>\n",
       "      <td>1.915994</td>\n",
       "    </tr>\n",
       "    <tr>\n",
       "      <th>33</th>\n",
       "      <td>desktoppc</td>\n",
       "      <td>10</td>\n",
       "      <td>5.000000</td>\n",
       "      <td>50.0</td>\n",
       "      <td>225.568051</td>\n",
       "      <td>311.000000</td>\n",
       "      <td>312.555817</td>\n",
       "      <td>0.441149</td>\n",
       "      <td>8.763206</td>\n",
       "    </tr>\n",
       "    <tr>\n",
       "      <th>25</th>\n",
       "      <td>powersupply</td>\n",
       "      <td>40</td>\n",
       "      <td>4.975000</td>\n",
       "      <td>50.0</td>\n",
       "      <td>223.176286</td>\n",
       "      <td>311.000000</td>\n",
       "      <td>319.441345</td>\n",
       "      <td>0.444151</td>\n",
       "      <td>15.653549</td>\n",
       "    </tr>\n",
       "    <tr>\n",
       "      <th>21</th>\n",
       "      <td>shredder</td>\n",
       "      <td>20</td>\n",
       "      <td>5.000000</td>\n",
       "      <td>50.0</td>\n",
       "      <td>223.031208</td>\n",
       "      <td>311.000000</td>\n",
       "      <td>316.905121</td>\n",
       "      <td>0.453243</td>\n",
       "      <td>2.655899</td>\n",
       "    </tr>\n",
       "    <tr>\n",
       "      <th>20</th>\n",
       "      <td>airpump</td>\n",
       "      <td>10</td>\n",
       "      <td>5.000000</td>\n",
       "      <td>50.0</td>\n",
       "      <td>222.603276</td>\n",
       "      <td>311.000000</td>\n",
       "      <td>355.960999</td>\n",
       "      <td>0.474997</td>\n",
       "      <td>2.280667</td>\n",
       "    </tr>\n",
       "    <tr>\n",
       "      <th>3</th>\n",
       "      <td>mixer</td>\n",
       "      <td>40</td>\n",
       "      <td>5.000000</td>\n",
       "      <td>50.0</td>\n",
       "      <td>222.113482</td>\n",
       "      <td>311.000000</td>\n",
       "      <td>317.526947</td>\n",
       "      <td>0.529688</td>\n",
       "      <td>4.280536</td>\n",
       "    </tr>\n",
       "    <tr>\n",
       "      <th>46</th>\n",
       "      <td>sewingmachine</td>\n",
       "      <td>10</td>\n",
       "      <td>5.000000</td>\n",
       "      <td>50.0</td>\n",
       "      <td>225.275386</td>\n",
       "      <td>311.000000</td>\n",
       "      <td>311.818420</td>\n",
       "      <td>0.684412</td>\n",
       "      <td>1.547521</td>\n",
       "    </tr>\n",
       "    <tr>\n",
       "      <th>40</th>\n",
       "      <td>ac</td>\n",
       "      <td>203</td>\n",
       "      <td>3.817734</td>\n",
       "      <td>50.0</td>\n",
       "      <td>220.553985</td>\n",
       "      <td>311.002625</td>\n",
       "      <td>316.487000</td>\n",
       "      <td>0.784237</td>\n",
       "      <td>3.088568</td>\n",
       "    </tr>\n",
       "    <tr>\n",
       "      <th>50</th>\n",
       "      <td>kitchenhood</td>\n",
       "      <td>10</td>\n",
       "      <td>5.000000</td>\n",
       "      <td>50.0</td>\n",
       "      <td>221.283763</td>\n",
       "      <td>311.000000</td>\n",
       "      <td>311.633881</td>\n",
       "      <td>0.896867</td>\n",
       "      <td>4.628629</td>\n",
       "    </tr>\n",
       "    <tr>\n",
       "      <th>39</th>\n",
       "      <td>halogenfluter</td>\n",
       "      <td>10</td>\n",
       "      <td>5.000000</td>\n",
       "      <td>50.0</td>\n",
       "      <td>224.917720</td>\n",
       "      <td>311.000000</td>\n",
       "      <td>325.516113</td>\n",
       "      <td>0.979838</td>\n",
       "      <td>8.032125</td>\n",
       "    </tr>\n",
       "    <tr>\n",
       "      <th>24</th>\n",
       "      <td>treadmill</td>\n",
       "      <td>10</td>\n",
       "      <td>4.500000</td>\n",
       "      <td>50.0</td>\n",
       "      <td>223.886209</td>\n",
       "      <td>311.000000</td>\n",
       "      <td>330.694244</td>\n",
       "      <td>1.072048</td>\n",
       "      <td>10.923021</td>\n",
       "    </tr>\n",
       "    <tr>\n",
       "      <th>49</th>\n",
       "      <td>desoldering</td>\n",
       "      <td>10</td>\n",
       "      <td>4.500000</td>\n",
       "      <td>50.0</td>\n",
       "      <td>221.088785</td>\n",
       "      <td>311.000000</td>\n",
       "      <td>331.033142</td>\n",
       "      <td>1.295481</td>\n",
       "      <td>2.930004</td>\n",
       "    </tr>\n",
       "    <tr>\n",
       "      <th>54</th>\n",
       "      <td>jigsaw</td>\n",
       "      <td>10</td>\n",
       "      <td>5.000000</td>\n",
       "      <td>50.0</td>\n",
       "      <td>224.833190</td>\n",
       "      <td>311.000000</td>\n",
       "      <td>316.010406</td>\n",
       "      <td>1.328274</td>\n",
       "      <td>13.314173</td>\n",
       "    </tr>\n",
       "    <tr>\n",
       "      <th>16</th>\n",
       "      <td>ricecooker</td>\n",
       "      <td>20</td>\n",
       "      <td>5.000000</td>\n",
       "      <td>50.0</td>\n",
       "      <td>220.928645</td>\n",
       "      <td>311.000000</td>\n",
       "      <td>313.507263</td>\n",
       "      <td>1.582148</td>\n",
       "      <td>2.375469</td>\n",
       "    </tr>\n",
       "    <tr>\n",
       "      <th>11</th>\n",
       "      <td>drillingmachine</td>\n",
       "      <td>20</td>\n",
       "      <td>5.000000</td>\n",
       "      <td>50.0</td>\n",
       "      <td>222.513294</td>\n",
       "      <td>311.000000</td>\n",
       "      <td>314.620361</td>\n",
       "      <td>1.629757</td>\n",
       "      <td>14.821306</td>\n",
       "    </tr>\n",
       "    <tr>\n",
       "      <th>4</th>\n",
       "      <td>flatiron</td>\n",
       "      <td>20</td>\n",
       "      <td>5.000000</td>\n",
       "      <td>50.0</td>\n",
       "      <td>220.051648</td>\n",
       "      <td>311.000000</td>\n",
       "      <td>318.743469</td>\n",
       "      <td>1.653777</td>\n",
       "      <td>8.873660</td>\n",
       "    </tr>\n",
       "    <tr>\n",
       "      <th>43</th>\n",
       "      <td>juicemaker</td>\n",
       "      <td>10</td>\n",
       "      <td>4.200000</td>\n",
       "      <td>50.0</td>\n",
       "      <td>224.154148</td>\n",
       "      <td>311.000000</td>\n",
       "      <td>325.705261</td>\n",
       "      <td>1.883074</td>\n",
       "      <td>8.576281</td>\n",
       "    </tr>\n",
       "    <tr>\n",
       "      <th>32</th>\n",
       "      <td>fridge</td>\n",
       "      <td>95</td>\n",
       "      <td>3.589474</td>\n",
       "      <td>50.0</td>\n",
       "      <td>221.053059</td>\n",
       "      <td>311.272705</td>\n",
       "      <td>315.721466</td>\n",
       "      <td>1.904125</td>\n",
       "      <td>5.017950</td>\n",
       "    </tr>\n",
       "    <tr>\n",
       "      <th>13</th>\n",
       "      <td>washingmachine</td>\n",
       "      <td>84</td>\n",
       "      <td>3.892857</td>\n",
       "      <td>50.0</td>\n",
       "      <td>222.387060</td>\n",
       "      <td>310.948517</td>\n",
       "      <td>353.444977</td>\n",
       "      <td>1.980196</td>\n",
       "      <td>8.064653</td>\n",
       "    </tr>\n",
       "    <tr>\n",
       "      <th>10</th>\n",
       "      <td>benchgrinder</td>\n",
       "      <td>10</td>\n",
       "      <td>4.600000</td>\n",
       "      <td>50.0</td>\n",
       "      <td>220.473478</td>\n",
       "      <td>311.000000</td>\n",
       "      <td>320.041687</td>\n",
       "      <td>2.321623</td>\n",
       "      <td>3.729263</td>\n",
       "    </tr>\n",
       "    <tr>\n",
       "      <th>48</th>\n",
       "      <td>waterpump</td>\n",
       "      <td>10</td>\n",
       "      <td>4.500000</td>\n",
       "      <td>50.0</td>\n",
       "      <td>224.130309</td>\n",
       "      <td>311.000000</td>\n",
       "      <td>316.128143</td>\n",
       "      <td>2.622264</td>\n",
       "      <td>14.578077</td>\n",
       "    </tr>\n",
       "    <tr>\n",
       "      <th>47</th>\n",
       "      <td>sandwichmaker</td>\n",
       "      <td>10</td>\n",
       "      <td>5.000000</td>\n",
       "      <td>50.0</td>\n",
       "      <td>220.959381</td>\n",
       "      <td>311.000000</td>\n",
       "      <td>322.194641</td>\n",
       "      <td>3.068699</td>\n",
       "      <td>4.477894</td>\n",
       "    </tr>\n",
       "    <tr>\n",
       "      <th>17</th>\n",
       "      <td>hairdryer</td>\n",
       "      <td>314</td>\n",
       "      <td>2.503185</td>\n",
       "      <td>50.0</td>\n",
       "      <td>220.920374</td>\n",
       "      <td>311.000488</td>\n",
       "      <td>317.593262</td>\n",
       "      <td>3.161906</td>\n",
       "      <td>5.234065</td>\n",
       "    </tr>\n",
       "    <tr>\n",
       "      <th>12</th>\n",
       "      <td>laserprinter</td>\n",
       "      <td>10</td>\n",
       "      <td>5.000000</td>\n",
       "      <td>50.0</td>\n",
       "      <td>224.469085</td>\n",
       "      <td>311.000000</td>\n",
       "      <td>315.459076</td>\n",
       "      <td>3.269232</td>\n",
       "      <td>20.497520</td>\n",
       "    </tr>\n",
       "    <tr>\n",
       "      <th>5</th>\n",
       "      <td>microwave</td>\n",
       "      <td>229</td>\n",
       "      <td>3.532751</td>\n",
       "      <td>50.0</td>\n",
       "      <td>221.229790</td>\n",
       "      <td>311.142609</td>\n",
       "      <td>319.383514</td>\n",
       "      <td>3.524413</td>\n",
       "      <td>18.704264</td>\n",
       "    </tr>\n",
       "    <tr>\n",
       "      <th>22</th>\n",
       "      <td>toaster</td>\n",
       "      <td>50</td>\n",
       "      <td>4.920000</td>\n",
       "      <td>50.0</td>\n",
       "      <td>221.860189</td>\n",
       "      <td>311.000000</td>\n",
       "      <td>322.869171</td>\n",
       "      <td>3.653614</td>\n",
       "      <td>5.389866</td>\n",
       "    </tr>\n",
       "    <tr>\n",
       "      <th>51</th>\n",
       "      <td>heater</td>\n",
       "      <td>95</td>\n",
       "      <td>2.263158</td>\n",
       "      <td>50.0</td>\n",
       "      <td>220.782759</td>\n",
       "      <td>311.078278</td>\n",
       "      <td>324.085907</td>\n",
       "      <td>3.746268</td>\n",
       "      <td>5.670637</td>\n",
       "    </tr>\n",
       "    <tr>\n",
       "      <th>23</th>\n",
       "      <td>coffeemachine</td>\n",
       "      <td>20</td>\n",
       "      <td>5.000000</td>\n",
       "      <td>50.0</td>\n",
       "      <td>219.775921</td>\n",
       "      <td>311.000000</td>\n",
       "      <td>314.233948</td>\n",
       "      <td>4.085841</td>\n",
       "      <td>6.015037</td>\n",
       "    </tr>\n",
       "    <tr>\n",
       "      <th>31</th>\n",
       "      <td>vacuumcleaner</td>\n",
       "      <td>113</td>\n",
       "      <td>2.778761</td>\n",
       "      <td>50.0</td>\n",
       "      <td>221.617873</td>\n",
       "      <td>311.000000</td>\n",
       "      <td>323.890686</td>\n",
       "      <td>4.489375</td>\n",
       "      <td>22.310694</td>\n",
       "    </tr>\n",
       "    <tr>\n",
       "      <th>7</th>\n",
       "      <td>iron</td>\n",
       "      <td>50</td>\n",
       "      <td>5.000000</td>\n",
       "      <td>50.0</td>\n",
       "      <td>221.008089</td>\n",
       "      <td>311.000000</td>\n",
       "      <td>319.752167</td>\n",
       "      <td>5.930231</td>\n",
       "      <td>8.746660</td>\n",
       "    </tr>\n",
       "    <tr>\n",
       "      <th>41</th>\n",
       "      <td>deepfryer</td>\n",
       "      <td>10</td>\n",
       "      <td>4.000000</td>\n",
       "      <td>50.0</td>\n",
       "      <td>223.821179</td>\n",
       "      <td>311.000000</td>\n",
       "      <td>324.570374</td>\n",
       "      <td>6.287257</td>\n",
       "      <td>9.008908</td>\n",
       "    </tr>\n",
       "    <tr>\n",
       "      <th>26</th>\n",
       "      <td>waterheater</td>\n",
       "      <td>40</td>\n",
       "      <td>5.000000</td>\n",
       "      <td>50.0</td>\n",
       "      <td>220.594520</td>\n",
       "      <td>311.000000</td>\n",
       "      <td>316.375854</td>\n",
       "      <td>7.612354</td>\n",
       "      <td>11.267939</td>\n",
       "    </tr>\n",
       "    <tr>\n",
       "      <th>8</th>\n",
       "      <td>kettle</td>\n",
       "      <td>89</td>\n",
       "      <td>5.000000</td>\n",
       "      <td>50.0</td>\n",
       "      <td>220.416364</td>\n",
       "      <td>311.000000</td>\n",
       "      <td>317.752228</td>\n",
       "      <td>8.003886</td>\n",
       "      <td>11.818354</td>\n",
       "    </tr>\n",
       "    <tr>\n",
       "      <th>34</th>\n",
       "      <td>fanheater</td>\n",
       "      <td>10</td>\n",
       "      <td>5.000000</td>\n",
       "      <td>50.0</td>\n",
       "      <td>225.000339</td>\n",
       "      <td>311.000000</td>\n",
       "      <td>348.411957</td>\n",
       "      <td>8.490986</td>\n",
       "      <td>12.252470</td>\n",
       "    </tr>\n",
       "    <tr>\n",
       "      <th>29</th>\n",
       "      <td>stove</td>\n",
       "      <td>10</td>\n",
       "      <td>5.000000</td>\n",
       "      <td>50.0</td>\n",
       "      <td>216.459979</td>\n",
       "      <td>311.000000</td>\n",
       "      <td>315.869263</td>\n",
       "      <td>9.312269</td>\n",
       "      <td>13.810110</td>\n",
       "    </tr>\n",
       "  </tbody>\n",
       "</table>\n",
       "</div>"
      ],
      "text/plain": [
       "                label  count    t_mean  v_f_mean  v_rms_mean   v_st_mean  \\\n",
       "30      networkswitch     10  5.000000      50.0  221.333292  310.991638   \n",
       "53         cablemodem     10  5.000000      50.0  221.358292  310.989410   \n",
       "18  mosquitorepellent     10  5.000000      50.0  224.166802  311.000000   \n",
       "9       cablereceiver     10  5.000000      50.0  221.317619  310.991425   \n",
       "42         shoewarmer     20  5.000000      50.0  223.920235  311.000000   \n",
       "14            halogen     10  5.000000      50.0  218.082590  311.000000   \n",
       "19            charger     70  5.000000      50.0  222.866301  311.000000   \n",
       "44                cfl    180  1.972222      50.0  220.809793  311.000000   \n",
       "15        gameconsole     40  5.000000      50.0  223.858768  311.000000   \n",
       "1             massage     30  4.666667      50.0  222.181011  311.000000   \n",
       "52          guitaramp     10  5.000000      50.0  224.053533  311.000000   \n",
       "2           lightbulb    217  2.953917      50.0  220.441860  311.000000   \n",
       "28             laptop    218  2.752294      50.0  220.617483  311.003235   \n",
       "35            monitor     20  5.000000      50.0  220.676580  311.000000   \n",
       "45          projector     10  4.600000      50.0  220.043358  311.000000   \n",
       "0                 fan    270  2.896296      50.0  220.804083  310.999298   \n",
       "38      solderingiron     20  4.500000      50.0  221.628901  311.000000   \n",
       "36          multitool     10  5.000000      50.0  219.769883  311.000000   \n",
       "6            ledlight     90  4.833333      50.0  222.208927  311.000000   \n",
       "37               hifi     10  5.000000      50.0  225.147812  311.000000   \n",
       "27                 tv     40  5.000000      50.0  220.539444  310.996094   \n",
       "33          desktoppc     10  5.000000      50.0  225.568051  311.000000   \n",
       "25        powersupply     40  4.975000      50.0  223.176286  311.000000   \n",
       "21           shredder     20  5.000000      50.0  223.031208  311.000000   \n",
       "20            airpump     10  5.000000      50.0  222.603276  311.000000   \n",
       "3               mixer     40  5.000000      50.0  222.113482  311.000000   \n",
       "46      sewingmachine     10  5.000000      50.0  225.275386  311.000000   \n",
       "40                 ac    203  3.817734      50.0  220.553985  311.002625   \n",
       "50        kitchenhood     10  5.000000      50.0  221.283763  311.000000   \n",
       "39      halogenfluter     10  5.000000      50.0  224.917720  311.000000   \n",
       "24          treadmill     10  4.500000      50.0  223.886209  311.000000   \n",
       "49        desoldering     10  4.500000      50.0  221.088785  311.000000   \n",
       "54             jigsaw     10  5.000000      50.0  224.833190  311.000000   \n",
       "16         ricecooker     20  5.000000      50.0  220.928645  311.000000   \n",
       "11    drillingmachine     20  5.000000      50.0  222.513294  311.000000   \n",
       "4            flatiron     20  5.000000      50.0  220.051648  311.000000   \n",
       "43         juicemaker     10  4.200000      50.0  224.154148  311.000000   \n",
       "32             fridge     95  3.589474      50.0  221.053059  311.272705   \n",
       "13     washingmachine     84  3.892857      50.0  222.387060  310.948517   \n",
       "10       benchgrinder     10  4.600000      50.0  220.473478  311.000000   \n",
       "48          waterpump     10  4.500000      50.0  224.130309  311.000000   \n",
       "47      sandwichmaker     10  5.000000      50.0  220.959381  311.000000   \n",
       "17          hairdryer    314  2.503185      50.0  220.920374  311.000488   \n",
       "12       laserprinter     10  5.000000      50.0  224.469085  311.000000   \n",
       "5           microwave    229  3.532751      50.0  221.229790  311.142609   \n",
       "22            toaster     50  4.920000      50.0  221.860189  311.000000   \n",
       "51             heater     95  2.263158      50.0  220.782759  311.078278   \n",
       "23      coffeemachine     20  5.000000      50.0  219.775921  311.000000   \n",
       "31      vacuumcleaner    113  2.778761      50.0  221.617873  311.000000   \n",
       "7                iron     50  5.000000      50.0  221.008089  311.000000   \n",
       "41          deepfryer     10  4.000000      50.0  223.821179  311.000000   \n",
       "26        waterheater     40  5.000000      50.0  220.594520  311.000000   \n",
       "8              kettle     89  5.000000      50.0  220.416364  311.000000   \n",
       "34          fanheater     10  5.000000      50.0  225.000339  311.000000   \n",
       "29              stove     10  5.000000      50.0  216.459979  311.000000   \n",
       "\n",
       "    v_max_mean  c_rms_mean  c_max_mean  \n",
       "30  314.555542    0.044449    4.391113  \n",
       "53  311.572021    0.047858    3.738371  \n",
       "18  317.298981    0.054458    0.329826  \n",
       "9   311.481110    0.070503    2.752827  \n",
       "42  313.034973    0.102506    0.401527  \n",
       "14  312.246765    0.110671    0.584169  \n",
       "19  316.860779    0.111503    3.567132  \n",
       "44  313.977936    0.116555    2.611354  \n",
       "15  320.795441    0.150023    0.633523  \n",
       "1   329.120636    0.155939    0.944853  \n",
       "52  312.582825    0.172084    3.965197  \n",
       "2   316.647766    0.198528    1.619203  \n",
       "28  313.996490    0.210159    2.452341  \n",
       "35  324.135284    0.252738    1.376279  \n",
       "45  314.169983    0.266011   13.277807  \n",
       "0   316.386505    0.297326    0.735803  \n",
       "38  324.869110    0.307301    3.786227  \n",
       "36  333.470154    0.348821    2.441481  \n",
       "6   326.339355    0.414184    7.036120  \n",
       "37  311.703857    0.417109    8.761902  \n",
       "27  313.404633    0.424890    1.915994  \n",
       "33  312.555817    0.441149    8.763206  \n",
       "25  319.441345    0.444151   15.653549  \n",
       "21  316.905121    0.453243    2.655899  \n",
       "20  355.960999    0.474997    2.280667  \n",
       "3   317.526947    0.529688    4.280536  \n",
       "46  311.818420    0.684412    1.547521  \n",
       "40  316.487000    0.784237    3.088568  \n",
       "50  311.633881    0.896867    4.628629  \n",
       "39  325.516113    0.979838    8.032125  \n",
       "24  330.694244    1.072048   10.923021  \n",
       "49  331.033142    1.295481    2.930004  \n",
       "54  316.010406    1.328274   13.314173  \n",
       "16  313.507263    1.582148    2.375469  \n",
       "11  314.620361    1.629757   14.821306  \n",
       "4   318.743469    1.653777    8.873660  \n",
       "43  325.705261    1.883074    8.576281  \n",
       "32  315.721466    1.904125    5.017950  \n",
       "13  353.444977    1.980196    8.064653  \n",
       "10  320.041687    2.321623    3.729263  \n",
       "48  316.128143    2.622264   14.578077  \n",
       "47  322.194641    3.068699    4.477894  \n",
       "17  317.593262    3.161906    5.234065  \n",
       "12  315.459076    3.269232   20.497520  \n",
       "5   319.383514    3.524413   18.704264  \n",
       "22  322.869171    3.653614    5.389866  \n",
       "51  324.085907    3.746268    5.670637  \n",
       "23  314.233948    4.085841    6.015037  \n",
       "31  323.890686    4.489375   22.310694  \n",
       "7   319.752167    5.930231    8.746660  \n",
       "41  324.570374    6.287257    9.008908  \n",
       "26  316.375854    7.612354   11.267939  \n",
       "8   317.752228    8.003886   11.818354  \n",
       "34  348.411957    8.490986   12.252470  \n",
       "29  315.869263    9.312269   13.810110  "
      ]
     },
     "execution_count": 66,
     "metadata": {},
     "output_type": "execute_result"
    }
   ],
   "source": [
    "df = describe(patterns)\n",
    "df"
   ]
  },
  {
   "cell_type": "code",
   "execution_count": 67,
   "metadata": {
    "ExecuteTime": {
     "end_time": "2021-06-04T07:43:16.128373Z",
     "start_time": "2021-06-04T07:43:16.120164Z"
    }
   },
   "outputs": [
    {
     "data": {
      "text/plain": [
       "{'networkswitch': 0.37344606816768644,\n",
       " 'mosquitorepellent': 0.3894323207437992,\n",
       " 'shoewarmer': 0.41478499323129653,\n",
       " 'halogen': 0.43137606233358383,\n",
       " 'cablemodem': 0.4913441389799118,\n",
       " 'cablereceiver': 0.6324312508106231,\n",
       " 'charger': 0.6610807806253434,\n",
       " 'gameconsole': 0.7593452513217926,\n",
       " 'cfl': 0.8050073325634003,\n",
       " 'massage': 0.9487477302551269}"
      ]
     },
     "execution_count": 67,
     "metadata": {},
     "output_type": "execute_result"
    }
   ],
   "source": [
    "# Select F1-values for top10 appliances with lower RMS current\n",
    "f1_values = {k[3:]: v for k, v in test_log[0].items() if k.startswith(\n",
    "    \"f1_\") and k[3:] in df.iloc[:10][\"label\"].values}\n",
    "f1_values"
   ]
  },
  {
   "cell_type": "markdown",
   "metadata": {},
   "source": [
    "### Plot "
   ]
  },
  {
   "cell_type": "code",
   "execution_count": 68,
   "metadata": {
    "ExecuteTime": {
     "end_time": "2021-06-04T07:43:16.405187Z",
     "start_time": "2021-06-04T07:43:16.129236Z"
    }
   },
   "outputs": [
    {
     "data": {
      "image/png": "[encoded data removed]",
      "text/plain": [
       "<Figure size 576x360 with 1 Axes>"
      ]
     },
     "metadata": {},
     "output_type": "display_data"
    }
   ],
   "source": [
    "# Plot appliances\n",
    "mask = df[\"label\"].isin(df.iloc[:10][\"label\"])\n",
    "plt.figure(figsize=(8, 5))\n",
    "bins = plt.barh(df[mask][\"label\"].iloc[::-1], df[mask]\n",
    "                [\"c_rms_mean\"].iloc[::-1])\n",
    "# Bind F1-scores\n",
    "for i, label in enumerate(df[mask].label.iloc[::-1].values):\n",
    "    bins[i].set_alpha(f1_values[label])\n",
    "    height = bins[i].get_height()\n",
    "    width = bins[i].get_width()\n",
    "    plt.text(width+0.008, bins[i].get_y() + bins[i].get_height()/2,\n",
    "             \"%.2f\" % f1_values[label],\n",
    "             ha=\"center\", va=\"center\", rotation=0, fontsize=14)\n",
    "plt.xlabel(\"Mean RMS current, A\", fontsize=14)\n",
    "plt.xticks(rotation=0, fontsize=14)\n",
    "plt.yticks(rotation=0, fontsize=14)\n",
    "plt.savefig(\"./plots/top10.svg\", bbox_inches=\"tight\")\n",
    "plt.show()"
   ]
  },
  {
   "cell_type": "markdown",
   "metadata": {},
   "source": [
    "### Visual comparison of signatures"
   ]
  },
  {
   "cell_type": "code",
   "execution_count": 33,
   "metadata": {
    "ExecuteTime": {
     "end_time": "2021-06-04T06:16:55.053557Z",
     "start_time": "2021-06-04T06:16:54.708235Z"
    }
   },
   "outputs": [
    {
     "data": {
      "image/png": "[encoded data removed]",
      "text/plain": [
       "<Figure size 1080x576 with 1 Axes>"
      ]
     },
     "metadata": {},
     "output_type": "display_data"
    },
    {
     "data": {
      "image/png": "[encoded data removed]",
      "text/plain": [
       "<Figure size 1080x576 with 1 Axes>"
      ]
     },
     "metadata": {},
     "output_type": "display_data"
    },
    {
     "data": {
      "image/png": "[encoded data removed]",
      "text/plain": [
       "<Figure size 1080x576 with 1 Axes>"
      ]
     },
     "metadata": {},
     "output_type": "display_data"
    }
   ],
   "source": [
    "fan = patterns[\"fan\"][\"current\"]\n",
    "ac = patterns[\"ac\"][\"current\"]\n",
    "kettle = patterns[\"fanheater\"][\"current\"]\n",
    "\n",
    "np.random.seed(random_seed)\n",
    "i = np.random.randint(min(len(fan), len(ac), len(kettle)))\n",
    "\n",
    "plt.figure(figsize=(15, 8))\n",
    "plt.plot(fan[i][2000:2200])\n",
    "plt.title(\"fan\", fontsize=14)\n",
    "plt.show()\n",
    "\n",
    "plt.figure(figsize=(15, 8))\n",
    "plt.plot(ac[i][2000:2200])\n",
    "plt.title(\"ac\", fontsize=14)\n",
    "plt.show()\n",
    "\n",
    "plt.figure(figsize=(15, 8))\n",
    "plt.plot(kettle[i][2000:2200])\n",
    "plt.title(\"kettle\", fontsize=14)\n",
    "plt.show()"
   ]
  }
 ],
 "metadata": {
  "kernelspec": {
   "display_name": "Python 3",
   "language": "python",
   "name": "python3"
  },
  "language_info": {
   "codemirror_mode": {
    "name": "ipython",
    "version": 3
   },
   "file_extension": ".py",
   "mimetype": "text/x-python",
   "name": "python",
   "nbconvert_exporter": "python",
   "pygments_lexer": "ipython3",
   "version": "3.8.5"
  },
  "toc": {
   "base_numbering": 1,
   "nav_menu": {},
   "number_sections": true,
   "sideBar": true,
   "skip_h1_title": false,
   "title_cell": "Table of Contents",
   "title_sidebar": "Contents",
   "toc_cell": false,
   "toc_position": {},
   "toc_section_display": true,
   "toc_window_display": false
  }
 },
 "nbformat": 4,
 "nbformat_minor": 4
}
